{
 "cells": [
  {
   "cell_type": "code",
   "execution_count": 1,
   "metadata": {},
   "outputs": [],
   "source": [
    "import numpy as np"
   ]
  },
  {
   "attachments": {},
   "cell_type": "markdown",
   "metadata": {},
   "source": [
    "1- ¿Cómo podemos crear dos arrays de dos dimensiones usando el método random_sample que tengan los mismos valores?"
   ]
  },
  {
   "cell_type": "code",
   "execution_count": 2,
   "metadata": {},
   "outputs": [
    {
     "data": {
      "text/plain": [
       "array([[4.17022005e-01, 7.20324493e-01],\n",
       "       [1.14374817e-04, 3.02332573e-01],\n",
       "       [1.46755891e-01, 9.23385948e-02],\n",
       "       [1.86260211e-01, 3.45560727e-01],\n",
       "       [3.96767474e-01, 5.38816734e-01]])"
      ]
     },
     "execution_count": 2,
     "metadata": {},
     "output_type": "execute_result"
    }
   ],
   "source": [
    "# Utilizando random.seed podemos crear dos arrays con los mismos valores\n",
    "np.random.seed(1)\n",
    "arr1=np.random.rand(5,2)\n",
    "arr1"
   ]
  },
  {
   "cell_type": "code",
   "execution_count": 3,
   "metadata": {},
   "outputs": [
    {
     "data": {
      "text/plain": [
       "array([[4.17022005e-01, 7.20324493e-01],\n",
       "       [1.14374817e-04, 3.02332573e-01],\n",
       "       [1.46755891e-01, 9.23385948e-02],\n",
       "       [1.86260211e-01, 3.45560727e-01],\n",
       "       [3.96767474e-01, 5.38816734e-01]])"
      ]
     },
     "execution_count": 3,
     "metadata": {},
     "output_type": "execute_result"
    }
   ],
   "source": [
    "np.random.seed(1)\n",
    "arr2=np.random.rand(5,2)\n",
    "arr2"
   ]
  },
  {
   "attachments": {},
   "cell_type": "markdown",
   "metadata": {},
   "source": [
    "2- Cread los siguientes arrays:\n",
    "- Un array de tres dimensiones con distribución uniforme de 2 x 3 x 5, con números entre 0 y 10, que no tengan decimales y extrae sus valores únicos almacenándolos en una variable.\n",
    "- Un array de tres dimensiones con distribución binomial de 2 x 3 x 5, con probabilidad de 0.3 y número de pruebas igual a 10. Igual que antes, extrae sus valores únicos y guarda los datos en una variable."
   ]
  },
  {
   "cell_type": "code",
   "execution_count": 4,
   "metadata": {},
   "outputs": [
    {
     "name": "stdout",
     "output_type": "stream",
     "text": [
      "[[[4 6 2 8 0]\n",
      "  [6 4 5 1 1]\n",
      "  [8 9 3 6 8]]\n",
      "\n",
      " [[8 0 0 1 8]\n",
      "  [0 4 9 5 6]\n",
      "  [3 6 8 0 7]]]\n",
      "-----------------------------------\n",
      "[0 1 2 3 4 5 6 7 8 9]\n"
     ]
    }
   ],
   "source": [
    "# Creamos res dimensiones con distribución uniforme de 2 x 3 x 5 con numeros del 0 al 10 de enteros con el método astype\n",
    "array_1 = np.random.uniform(size=(2,3,5), low = 0, high =10).astype(int)\n",
    "print (array_1)\n",
    "print ('-----------------------------------')\n",
    "array_1_unique = np.unique(array_1) #Extraemos los valores únicos con np.unique\n",
    "print(array_1_unique)"
   ]
  },
  {
   "cell_type": "code",
   "execution_count": 5,
   "metadata": {},
   "outputs": [
    {
     "name": "stdout",
     "output_type": "stream",
     "text": [
      "[[[6 4 2 4 1]\n",
      "  [3 5 2 2 1]\n",
      "  [0 4 2 2 3]]\n",
      "\n",
      " [[1 3 1 3 4]\n",
      "  [1 3 4 3 1]\n",
      "  [3 4 3 5 3]]]\n",
      "-----------------------------------\n",
      "[0 1 2 3 4 5 6]\n"
     ]
    }
   ],
   "source": [
    "# Creamos res dimensiones con distribución binomial de 2 x 3 x 5 con probabilidad de 0.3 y 10 pruebas\n",
    "array_2 = np.random.binomial(10, 0.3, size=(2,3,5))\n",
    "print (array_2)\n",
    "print ('-----------------------------------')\n",
    "array_2_unique = np.unique(array_2) #Extraemos los valores únicos con np.unique\n",
    "print(array_2_unique)"
   ]
  },
  {
   "attachments": {},
   "cell_type": "markdown",
   "metadata": {},
   "source": [
    "3- En esta lección hemos aprendido algunos métodos de teórias de conjuntos. Usando los arrays de elementos únicos obtenidos en el ejercicio anterior realizad las siguientes operaciones:\n",
    "- Elementos comunes entre los dos arrays\n",
    "- Unión de los dos arrays\n",
    "- ¿Qué elementos están en el array derivado de la distribución uniforme y no en los únicos de la distribución binomial? Extrae los valores númericos\n",
    "\n",
    "⚠️ Explicar cada uno de los outputs que os salgan. Que significa cada una de estas operaciones que hemos ido extrayendo?\n"
   ]
  },
  {
   "cell_type": "code",
   "execution_count": 6,
   "metadata": {},
   "outputs": [
    {
     "data": {
      "text/plain": [
       "array([0, 1, 2, 3, 4, 5, 6])"
      ]
     },
     "execution_count": 6,
     "metadata": {},
     "output_type": "execute_result"
    }
   ],
   "source": [
    "#Elementos comunes:\n",
    "np.intersect1d(array_1,array_2)\n",
    "# Los elementos que están en ambos arrays los extraemos con intersect1d, estos números están en ambos arrays y lo devuelve como un array ordenado y en valores únicos.\n",
    "# Como en array1 tenemos todos los números del 0 al 9 y en el array2 del 0 al 5, los elementos comunes son del 0 al 6.\n"
   ]
  },
  {
   "cell_type": "code",
   "execution_count": 7,
   "metadata": {},
   "outputs": [
    {
     "data": {
      "text/plain": [
       "array([0, 1, 2, 3, 4, 5, 6, 7, 8, 9])"
      ]
     },
     "execution_count": 7,
     "metadata": {},
     "output_type": "execute_result"
    }
   ],
   "source": [
    "#Unión de los dos arrays\n",
    "np.union1d(array_1,array_2)\n",
    "#Devuelve un array ordenado con valores únicos de los tomando los números que están tanto en un array como en otro.\n",
    "#Al unir ambos arrays, como los valores del array2 están contenidos en el array1 la unión de ambos son los números unicos del array1."
   ]
  },
  {
   "cell_type": "code",
   "execution_count": 8,
   "metadata": {},
   "outputs": [
    {
     "data": {
      "text/plain": [
       "array([7, 8, 9])"
      ]
     },
     "execution_count": 8,
     "metadata": {},
     "output_type": "execute_result"
    }
   ],
   "source": [
    "#Elementos están en el array derivado de la distribución uniforme y no en los únicos de la distribución binomial\n",
    "np.setdiff1d(array_1,array_2_unique)\n",
    "# Devuelve los elementos que se encuentran en el array1 y no se encuentran en los únicos del array2\n",
    "# La diferencia entra ambos son los números que no están en el array2, es decir del 7 al 9."
   ]
  },
  {
   "attachments": {},
   "cell_type": "markdown",
   "metadata": {},
   "source": [
    "4- Cread dos arrays usando el método random.randint de Numpy con 80 elementos cada uno con números del 1-100, con los siguientes nombres array1 y array2. \n",
    "- Extraed los valores únicos de cada uno de los arrays y los guardáis en variables en las que se les llame array1 y array2.\n",
    "- Identificad los elementos presentes en el array1 pero no en el array2 y asiganarlo a una variable que se llame array3.\n",
    "- Identificad los elementos presentes en el array2 pero no en el array1 y asiganarlo a una variable que se llame array4.\n",
    "- Identificad los elementos presentes en ambos arrays y asiganarlos a una variable que se llame array5.\n",
    "- ¿Cuál es la relación que existe entre todos estos arrays? 💡 Pista 💡 Tendréis que usar las longitudes de cada uno de los arrays creados."
   ]
  },
  {
   "cell_type": "code",
   "execution_count": 9,
   "metadata": {},
   "outputs": [
    {
     "name": "stdout",
     "output_type": "stream",
     "text": [
      "[ 8 78 73 76 77 44 21 31 37  8 46 69 58 83 97 14 11 24 82  8 25 75 93 21\n",
      " 33 13 66 95 61 25 83 98  3 93 99 11 55 97 83 87 71 67 72 49 55 16  6 18\n",
      " 43 21 49 23 14 98 54 85 11 97 56 62 57 90 22 97 84 26 15 14 85 44  7 78\n",
      " 57 60 16 25 10 67 72 54]\n",
      "-------------------------------\n",
      "[70 37 22 41 78 92 50 48 78 41 79 46 88 17 29 46 68 67 79 47  1 30 64 76\n",
      " 36 54 94 34  3 85 84 49 55 33 29 56 83 32 29 95 75  9 33  9 85 78 51 80\n",
      " 42 65 84 25 21 45 16 31 92 15 20 27 87  8 54 48 61 35 33 20 68 25 84 95\n",
      " 39 48  6 80 64 88 33 43]\n"
     ]
    }
   ],
   "source": [
    "array1 = np.random.randint(1,100,(80))\n",
    "print(array1)\n",
    "print ('-------------------------------')\n",
    "array2 = np.random.randint(1,100,(80))\n",
    "print(array2)"
   ]
  },
  {
   "cell_type": "code",
   "execution_count": 10,
   "metadata": {},
   "outputs": [
    {
     "name": "stdout",
     "output_type": "stream",
     "text": [
      "[ 3  6  7  8 10 11 13 14 15 16 18 21 22 23 24 25 26 31 33 37 43 44 46 49\n",
      " 54 55 56 57 58 60 61 62 66 67 69 71 72 73 75 76 77 78 82 83 84 85 87 90\n",
      " 93 95 97 98 99]\n",
      "-------------------------------\n",
      "[ 1  3  6  8  9 15 16 17 20 21 22 25 27 29 30 31 32 33 34 35 36 37 39 41\n",
      " 42 43 45 46 47 48 49 50 51 54 55 56 61 64 65 67 68 70 75 76 78 79 80 83\n",
      " 84 85 87 88 92 94 95]\n"
     ]
    }
   ],
   "source": [
    "#Valores únicos\n",
    "array1= np.unique(array1)\n",
    "print(array1)\n",
    "print ('-------------------------------')\n",
    "array2= np.unique(array2)\n",
    "print(array2)"
   ]
  },
  {
   "cell_type": "code",
   "execution_count": 11,
   "metadata": {},
   "outputs": [
    {
     "data": {
      "text/plain": [
       "array([ 7, 10, 11, 13, 14, 18, 23, 24, 26, 44, 57, 58, 60, 62, 66, 69, 71,\n",
       "       72, 73, 77, 82, 90, 93, 97, 98, 99])"
      ]
     },
     "execution_count": 11,
     "metadata": {},
     "output_type": "execute_result"
    }
   ],
   "source": [
    "# Diferencia del array1 y el array2\n",
    "array3 = np.setdiff1d(array1,array2)\n",
    "array3"
   ]
  },
  {
   "cell_type": "code",
   "execution_count": 12,
   "metadata": {},
   "outputs": [
    {
     "data": {
      "text/plain": [
       "array([ 1,  9, 17, 20, 27, 29, 30, 32, 34, 35, 36, 39, 41, 42, 45, 47, 48,\n",
       "       50, 51, 64, 65, 68, 70, 79, 80, 88, 92, 94])"
      ]
     },
     "execution_count": 12,
     "metadata": {},
     "output_type": "execute_result"
    }
   ],
   "source": [
    "# Diferencia del array2 y el array1\n",
    "array4 = np.setdiff1d(array2,array1)\n",
    "array4"
   ]
  },
  {
   "cell_type": "code",
   "execution_count": 13,
   "metadata": {},
   "outputs": [
    {
     "data": {
      "text/plain": [
       "array([ 1,  3,  6,  7,  8,  9, 10, 11, 13, 14, 15, 16, 17, 18, 20, 21, 22,\n",
       "       23, 24, 25, 26, 27, 29, 30, 31, 32, 33, 34, 35, 36, 37, 39, 41, 42,\n",
       "       43, 44, 45, 46, 47, 48, 49, 50, 51, 54, 55, 56, 57, 58, 60, 61, 62,\n",
       "       64, 65, 66, 67, 68, 69, 70, 71, 72, 73, 75, 76, 77, 78, 79, 80, 82,\n",
       "       83, 84, 85, 87, 88, 90, 92, 93, 94, 95, 97, 98, 99])"
      ]
     },
     "execution_count": 13,
     "metadata": {},
     "output_type": "execute_result"
    }
   ],
   "source": [
    "# Union de los 2\n",
    "array5 =np.union1d(array1,array2)\n",
    "array5"
   ]
  },
  {
   "cell_type": "code",
   "execution_count": 14,
   "metadata": {},
   "outputs": [
    {
     "data": {
      "text/plain": [
       "53"
      ]
     },
     "execution_count": 14,
     "metadata": {},
     "output_type": "execute_result"
    }
   ],
   "source": [
    "# Valores únicos del 1\n",
    "len(array1)"
   ]
  },
  {
   "cell_type": "code",
   "execution_count": 15,
   "metadata": {},
   "outputs": [
    {
     "data": {
      "text/plain": [
       "55"
      ]
     },
     "execution_count": 15,
     "metadata": {},
     "output_type": "execute_result"
    }
   ],
   "source": [
    "# Valores únicos del 2\n",
    "len(array2)"
   ]
  },
  {
   "cell_type": "code",
   "execution_count": 16,
   "metadata": {},
   "outputs": [
    {
     "data": {
      "text/plain": [
       "26"
      ]
     },
     "execution_count": 16,
     "metadata": {},
     "output_type": "execute_result"
    }
   ],
   "source": [
    "#Diferentes, los que están en el 1 pero no en el 2\n",
    "len(array3)"
   ]
  },
  {
   "cell_type": "code",
   "execution_count": 17,
   "metadata": {},
   "outputs": [
    {
     "data": {
      "text/plain": [
       "28"
      ]
     },
     "execution_count": 17,
     "metadata": {},
     "output_type": "execute_result"
    }
   ],
   "source": [
    "#Diferentes, los que están en el 2 pero no en el 1\n",
    "len(array4)"
   ]
  },
  {
   "cell_type": "code",
   "execution_count": 18,
   "metadata": {},
   "outputs": [
    {
     "data": {
      "text/plain": [
       "81"
      ]
     },
     "execution_count": 18,
     "metadata": {},
     "output_type": "execute_result"
    }
   ],
   "source": [
    "# Union de ambos\n",
    "len(array5)"
   ]
  },
  {
   "cell_type": "code",
   "execution_count": 19,
   "metadata": {},
   "outputs": [
    {
     "data": {
      "text/plain": [
       "True"
      ]
     },
     "execution_count": 19,
     "metadata": {},
     "output_type": "execute_result"
    }
   ],
   "source": [
    "# La len o size del array1 más lo que está en el array2 pero no en el array1 es igual a la len o size de la unión de ambos\n",
    "len(array1) + len(array4) == len(array5)"
   ]
  },
  {
   "cell_type": "code",
   "execution_count": 20,
   "metadata": {},
   "outputs": [
    {
     "data": {
      "text/plain": [
       "True"
      ]
     },
     "execution_count": 20,
     "metadata": {},
     "output_type": "execute_result"
    }
   ],
   "source": [
    "# La len o size del array2 más lo que está en el array1 pero no en el array2 es igual a la len o size de la unión de ambos\n",
    "len(array2) + len(array3) == len(array5)"
   ]
  },
  {
   "attachments": {},
   "cell_type": "markdown",
   "metadata": {},
   "source": [
    "Con los métodos de union y diferencia entre arrays como solo devuelve valores únicos es como utilizar operaciones matemáticas:\n",
    "- setdiff1d: resta los arrays teniendo en cuenta el orden de los factores\n",
    "- union1d: suma los arrays\n",
    "\n",
    "Lo podemos ver en que la longitud del union se corresponde con la suma de la len del array1 y de la len de la diferencia del array2 con el array1, y con las len del array2 y de la diferencia de la len del 1 con el 2.\n"
   ]
  }
 ],
 "metadata": {
  "kernelspec": {
   "display_name": "base",
   "language": "python",
   "name": "python3"
  },
  "language_info": {
   "codemirror_mode": {
    "name": "ipython",
    "version": 3
   },
   "file_extension": ".py",
   "mimetype": "text/x-python",
   "name": "python",
   "nbconvert_exporter": "python",
   "pygments_lexer": "ipython3",
   "version": "3.9.13"
  },
  "orig_nbformat": 4,
  "vscode": {
   "interpreter": {
    "hash": "85c042135e83639dad74b6ec6c9d943b5dc47ca281624d931a3e14168052f53c"
   }
  }
 },
 "nbformat": 4,
 "nbformat_minor": 2
}
