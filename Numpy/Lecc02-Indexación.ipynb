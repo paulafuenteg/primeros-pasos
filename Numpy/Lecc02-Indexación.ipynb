{
 "cells": [
  {
   "cell_type": "markdown",
   "metadata": {},
   "source": [
    "1- Cread un array de dos dimensiones de 5 filas y 3 columnas. Sobre el array creado anteriormente, extraed:\n",
    "- El valor de la primera fila y la segunda columna.\n",
    "- Los valores de la segunda fila y las dos primeras columnas.\n",
    "- Extraed las filas pares (incluyendo la 0) y todas las columnas.\n",
    "- Extraed los valores que sean mayores que 0.5.\n",
    "- Extraed los valores menores que 0.2 o mayores que 0.5"
   ]
  },
  {
   "cell_type": "code",
   "execution_count": 1,
   "metadata": {},
   "outputs": [],
   "source": [
    "import numpy as np"
   ]
  },
  {
   "cell_type": "code",
   "execution_count": 2,
   "metadata": {},
   "outputs": [
    {
     "data": {
      "text/plain": [
       "array([[0.23844571, 0.06981108, 0.63521506],\n",
       "       [0.46916144, 0.29676282, 0.18476016],\n",
       "       [0.18807122, 0.58261785, 0.74889921],\n",
       "       [0.40289236, 0.16589811, 0.22853072],\n",
       "       [0.7838223 , 0.66686213, 0.86394446]])"
      ]
     },
     "execution_count": 2,
     "metadata": {},
     "output_type": "execute_result"
    }
   ],
   "source": [
    "array1 = np.random.rand(5,3)\n",
    "array1"
   ]
  },
  {
   "cell_type": "code",
   "execution_count": 3,
   "metadata": {},
   "outputs": [
    {
     "data": {
      "text/plain": [
       "0.1847601644217255"
      ]
     },
     "execution_count": 3,
     "metadata": {},
     "output_type": "execute_result"
    }
   ],
   "source": [
    "#Primera fila y segunda columna\n",
    "array1[1,2]"
   ]
  },
  {
   "cell_type": "code",
   "execution_count": 4,
   "metadata": {},
   "outputs": [
    {
     "data": {
      "text/plain": [
       "array([0.18807122, 0.58261785])"
      ]
     },
     "execution_count": 4,
     "metadata": {},
     "output_type": "execute_result"
    }
   ],
   "source": [
    "#Valores de la segunda fila y las dos primeras columnas\n",
    "array1[2,0:2]"
   ]
  },
  {
   "cell_type": "code",
   "execution_count": 5,
   "metadata": {},
   "outputs": [
    {
     "data": {
      "text/plain": [
       "array([[0.23844571, 0.06981108, 0.63521506],\n",
       "       [0.18807122, 0.58261785, 0.74889921],\n",
       "       [0.7838223 , 0.66686213, 0.86394446]])"
      ]
     },
     "execution_count": 5,
     "metadata": {},
     "output_type": "execute_result"
    }
   ],
   "source": [
    "#Filas pares incluyendo 0 y todas las columnas\n",
    "array1[::2,:]"
   ]
  },
  {
   "cell_type": "code",
   "execution_count": 6,
   "metadata": {},
   "outputs": [
    {
     "data": {
      "text/plain": [
       "array([0.63521506, 0.58261785, 0.74889921, 0.7838223 , 0.66686213,\n",
       "       0.86394446])"
      ]
     },
     "execution_count": 6,
     "metadata": {},
     "output_type": "execute_result"
    }
   ],
   "source": [
    "#Valores mayores de 0,5\n",
    "array1[array1>0.5]"
   ]
  },
  {
   "cell_type": "code",
   "execution_count": 7,
   "metadata": {},
   "outputs": [
    {
     "data": {
      "text/plain": [
       "array([0.06981108, 0.63521506, 0.18476016, 0.18807122, 0.58261785,\n",
       "       0.74889921, 0.16589811, 0.7838223 , 0.66686213, 0.86394446])"
      ]
     },
     "execution_count": 7,
     "metadata": {},
     "output_type": "execute_result"
    }
   ],
   "source": [
    "#Valores menores que 0,2 y mayores de 0,5\n",
    "array1[(array1<0.2)|(array1>0.5)]"
   ]
  },
  {
   "cell_type": "markdown",
   "metadata": {},
   "source": [
    "2. Cread dos array de tres dimensiones:\n",
    "- El primero de 2 matrices, 5 filas y 3 columnas.\n",
    "- El segundo de 3 matrices, 2 filas y 5 columnas\n",
    "- Haced un análisis exploratorio de los array creados. Recordad que en el ejercicio de ayer nos creamos una función para esto.\n",
    "- Sumad los dos arrays. ¿Podéis? ¿Por qué?\n",
    "- Para cambiar la forma de un array y poder hacer operaciones entre arrays que tienen distintas formas hemos aprendido dos métodos:\n",
    ".reshape()\n",
    ".transpose()\n",
    "Utiliza estas dos funciones para cambiar la forma de los array y hacer operaciones entre ellos."
   ]
  },
  {
   "cell_type": "code",
   "execution_count": 8,
   "metadata": {},
   "outputs": [
    {
     "data": {
      "text/plain": [
       "array([[[0.9824937 , 0.4953007 , 0.7000378 ],\n",
       "        [0.61852029, 0.93312706, 0.34382488],\n",
       "        [0.61561196, 0.68997893, 0.64310807],\n",
       "        [0.80301769, 0.7077403 , 0.6811093 ],\n",
       "        [0.72212378, 0.59805614, 0.8203058 ]],\n",
       "\n",
       "       [[0.81260771, 0.86067712, 0.06799255],\n",
       "        [0.40836545, 0.67137541, 0.35367683],\n",
       "        [0.99040062, 0.2913153 , 0.34030878],\n",
       "        [0.04630584, 0.72360106, 0.98843353],\n",
       "        [0.95033697, 0.18391872, 0.38517101]]])"
      ]
     },
     "execution_count": 8,
     "metadata": {},
     "output_type": "execute_result"
    }
   ],
   "source": [
    "array2 = np.random.rand(2,5,3)\n",
    "array2"
   ]
  },
  {
   "cell_type": "code",
   "execution_count": 9,
   "metadata": {},
   "outputs": [
    {
     "data": {
      "text/plain": [
       "array([[[0.31155242, 0.86864061, 0.1938057 , 0.60083833, 0.70726656],\n",
       "        [0.21781435, 0.20432543, 0.80222647, 0.7544136 , 0.09682637]],\n",
       "\n",
       "       [[0.60745246, 0.51067955, 0.98714957, 0.56704551, 0.41352115],\n",
       "        [0.86210934, 0.09329534, 0.82783187, 0.85027256, 0.23810859]],\n",
       "\n",
       "       [[0.57949819, 0.56755442, 0.68773187, 0.26409788, 0.54887708],\n",
       "        [0.79126772, 0.73671152, 0.56748284, 0.63317314, 0.11387893]]])"
      ]
     },
     "execution_count": 9,
     "metadata": {},
     "output_type": "execute_result"
    }
   ],
   "source": [
    "array3 = np.random.rand(3,2,5)\n",
    "array3"
   ]
  },
  {
   "cell_type": "code",
   "execution_count": 10,
   "metadata": {},
   "outputs": [],
   "source": [
    "#Usamos la función definida en el pair anterior\n",
    "def propiedades(array): \n",
    "    print(f'La forma es {array.shape}')\n",
    "    print(f'El tamaño es {array.size}')\n",
    "    print(f'La dimensión es {array.ndim}')\n",
    "    print(f'El tipo es {array.dtype}')"
   ]
  },
  {
   "cell_type": "code",
   "execution_count": 11,
   "metadata": {},
   "outputs": [
    {
     "name": "stdout",
     "output_type": "stream",
     "text": [
      "La forma es (2, 5, 3)\n",
      "El tamaño es 30\n",
      "La dimensión es 3\n",
      "El tipo es float64\n"
     ]
    }
   ],
   "source": [
    "propiedades(array2)"
   ]
  },
  {
   "cell_type": "code",
   "execution_count": 12,
   "metadata": {},
   "outputs": [
    {
     "name": "stdout",
     "output_type": "stream",
     "text": [
      "La forma es (3, 2, 5)\n",
      "El tamaño es 30\n",
      "La dimensión es 3\n",
      "El tipo es float64\n"
     ]
    }
   ],
   "source": [
    "propiedades(array3)"
   ]
  },
  {
   "cell_type": "code",
   "execution_count": 13,
   "metadata": {},
   "outputs": [
    {
     "ename": "ValueError",
     "evalue": "operands could not be broadcast together with shapes (2,5,3) (3,2,5) ",
     "output_type": "error",
     "traceback": [
      "\u001b[0;31m---------------------------------------------------------------------------\u001b[0m",
      "\u001b[0;31mValueError\u001b[0m                                Traceback (most recent call last)",
      "Cell \u001b[0;32mIn [13], line 1\u001b[0m\n\u001b[0;32m----> 1\u001b[0m array4 \u001b[39m=\u001b[39m np\u001b[39m.\u001b[39;49madd(array2,array3)\n",
      "\u001b[0;31mValueError\u001b[0m: operands could not be broadcast together with shapes (2,5,3) (3,2,5) "
     ]
    }
   ],
   "source": [
    "array4 = np.add(array2,array3)\n",
    "#No se pueden sumar ambos arrays porque no tienen la misma forma"
   ]
  },
  {
   "cell_type": "code",
   "execution_count": 14,
   "metadata": {},
   "outputs": [
    {
     "data": {
      "text/plain": [
       "array([[[0.31155242, 0.86864061, 0.1938057 ],\n",
       "        [0.60083833, 0.70726656, 0.21781435],\n",
       "        [0.20432543, 0.80222647, 0.7544136 ],\n",
       "        [0.09682637, 0.60745246, 0.51067955],\n",
       "        [0.98714957, 0.56704551, 0.41352115]],\n",
       "\n",
       "       [[0.86210934, 0.09329534, 0.82783187],\n",
       "        [0.85027256, 0.23810859, 0.57949819],\n",
       "        [0.56755442, 0.68773187, 0.26409788],\n",
       "        [0.54887708, 0.79126772, 0.73671152],\n",
       "        [0.56748284, 0.63317314, 0.11387893]]])"
      ]
     },
     "execution_count": 14,
     "metadata": {},
     "output_type": "execute_result"
    }
   ],
   "source": [
    "#Cambiamos la forma de array3 con reshape para hacerla igual que array2\n",
    "array3_reshaped = np.reshape(array3, (2,5,3))\n",
    "array3_reshaped"
   ]
  },
  {
   "cell_type": "code",
   "execution_count": 15,
   "metadata": {},
   "outputs": [
    {
     "data": {
      "text/plain": [
       "array([[[1.29404612, 1.36394131, 0.89384351],\n",
       "        [1.21935863, 1.64039362, 0.56163923],\n",
       "        [0.81993739, 1.49220539, 1.39752167],\n",
       "        [0.89984406, 1.31519276, 1.19178885],\n",
       "        [1.70927335, 1.16510165, 1.23382695]],\n",
       "\n",
       "       [[1.67471705, 0.95397246, 0.89582443],\n",
       "        [1.25863801, 0.909484  , 0.93317502],\n",
       "        [1.55795503, 0.97904716, 0.60440665],\n",
       "        [0.59518291, 1.51486878, 1.72514504],\n",
       "        [1.51781981, 0.81709186, 0.49904994]]])"
      ]
     },
     "execution_count": 15,
     "metadata": {},
     "output_type": "execute_result"
    }
   ],
   "source": [
    "#Sumamos\n",
    "array4 = np.add(array2,array3_reshaped)\n",
    "array4"
   ]
  },
  {
   "cell_type": "code",
   "execution_count": 16,
   "metadata": {},
   "outputs": [
    {
     "data": {
      "text/plain": [
       "array([[[0.31155242, 0.60745246, 0.57949819],\n",
       "        [0.86864061, 0.51067955, 0.56755442],\n",
       "        [0.1938057 , 0.98714957, 0.68773187],\n",
       "        [0.60083833, 0.56704551, 0.26409788],\n",
       "        [0.70726656, 0.41352115, 0.54887708]],\n",
       "\n",
       "       [[0.21781435, 0.86210934, 0.79126772],\n",
       "        [0.20432543, 0.09329534, 0.73671152],\n",
       "        [0.80222647, 0.82783187, 0.56748284],\n",
       "        [0.7544136 , 0.85027256, 0.63317314],\n",
       "        [0.09682637, 0.23810859, 0.11387893]]])"
      ]
     },
     "execution_count": 16,
     "metadata": {},
     "output_type": "execute_result"
    }
   ],
   "source": [
    "#Cambiamos la forma de array3 con transposed la posición 1 a la 0, la 2 a la 1 y la 0 a la 2.\n",
    "array3_transposed = np.transpose(array3, (1,2,0))\n",
    "array3_transposed"
   ]
  },
  {
   "cell_type": "code",
   "execution_count": 17,
   "metadata": {},
   "outputs": [
    {
     "data": {
      "text/plain": [
       "array([[[1.29404612, 1.10275317, 1.279536  ],\n",
       "        [1.4871609 , 1.44380661, 0.9113793 ],\n",
       "        [0.80941767, 1.67712849, 1.33083994],\n",
       "        [1.40385603, 1.27478581, 0.94520718],\n",
       "        [1.42939034, 1.01157729, 1.36918288]],\n",
       "\n",
       "       [[1.03042206, 1.72278646, 0.85926028],\n",
       "        [0.61269088, 0.76467075, 1.09038834],\n",
       "        [1.79262709, 1.11914717, 0.90779161],\n",
       "        [0.80071944, 1.57387362, 1.62160667],\n",
       "        [1.04716334, 0.42202731, 0.49904994]]])"
      ]
     },
     "execution_count": 17,
     "metadata": {},
     "output_type": "execute_result"
    }
   ],
   "source": [
    "#Sumamos\n",
    "array5 = np.add(array2,array3_transposed)\n",
    "array5"
   ]
  }
 ],
 "metadata": {
  "kernelspec": {
   "display_name": "Python 3.9.13 ('base')",
   "language": "python",
   "name": "python3"
  },
  "language_info": {
   "codemirror_mode": {
    "name": "ipython",
    "version": 3
   },
   "file_extension": ".py",
   "mimetype": "text/x-python",
   "name": "python",
   "nbconvert_exporter": "python",
   "pygments_lexer": "ipython3",
   "version": "3.9.13"
  },
  "orig_nbformat": 4,
  "vscode": {
   "interpreter": {
    "hash": "85c042135e83639dad74b6ec6c9d943b5dc47ca281624d931a3e14168052f53c"
   }
  }
 },
 "nbformat": 4,
 "nbformat_minor": 2
}
