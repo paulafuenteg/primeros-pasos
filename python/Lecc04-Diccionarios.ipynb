{
 "cells": [
  {
   "cell_type": "code",
   "execution_count": 11,
   "metadata": {},
   "outputs": [],
   "source": [
    "#Definimos diccionario1 con las keys nombres, apellidos, edades e hijos cuyos values serán una lista\n",
    "diccionario1 = {'nombres':[], 'apellidos':[], 'edades':[], 'hijos':[]}"
   ]
  },
  {
   "cell_type": "code",
   "execution_count": 7,
   "metadata": {},
   "outputs": [
    {
     "name": "stdout",
     "output_type": "stream",
     "text": [
      "['Paula', ' Marina', ' Pedro']\n"
     ]
    }
   ],
   "source": [
    "#Pedimos al usuario mediante input 3 nombres y lo comvertimos en lista (separamos la lista por la ',')\n",
    "nombres = input('Dime 3 nombres:')\n",
    "lista_nombres = nombres.split (',')\n",
    "\n",
    "print (lista_nombres)"
   ]
  },
  {
   "cell_type": "code",
   "execution_count": 8,
   "metadata": {},
   "outputs": [
    {
     "name": "stdout",
     "output_type": "stream",
     "text": [
      "['Fuente', ' Ferreras', ' Garcia']\n"
     ]
    }
   ],
   "source": [
    "#Pedimos input apellidos y lo comvertimos en lista (separmos la lista por comas)\n",
    "apellidos = input('Dime sus apellidos:')\n",
    "lista_apellidos = apellidos.split (',')\n",
    "\n",
    "print (lista_apellidos)"
   ]
  },
  {
   "cell_type": "code",
   "execution_count": 2,
   "metadata": {},
   "outputs": [
    {
     "name": "stdout",
     "output_type": "stream",
     "text": [
      "['24', ' 28', ' 32']\n"
     ]
    }
   ],
   "source": [
    "#Pedimos input edades, y comvertimos en lista (separamos la list por comas)\n",
    "edades = input('Sus edades:')\n",
    "lista_edades = edades.split (',')\n",
    "\n",
    "print (lista_edades)"
   ]
  },
  {
   "cell_type": "code",
   "execution_count": 3,
   "metadata": {},
   "outputs": [
    {
     "name": "stdout",
     "output_type": "stream",
     "text": [
      "[24, 28, 32]\n"
     ]
    }
   ],
   "source": [
    "# Convertimos cada índice de lista edades por int\n",
    "lista_edades[0] = int(lista_edades[0])\n",
    "lista_edades[1] = int(lista_edades[1])\n",
    "lista_edades[2] = int(lista_edades[2])\n",
    "\n",
    "print (lista_edades)"
   ]
  },
  {
   "cell_type": "code",
   "execution_count": 5,
   "metadata": {},
   "outputs": [
    {
     "name": "stdout",
     "output_type": "stream",
     "text": [
      "['0', ' 2', ' 4']\n"
     ]
    }
   ],
   "source": [
    "#Pedimos input hijos y lo comvertimos en lista separando por comas\n",
    "hijos = input('Dime cuantos hijos tienen:')\n",
    "lista_hijos = hijos.split (',')\n",
    "\n",
    "print (lista_hijos)"
   ]
  },
  {
   "cell_type": "code",
   "execution_count": 6,
   "metadata": {},
   "outputs": [
    {
     "name": "stdout",
     "output_type": "stream",
     "text": [
      "[0, 2, 4]\n"
     ]
    }
   ],
   "source": [
    "# Convertimos cada índice de lista hijos por int\n",
    "lista_hijos [0] = int (lista_hijos [0])\n",
    "lista_hijos [1] = int (lista_hijos [1])\n",
    "lista_hijos [2] = int (lista_hijos [2])\n",
    "\n",
    "print (lista_hijos)"
   ]
  },
  {
   "cell_type": "code",
   "execution_count": 9,
   "metadata": {},
   "outputs": [
    {
     "name": "stdout",
     "output_type": "stream",
     "text": [
      "['Paula', ' Marina', ' Pedro']\n",
      "['Fuente', ' Ferreras', ' Garcia']\n",
      "[24, 28, 32]\n",
      "[0, 2, 4]\n"
     ]
    }
   ],
   "source": [
    "print (lista_nombres)\n",
    "print (lista_apellidos)\n",
    "print (lista_edades)\n",
    "print (lista_hijos)\n"
   ]
  },
  {
   "cell_type": "code",
   "execution_count": 13,
   "metadata": {},
   "outputs": [
    {
     "name": "stdout",
     "output_type": "stream",
     "text": [
      "{'nombres': ['Paula', ' Marina', ' Pedro'], 'apellidos': ['Fuente', ' Ferreras', ' Garcia'], 'edades': [24, 28, 32], 'hijos': [0, 2, 4]}\n"
     ]
    }
   ],
   "source": [
    "# Cread un diccionario con los resultados del input.\n",
    "# Añadimos los values a cada key del diccionario, mediante la llamada de la key e igualando a la lista\n",
    "diccionario1 ['nombres'] = lista_nombres\n",
    "# También puede hacerse mediante el método update\n",
    "diccionario1.update({'apellidos':lista_apellidos})\n",
    "\n",
    "diccionario1 ['edades'] = lista_edades\n",
    "diccionario1 ['hijos'] = lista_hijos\n",
    "\n",
    "print (diccionario1)"
   ]
  },
  {
   "cell_type": "code",
   "execution_count": 15,
   "metadata": {},
   "outputs": [
    {
     "name": "stdout",
     "output_type": "stream",
     "text": [
      "dict_keys(['nombres', 'apellidos', 'edades', 'hijos'])\n",
      "dict_values([['Paula', ' Marina', ' Pedro'], ['Fuente', ' Ferreras', ' Garcia'], [24, 28, 32], [0, 2, 4]])\n"
     ]
    }
   ],
   "source": [
    "#¿Cuales son las keys? \n",
    "print (diccionario1.keys())\n",
    "\n",
    "#¿Cuáles son las values?\n",
    "print (diccionario1.values())"
   ]
  },
  {
   "cell_type": "code",
   "execution_count": 16,
   "metadata": {},
   "outputs": [
    {
     "name": "stdout",
     "output_type": "stream",
     "text": [
      "Values de nombres: ['Paula', ' Marina', ' Pedro']\n",
      "Values de apellidos: ['Fuente', ' Ferreras', ' Garcia']\n"
     ]
    }
   ],
   "source": [
    "#Extraer values de las keys con dos métodos diferentes (llamando a la key y con .get(key))\n",
    "print ('Values de nombres:', diccionario1['nombres'])\n",
    "print ('Values de apellidos:',diccionario1.get('apellidos'))"
   ]
  },
  {
   "cell_type": "code",
   "execution_count": 17,
   "metadata": {},
   "outputs": [
    {
     "name": "stdout",
     "output_type": "stream",
     "text": [
      "{'nombres': ['Paula', ' Marina', ' Pedro'], 'apellidos': ['Fuente', ' Ferreras', ' Garcia'], 'edades': [24, 28, 32], 'hijos': [0, 2, 4], 'nacionalidad': 'desconocido'}\n"
     ]
    }
   ],
   "source": [
    "#Extraer los keys de nacionalidad y si no existe crearlo\n",
    "diccionario1.setdefault('nacionalidad', 'desconocido')\n",
    "\n",
    "print (diccionario1)"
   ]
  },
  {
   "cell_type": "code",
   "execution_count": 18,
   "metadata": {},
   "outputs": [
    {
     "data": {
      "text/plain": [
       "[('apellidos', ['Fuente', ' Ferreras', ' Garcia']),\n",
       " ('edades', [24, 28, 32]),\n",
       " ('hijos', [0, 2, 4]),\n",
       " ('nacionalidad', 'desconocido'),\n",
       " ('nombres', ['Paula', ' Marina', ' Pedro'])]"
      ]
     },
     "execution_count": 18,
     "metadata": {},
     "output_type": "execute_result"
    }
   ],
   "source": [
    "#Ordenar los elementos basandonos en las keys y los values\n",
    "sorted(diccionario1.items())"
   ]
  },
  {
   "cell_type": "code",
   "execution_count": 23,
   "metadata": {},
   "outputs": [
    {
     "name": "stdout",
     "output_type": "stream",
     "text": [
      "{'apellidos': ['Fuente', ' Ferreras', ' Garcia'], 'edades': [24, 28, 32], 'hijos': [0, 2, 4], 'nacionalidad': 'desconocido', 'nombres': ['Paula', ' Marina', ' Pedro']}\n",
      "<class 'dict'>\n"
     ]
    }
   ],
   "source": [
    "#Convertir la lista ordenada en diccionario\n",
    "#   Con el método dict()\n",
    "diccionario2 = dict(sorted(diccionario1.items()))\n",
    "print (diccionario2)\n",
    "print (type(diccionario2))"
   ]
  },
  {
   "cell_type": "code",
   "execution_count": 22,
   "metadata": {},
   "outputs": [
    {
     "data": {
      "text/plain": [
       "dict"
      ]
     },
     "execution_count": 22,
     "metadata": {},
     "output_type": "execute_result"
    }
   ],
   "source": [
    "type(diccionario2)"
   ]
  },
  {
   "cell_type": "code",
   "execution_count": 24,
   "metadata": {},
   "outputs": [
    {
     "name": "stdout",
     "output_type": "stream",
     "text": [
      "{'nombres': ['Paula', ' Marina', ' Pedro'], 'apellidos': ['Fuente', ' Ferreras', ' Garcia'], 'edades': [24, 28, 32], 'hijos': [0, 2, 4]}\n"
     ]
    }
   ],
   "source": [
    "#Eliminar la key de nacionalidad\n",
    "    #Puede hacerse con el meodo pop() indicando la key  nacionaliad o con popitem ya que está en la última posición de diccionario1\n",
    "diccionario1.pop('nacionalidad')\n",
    "print (diccionario1)"
   ]
  },
  {
   "cell_type": "code",
   "execution_count": 38,
   "metadata": {},
   "outputs": [
    {
     "name": "stdout",
     "output_type": "stream",
     "text": [
      "La que tiene más hijos es:  Pedro\n",
      "La más joven es: Paula\n"
     ]
    }
   ],
   "source": [
    "#Utilizando los metodos, ¿quién tiene más hijos?\n",
    "    #Sacamos el máximo de la lista de hijos\n",
    "max_hijos = max(diccionario1['hijos'])\n",
    "    #Buscamos el indice de max_hijos dentro del diccionario\n",
    "indice_max_hijos = diccionario1['hijos'].index(max_hijos)\n",
    "    #Sacamos el valor del mismo indice en nombres\n",
    "print ('La que tiene más hijos es:', diccionario1['nombres'][indice_max_hijos])\n",
    "\n",
    "# ¿Quién es más joven?\n",
    "min_edad = min(diccionario1['edades'])\n",
    "indice_min_edad = diccionario1['edades'].index(min_edad)\n",
    "print ('La más joven es:', diccionario1['nombres'][indice_min_edad])\n"
   ]
  }
 ],
 "metadata": {
  "kernelspec": {
   "display_name": "Python 3.9.13 ('base')",
   "language": "python",
   "name": "python3"
  },
  "language_info": {
   "codemirror_mode": {
    "name": "ipython",
    "version": 3
   },
   "file_extension": ".py",
   "mimetype": "text/x-python",
   "name": "python",
   "nbconvert_exporter": "python",
   "pygments_lexer": "ipython3",
   "version": "3.9.13"
  },
  "orig_nbformat": 4,
  "vscode": {
   "interpreter": {
    "hash": "85c042135e83639dad74b6ec6c9d943b5dc47ca281624d931a3e14168052f53c"
   }
  }
 },
 "nbformat": 4,
 "nbformat_minor": 2
}
