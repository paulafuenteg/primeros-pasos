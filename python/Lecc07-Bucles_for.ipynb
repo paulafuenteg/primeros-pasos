{
 "cells": [
  {
   "cell_type": "code",
   "execution_count": 4,
   "metadata": {},
   "outputs": [],
   "source": [
    "# Escribid un programa que pregunte al usuario una cantidad a invertir, un interés anual y el número de\n",
    "# de años que imprima el capital obtenido cada año que dura la inversión.\n",
    "\n",
    "cantidad = int(input('¿Cuánto quieres  invertir'))\n",
    "interes = float(input('¿A qué interés?'))\n",
    "años = range(int(input('¿Durante cuántos años?')))"
   ]
  },
  {
   "cell_type": "code",
   "execution_count": 6,
   "metadata": {},
   "outputs": [
    {
     "name": "stdout",
     "output_type": "stream",
     "text": [
      "El capital obtenido en el año 0 es 6000\n",
      "El capital obtenido en el año 1 es 12000\n",
      "El capital obtenido en el año 2 es 18000\n"
     ]
    }
   ],
   "source": [
    "#Considerando que el capital ganado cada año es capital por intrés\n",
    "for año in años:\n",
    "    capital = capital +(cantidad * interes)\n",
    "    print('El capital obtenido en el año', año, 'es', capital_total)\n",
    "    capital_total = capital"
   ]
  },
  {
   "cell_type": "code",
   "execution_count": 7,
   "metadata": {},
   "outputs": [
    {
     "name": "stdout",
     "output_type": "stream",
     "text": [
      "Dime una frase\n",
      "Dime una letra\n"
     ]
    }
   ],
   "source": [
    "# Escribid un programa en el que se pregunte al usuario por una frase y una letra y muestre por pantalla\n",
    "# el número de veces que aparece la letra en la frase.\n",
    "\n",
    "frase = input('Dime una frase')\n",
    "letra = input('Dime una letra')"
   ]
  },
  {
   "cell_type": "code",
   "execution_count": 8,
   "metadata": {},
   "outputs": [
    {
     "name": "stdout",
     "output_type": "stream",
     "text": [
      "Hay 0 letra  en tu frase.\n"
     ]
    }
   ],
   "source": [
    "#Definimos Total_letras como 0, por letra en letras, si letras es igual a la letra elegida suma 1 a total_letras\n",
    "Total_letras = 0\n",
    "\n",
    "for let in frase:\n",
    "    if let == letra:\n",
    "        total_letras += 1\n",
    "        \n",
    "print('Hay', total_letras, 'letra', letra, 'en tu frase.')"
   ]
  },
  {
   "cell_type": "code",
   "execution_count": 9,
   "metadata": {},
   "outputs": [
    {
     "name": "stdout",
     "output_type": "stream",
     "text": [
      "4 por 1 es igual a 4\n",
      "4 por 2 es igual a 8\n",
      "4 por 3 es igual a 12\n",
      "4 por 4 es igual a 16\n",
      "4 por 5 es igual a 20\n",
      "4 por 6 es igual a 24\n",
      "4 por 7 es igual a 28\n",
      "4 por 8 es igual a 32\n",
      "4 por 9 es igual a 36\n",
      "4 por 10 es igual a 40\n"
     ]
    }
   ],
   "source": [
    "# Escribid un programa que nos devuelva la tabla de multiplicar de un nuḿero especificado en una función input.\n",
    "    # Hacemos el input de numero y lo trasformamos en int\n",
    "numero = int(input('Dime un numero'))\n",
    "    #Por cada número de la tabla definida del 1 al 10 el for loop va multiplicando por el número indicado en el input.\n",
    "tabla = [1, 2, 3, 4, 5, 6, 7, 8, 9, 10]\n",
    "\n",
    "for num in tabla:\n",
    "    resultado = (numero*num)\n",
    "    print(numero, 'por', num, 'es igual a', resultado)"
   ]
  },
  {
   "cell_type": "code",
   "execution_count": 10,
   "metadata": {},
   "outputs": [
    {
     "name": "stdout",
     "output_type": "stream",
     "text": [
      "75\n",
      "150\n",
      "145\n"
     ]
    }
   ],
   "source": [
    "# Dada la siguiente lista de números:\n",
    "\n",
    "numbers = [12, 75, 150, 180, 145, 525, 50]\n",
    "\n",
    "# Escribid un programa que muestre sólo los números de la lista que cumplan las siguientes condiciones:\n",
    "   # - Número divisible entre 5\n",
    "   # - Si es mayor de 150, se lo salta y pasa al siguiente numero.\n",
    "   # - Si el número es mayor de 500, se detiene el bucle.\n",
    "\n",
    "for number in numbers:\n",
    "    if number > 500:\n",
    "        break\n",
    "    elif number > 150:\n",
    "        continue\n",
    "    elif number % 5 == 0:\n",
    "        print(number)"
   ]
  },
  {
   "cell_type": "code",
   "execution_count": 17,
   "metadata": {},
   "outputs": [],
   "source": [
    "# Dada la siguiente lista:\n",
    "\n",
    "list1 = [10, 20, 30, 40, 50]"
   ]
  },
  {
   "cell_type": "code",
   "execution_count": 22,
   "metadata": {},
   "outputs": [
    {
     "name": "stdout",
     "output_type": "stream",
     "text": [
      "[50, 40, 30, 20, 10]\n"
     ]
    }
   ],
   "source": [
    "# Imprimir la lista en orden anverso.\n",
    "    #Definimos la lista2 como una lista vacia en la que iremos appendeando los números que vamos sacando con indices negativos en el for loop y restando 1 a cada indice en cada loop.\n",
    "lista2 = []\n",
    "\n",
    "e = -1\n",
    "\n",
    "for i in list1:\n",
    "    anverso = list1[e]\n",
    "    lista2.append(anverso)\n",
    "    e -= 1\n",
    "\n",
    "print(lista2)"
   ]
  },
  {
   "cell_type": "code",
   "execution_count": 1,
   "metadata": {},
   "outputs": [
    {
     "ename": "TypeError",
     "evalue": "unsupported operand type(s) for ** or pow(): 'str' and 'int'",
     "output_type": "error",
     "traceback": [
      "\u001b[0;31m---------------------------------------------------------------------------\u001b[0m",
      "\u001b[0;31mTypeError\u001b[0m                                 Traceback (most recent call last)",
      "Cell \u001b[0;32mIn [1], line 4\u001b[0m\n\u001b[1;32m      1\u001b[0m \u001b[39m# Dado el siguiente código:\u001b[39;00m\n\u001b[1;32m      3\u001b[0m \u001b[39mfor\u001b[39;00m i \u001b[39min\u001b[39;00m [\u001b[39m'\u001b[39m\u001b[39m1\u001b[39m\u001b[39m'\u001b[39m,\u001b[39m'\u001b[39m\u001b[39m2\u001b[39m\u001b[39m'\u001b[39m,\u001b[39m'\u001b[39m\u001b[39m3\u001b[39m\u001b[39m'\u001b[39m]:\n\u001b[0;32m----> 4\u001b[0m     \u001b[39mprint\u001b[39m (i\u001b[39m*\u001b[39;49m\u001b[39m*\u001b[39;49m\u001b[39m2\u001b[39;49m)\n",
      "\u001b[0;31mTypeError\u001b[0m: unsupported operand type(s) for ** or pow(): 'str' and 'int'"
     ]
    }
   ],
   "source": [
    "# Dado el siguiente código:\n",
    "\n",
    "for i in ['1','2','3']:\n",
    "    print (i**2)"
   ]
  },
  {
   "cell_type": "code",
   "execution_count": null,
   "metadata": {},
   "outputs": [
    {
     "name": "stdout",
     "output_type": "stream",
     "text": [
      "Da error\n"
     ]
    }
   ],
   "source": [
    "# Haz que no dé error.\n",
    "\n",
    "try:\n",
    "    for i in ['1','2','3']:\n",
    "        print (i**2)\n",
    "except:\n",
    "    print('Da error')"
   ]
  },
  {
   "cell_type": "code",
   "execution_count": null,
   "metadata": {},
   "outputs": [
    {
     "name": "stdout",
     "output_type": "stream",
     "text": [
      "1\n",
      "4\n",
      "9\n"
     ]
    }
   ],
   "source": [
    "# Lo arreglamos haciendo int cada número de la lista mediante un for loop\n",
    "try:\n",
    "    for i in ['1','2','3']:\n",
    "        print (int(i)**2)\n",
    "except:\n",
    "    print('Da error')"
   ]
  }
 ],
 "metadata": {
  "kernelspec": {
   "display_name": "Python 3.10.6 ('adalabenv')",
   "language": "python",
   "name": "python3"
  },
  "language_info": {
   "codemirror_mode": {
    "name": "ipython",
    "version": 3
   },
   "file_extension": ".py",
   "mimetype": "text/x-python",
   "name": "python",
   "nbconvert_exporter": "python",
   "pygments_lexer": "ipython3",
   "version": "3.10.6"
  },
  "orig_nbformat": 4,
  "vscode": {
   "interpreter": {
    "hash": "d055aa09d3921340beac831acf989e15e939d47d71ac1f5055759ef84a458908"
   }
  }
 },
 "nbformat": 4,
 "nbformat_minor": 2
}
