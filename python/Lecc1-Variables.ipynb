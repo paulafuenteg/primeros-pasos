{
 "cells": [
  {
   "cell_type": "code",
   "execution_count": 2,
   "metadata": {},
   "outputs": [],
   "source": [
    "#1 Crear 3 variables numéricas de tipo entero (int) llamadas numero1, numero2 y numero3.\n",
    "\n",
    "numero1 = 6\n",
    "numero2 = 2\n",
    "numero3 = 5"
   ]
  },
  {
   "cell_type": "code",
   "execution_count": 6,
   "metadata": {},
   "outputs": [
    {
     "name": "stdout",
     "output_type": "stream",
     "text": [
      "Que numero1 sea mayor que numero2 es True\n",
      "Que el numero1 sea menor que el 2 y mayor que el 3 es False\n",
      "Que el numero3 sea igual que el numero2 es False\n",
      "Que el numero2 sea distinto que el numero1 es True\n"
     ]
    }
   ],
   "source": [
    "#2 Utilizando operadores lógicos, ¿numero1 es mayor que numero2?\n",
    "\n",
    "print('Que numero1 sea mayor que numero2 es', numero1 > numero2)\n",
    "\n",
    "# El numero1 es menor que el 2 y mayor que el 3\n",
    "\n",
    "print('Que el numero1 sea menor que el 2 y mayor que el 3 es', numero2 > numero1 > numero3)\n",
    "\n",
    "# El numero3 es igual que el numero2\n",
    "\n",
    "print('Que el numero3 sea igual que el numero2 es', numero3 == numero2)\n",
    "\n",
    "# El numero2 es distinto que el numero1\n",
    "\n",
    "print('Que el numero2 sea distinto que el numero1 es', numero2 != numero1)"
   ]
  },
  {
   "cell_type": "code",
   "execution_count": 11,
   "metadata": {},
   "outputs": [
    {
     "name": "stdout",
     "output_type": "stream",
     "text": [
      "La suma de las dos alturas es 74.69\n",
      "La diferencia entre las alturas es -31.290000000000003\n",
      "El resto de las dos alturas es 21.7\n",
      "La división redondeada a un decimal es 0.4\n"
     ]
    }
   ],
   "source": [
    "#3 Crea dos variables tipo float\n",
    "\n",
    "altura1 = 21.70\n",
    "altura2 = 52.99\n",
    "\n",
    "# La suma de la dos alturas\n",
    "\n",
    "print('La suma de las dos alturas es', altura1 + altura2)\n",
    "\n",
    "# La diferencia entre las alturas\n",
    "\n",
    "print('La diferencia entre las alturas es', altura1 - altura2)\n",
    "\n",
    "# El resto de las dos alturas\n",
    "\n",
    "print('El resto de las dos alturas es', altura1 % altura2)\n",
    "\n",
    "# La división redondeada a un decimal\n",
    "\n",
    "print('La división redondeada a un decimal es', round(altura1 / altura2, 1))"
   ]
  },
  {
   "cell_type": "code",
   "execution_count": 16,
   "metadata": {},
   "outputs": [
    {
     "name": "stdout",
     "output_type": "stream",
     "text": [
      "Todo en mayúsculas es MARINA FERRERAS\n",
      "Todo en minúsculas es marina ferreras\n",
      "Con la primera en mayúscula y las demás en minúsculas es Marina Ferreras\n",
      "Sólo la primera letra en mayúscula es Marina ferreras\n"
     ]
    }
   ],
   "source": [
    "# Cread un input que pregunte el nombre y apellidos\n",
    "\n",
    "nombre_apellidos = input(\"Escribe tu nombre y apellidos\")\n",
    "\n",
    "# Printead su nombre y apellidos todo en mayúsculas\n",
    "\n",
    "print('Todo en mayúsculas es', nombre_apellidos.upper())\n",
    "\n",
    "# Todo en minúsculas\n",
    "\n",
    "print('Todo en minúsculas es', nombre_apellidos.lower())\n",
    "\n",
    "# Con la primera letra en mayúscula y las demás en minúscula\n",
    "\n",
    "print('Con la primera en mayúscula y las demás en minúsculas es', nombre_apellidos.title())\n",
    "\n",
    "# Sólo la primera letra en mayúscula\n",
    "\n",
    "print('Sólo la primera letra en mayúscula es', nombre_apellidos.capitalize())"
   ]
  },
  {
   "cell_type": "code",
   "execution_count": 18,
   "metadata": {},
   "outputs": [
    {
     "data": {
      "text/plain": [
       "'hola don josE'"
      ]
     },
     "execution_count": 18,
     "metadata": {},
     "output_type": "execute_result"
    }
   ],
   "source": [
    "# Escribid un programa que pregunte al usuario por una frase y almacenad esa frase a una variable.\n",
    "\n",
    "frase1 = input(\"Dime una frase\")\n",
    "\n",
    "# Pregunta al usuario por una vocal\n",
    "\n",
    "vocal1 = input(\"Dime una vocal\")\n",
    "\n",
    "# Printead la misma frase pero con la vocal introducida en mayúsculas\n",
    "\n",
    "vocal_mayúscula = vocal1.upper()\n",
    "frase1.replace(vocal1, vocal_mayúscula)"
   ]
  },
  {
   "cell_type": "code",
   "execution_count": 25,
   "metadata": {},
   "outputs": [
    {
     "name": "stdout",
     "output_type": "stream",
     "text": [
      "yogur\n",
      "yogur\n",
      "yogur\n",
      "yogur\n"
     ]
    }
   ],
   "source": [
    "# Escibid un programa que le pregunte al usuario la lista de la compra.\n",
    "\n",
    "lista_compra = input(\"Dime la lista de la compra separada por comas\")\n",
    "\n",
    "# Devolved la lista de la compra donde veamos cada elemento en una línea\n",
    "    # Separamos la lista por la comas:\n",
    "\n",
    "listacompra_separado = lista_compra.split(\",\")\n",
    "\n",
    "    # Unimos la lista con \\n con salto de línea.\n",
    "\n",
    "listacompra_separado2 = \"\\n\".join(listacompra_separado)\n",
    "\n",
    "print(listacompra_separado2)"
   ]
  }
 ],
 "metadata": {
  "kernelspec": {
   "display_name": "Python 3.9.7 ('base')",
   "language": "python",
   "name": "python3"
  },
  "language_info": {
   "codemirror_mode": {
    "name": "ipython",
    "version": 3
   },
   "file_extension": ".py",
   "mimetype": "text/x-python",
   "name": "python",
   "nbconvert_exporter": "python",
   "pygments_lexer": "ipython3",
   "version": "3.9.7"
  },
  "orig_nbformat": 4,
  "vscode": {
   "interpreter": {
    "hash": "0620710c65b0f5ccc651a2aa8870ae0eb4c70492424a8d7866846658189426a3"
   }
  }
 },
 "nbformat": 4,
 "nbformat_minor": 2
}
