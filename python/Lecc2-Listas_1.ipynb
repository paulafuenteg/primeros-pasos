{
 "cells": [
  {
   "cell_type": "code",
   "execution_count": 8,
   "metadata": {},
   "outputs": [
    {
     "name": "stdout",
     "output_type": "stream",
     "text": [
      "['Silvia', ' Rosa', ' Pedro']\n"
     ]
    }
   ],
   "source": [
    "# Usando input crear un programa que pregunte al usuario por tres nombres y almacenar el\n",
    "amigos = input(\"Dime el nombre de tres amigos\")\n",
    "\n",
    "# Para almacenar la lista la separamos los nombres por la coma y la almacenamos en lista_amigos\n",
    "lista_amigos = amigos.split(\",\")\n",
    "print (lista_amigos)"
   ]
  },
  {
   "cell_type": "code",
   "execution_count": 7,
   "metadata": {},
   "outputs": [],
   "source": [
    "# Usando input preguntamos al usuario la altura de sus amigos y lo almacenamos en lista\n",
    "altura_amigos = input (\"Dime la altura de tus amigos\")\n",
    "\n",
    "lista_altura_amigos = altura_amigos.split(',')\n",
    "\n",
    "# Como la función input por defecto nos devuelve un string lo convrtimos a float según la función indicada para poder trabajar con ellos como float:\n",
    "lista_altura_amigos =[float(i) for i in lista_altura_amigos]\n",
    "\n",
    "print (lista_altura_amigos)"
   ]
  },
  {
   "cell_type": "code",
   "execution_count": 31,
   "metadata": {},
   "outputs": [
    {
     "name": "stdout",
     "output_type": "stream",
     "text": [
      "[' Pedro', ' Rosa', 'Silvia']\n",
      "[1.6, 1.63, 1.8]\n"
     ]
    }
   ],
   "source": [
    "# Ordenar las listas de mayor a menor. La lista de nombres se ordena por orden alfabético\n",
    "lista_amigos.sort()\n",
    "lista_altura_amigos.sort()\n",
    "print(lista_amigos)\n",
    "print(lista_altura_amigos)"
   ]
  },
  {
   "cell_type": "code",
   "execution_count": 33,
   "metadata": {},
   "outputs": [
    {
     "name": "stdout",
     "output_type": "stream",
     "text": [
      "La altura máxima de mis amigos es: 1.8\n",
      "La altura mínima de mis amigos es: 1.6\n"
     ]
    }
   ],
   "source": [
    "#¿Cual es la altura máxima y mínima de los amigos\n",
    "altura_max = max (lista_altura_amigos)\n",
    "altura_min = min (lista_altura_amigos)\n",
    "print (\"La altura máxima de mis amigos es:\", altura_max)\n",
    "print (\"La altura mínima de mis amigos es:\", altura_min)"
   ]
  },
  {
   "cell_type": "code",
   "execution_count": 15,
   "metadata": {},
   "outputs": [
    {
     "name": "stdout",
     "output_type": "stream",
     "text": [
      "Lista_lista: [[44, 55, 67, 44, 98, 29], [34, 56, 56, 78, 67, 56]]\n",
      "Lista_numeros: [44, 55, 67, 44, 98, 29, 34, 56, 56, 78, 67, 56]\n"
     ]
    }
   ],
   "source": [
    "#Dadas las siguientes listas, unirlas para crear:lista_lista = [[44, 55, 67, 44, 98, 29], [34, 56, 56, 78, 67, 56]] y lista_numeros = [44, 55, 67, 44, 98, 29, 34, 56, 56, 78, 67, 56]\n",
    "lista1 =[44, 55, 67, 44, 98, 29]\n",
    "lista2 = [34, 56, 56, 78, 67, 56]\n",
    "\n",
    "#Con la , se une de manera que la lista 2 se incluye como un elemento junto de la lista 1\n",
    "lista_lista = [lista1 , lista2] \n",
    "print ('Lista_lista:', lista_lista)\n",
    "\n",
    "# Con el + se une de forma que cada elemento de la lista2 froma parte de la lista1\n",
    "lista_numeros = lista1 + lista2\n",
    "print('Lista_numeros:', lista_numeros)"
   ]
  },
  {
   "cell_type": "code",
   "execution_count": 16,
   "metadata": {},
   "outputs": [
    {
     "name": "stdout",
     "output_type": "stream",
     "text": [
      "67 en lista_lista: 0\n",
      "67 en lista_numeros: 2\n"
     ]
    }
   ],
   "source": [
    "# De la lista_lista, ¿cuantas veces aparece el número 67? ¿y en la lista_numeros? \n",
    "print (\"67 en lista_lista:\", lista_lista.count(67))\n",
    "print (\"67 en lista_numeros:\",lista_numeros.count(67))\n",
    "\n",
    "# En la lista_lista aparece 0 veces porque el número 67 no pertenece como un elemento de la lista si no como parte de una lista con lo cual el método .count no lo considera."
   ]
  },
  {
   "cell_type": "code",
   "execution_count": 17,
   "metadata": {},
   "outputs": [
    {
     "name": "stdout",
     "output_type": "stream",
     "text": [
      "Lista_numeros dada la vuelta: [56, 67, 78, 56, 56, 34, 29, 98, 44, 67, 55, 44]\n"
     ]
    }
   ],
   "source": [
    "#Usando lista_números, dadle la vuelta a la lista\n",
    "lista_numeros.reverse()\n",
    "print ('Lista_numeros dada la vuelta:', lista_numeros)"
   ]
  }
 ],
 "metadata": {
  "kernelspec": {
   "display_name": "Python 3.9.13 ('base')",
   "language": "python",
   "name": "python3"
  },
  "language_info": {
   "codemirror_mode": {
    "name": "ipython",
    "version": 3
   },
   "file_extension": ".py",
   "mimetype": "text/x-python",
   "name": "python",
   "nbconvert_exporter": "python",
   "pygments_lexer": "ipython3",
   "version": "3.9.13"
  },
  "orig_nbformat": 4,
  "vscode": {
   "interpreter": {
    "hash": "85c042135e83639dad74b6ec6c9d943b5dc47ca281624d931a3e14168052f53c"
   }
  }
 },
 "nbformat": 4,
 "nbformat_minor": 2
}
