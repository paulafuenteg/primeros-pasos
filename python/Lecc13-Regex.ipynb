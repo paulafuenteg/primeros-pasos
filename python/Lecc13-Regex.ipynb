{
 "cells": [
  {
   "cell_type": "markdown",
   "metadata": {},
   "source": [
    "### PAIR PROGRAMMING - EXPRESIONES REGULARES (REGEX)\n",
    "---"
   ]
  },
  {
   "cell_type": "code",
   "execution_count": 3,
   "metadata": {},
   "outputs": [],
   "source": [
    "# Importamos la librera os con la función necesaria para poder obtener la ruta\n",
    "\n",
    "import os \n",
    "from os import getcwd"
   ]
  },
  {
   "cell_type": "code",
   "execution_count": 2,
   "metadata": {},
   "outputs": [
    {
     "data": {
      "text/plain": [
       "'c:\\\\Users\\\\Paula\\\\Documents\\\\Adalab\\\\ejercicios-de-adalab\\\\DA_promoc_modulo1_sprint2_MaiyPaula\\\\Python'"
      ]
     },
     "execution_count": 2,
     "metadata": {},
     "output_type": "execute_result"
    }
   ],
   "source": [
    "# Obtenemos la ruta del directorio de trabajo actual\n",
    "\n",
    "os.getcwd()"
   ]
  },
  {
   "cell_type": "code",
   "execution_count": 4,
   "metadata": {},
   "outputs": [],
   "source": [
    "# Cambiamos a la carpeta donde guardamos los archivos de los ejercicios y poder acceder al archivo de hoy\n",
    "\n",
    "os.chdir('archivo_ficheros')"
   ]
  },
  {
   "cell_type": "code",
   "execution_count": 5,
   "metadata": {},
   "outputs": [],
   "source": [
    "# Abrimos el archivo-email.txt- y lo guardamos en la variable email\n",
    "\n",
    "with open('email.txt', 'rt') as f:\n",
    "    email = f.read()\n",
    "    f.close()\n"
   ]
  },
  {
   "cell_type": "code",
   "execution_count": 7,
   "metadata": {},
   "outputs": [
    {
     "name": "stdout",
     "output_type": "stream",
     "text": [
      "\n",
      "Thu Oct 31 08:11:39 2002\n",
      "    Return-Path: <bensul2004nng@spinfinder.com>\n",
      "    X-Sieve: cmu-sieve 2.0\n",
      "    Return-Path: <bensul2004nng@spinfinder.com>\n",
      "    Message-Id: <200210311310.g9VDANt24674@bloodwork.mr.itd.UM>\n",
      "    From: \"Mr. Ben Suleman\" <bensul2004nng@spinfinder.com>\n",
      "    Date: Thu, 31 Oct 2002 05:10:00\n",
      "    To: R@M\n",
      "    Subject: URGENT ASSISTANCE /RELATIONSHIP (P)\n",
      "    MIME-Version: 1.0\n",
      "    Content-Type: text/plain;charset=\"iso-8859-1\"\n",
      "    Content-Transfer-Encoding: 7bit\n",
      "    Status: O\n",
      "\n",
      "    Dear Friend,\n",
      "\n",
      "    I am Mr. Ben Suleman a custom officer and work as Assistant controller of the Customs and Excise department Of the Federal Ministry of Internal Affairs stationed at the Murtala Mohammed International Airport, Ikeja, Lagos-Nigeria.\n",
      "\n",
      "    After the sudden death of the former Head of state of Nigeria General Sanni Abacha on June 8th 1998 his aides and immediate members of his family were arrested while trying to escape from Nigeria in a Chartered jet to Saudi Arabia with 6 trunk boxes Marked \"Diplomatic Baggage\". Acting on a tip-off as they attempted to board the Air Craft,my officials carried out a thorough search on the air craft and discovered that the 6 trunk boxes contained foreign currencies amounting to US$197,570,000.00(One Hundred and  Ninety-Seven Million Five Hundred Seventy Thousand United States Dollars).\n",
      "\n",
      "    I declared only (5) five boxes to the government and withheld one (1) in my custody containing the sum of (US$30,000,000.00) Thirty Million United States Dollars Only, which has been disguised to prevent their being discovered during transportation process.Due to several media reports on the late head of state about all the money him and his co-government officials stole from our government treasury amounting\n",
      "    to US$55 Billion Dollars (ref:ngrguardiannews.com) of July 2nd 1999. Even the London times of July 1998 reported that General Abacha has over US$3.Billion dollars in one account overseas. We decided to conceal this one (1)box till the situation is calm and quite on the issue. The box was thus deposited with a security company here in Nigeria and tagged as \"Precious Stones and Jewellry\" in other that its\n",
      "    content will not be discovered. Now that all is calm, we (myself and two of my colleagues in the operations team) are now ready to move this box out of the country through a diplomatic arrangement which is the safest means. \n",
      "\n",
      "    However as government officials the Civil Service Code of Conduct does not allow us by law to operate any foreign account or own foreign investment and the amount of money that can be found in our account\n",
      "    cannot be more than our salary on the average, thus our handicapp and our need for your assistance to help collect and keep safely in your account this money.\n",
      "\n",
      "    Therefore we want you to assist us in moving this money out of Nigeria. We shall definitely compensate you handsomely for the assistance. We can do this by instructing the Security Company here in Nigeria to\n",
      "    move the consignment to their affiliate branch office outside Nigeria through diplomatic means and the consignment will be termed as Precious Stones and Jewelleries\" which you bought during your visit to Nigeria and is being transfered to your country from here for safe keeping. Then we can arrange to meet at the destination country to take the delivery of the consignment. You will thereafter open an account there and lodge the Money there and gradually instruct remittance to your Country. \n",
      "\n",
      "    This business is 100% risk free for you so please treat this matter with utmost confidentiality .If you indicate your interest to assist us please just e-mail me for more Explanation on how we plan to execute the transaction.\n",
      "\n",
      "    Expecting your response urgently.\n",
      "\n",
      "    Best regards,\n",
      "\n",
      "    Mr. Ben Suleman\n",
      "\n",
      "    Wed Oct 30 21:41:56 2002\n",
      "    Return-Path: <james_ngola2002@maktoob.com>\n",
      "    X-Sieve: cmu-sieve 2.0\n",
      "    Return-Path: <james_ngola2002@maktoob.com>\n",
      "    Message-Id: <200210310241.g9V2fNm6028281@cs.CU>\n",
      "    From: \"MR. JAMES NGOLA.\" <james_ngola2002@maktoob.com>\n",
      "    Reply-To: james_ngola2002@maktoob.com\n",
      "    To: webmaster@aclweb.org\n",
      "    Date: Thu, 31 Oct 2002 02:38:20 +0000\n",
      "    Subject: URGENT BUSINESS ASSISTANCE AND PARTNERSHIP\n",
      "    X-Mailer: Microsoft Outlook Express 5.00.2919.6900 DM\n",
      "    MIME-Version: 1.0\n",
      "    Content-Type: text/plain; charset=\"us-ascii\"\n",
      "    Content-Transfer-Encoding: 8bit\n",
      "    X-MIME-Autoconverted: from quoted-printable to 8bit by sideshowmel.si.UM id g9V2foW24311\n",
      "    Status: O\n",
      "\n",
      "    CONFIDENTIAL TEL: 233-27-587908.\n",
      "    E-MAIL: (james_ngola2002@maktoob.com).\n",
      "\n",
      "    URGENT BUSINESS ASSISTANCE AND PARTNERSHIP.\n",
      "\n",
      "\n",
      "    DEAR FRIEND,\n",
      "\n",
      "    I AM ( DR.) JAMES NGOLA, THE PERSONAL ASSISTANCE TO THE LATE CONGOLESE (PRESIDENT LAURENT KABILA) WHO WAS ASSASSINATED BY HIS BODY GUARD ON 16TH JAN. 2001.\n",
      "\n",
      "\n",
      "    THE INCIDENT OCCURRED IN OUR PRESENCE WHILE WE WERE HOLDING MEETING WITH HIS EXCELLENCY OVER THE FINANCIAL RETURNS FROM THE DIAMOND SALES IN THE AREAS CONTROLLED BY (D.R.C.) DEMOCRATIC REPUBLIC OF CONGO FORCES AND THEIR FOREIGN ALLIES ANGOLA AND ZIMBABWE, HAVING RECEIVED THE PREVIOUS DAY (USD$100M) ONE HUNDRED MILLION UNITED STATES DOLLARS, CASH IN THREE DIPLOMATIC BOXES ROUTED THROUGH ZIMBABWE.\n",
      "\n",
      "    MY PURPOSE OF WRITING YOU THIS LETTER IS TO SOLICIT FOR YOUR ASSISTANCE AS TO BE A COVER TO THE FUND AND ALSO COLLABORATION IN MOVING THE SAID FUND INTO YOUR BANK ACCOUNT THE SUM OF (USD$25M) TWENTY FIVE MILLION UNITED STATES DOLLARS ONLY, WHICH I DEPOSITED WITH A SECURITY COMPANY IN GHANA, IN A DIPLOMATIC BOX AS GOLDS WORTH (USD$25M) TWENTY FIVE MILLION UNITED STATES DOLLARS ONLY FOR SAFE KEEPING IN A SECURITY VAULT FOR ANY FURTHER INVESTMENT PERHAPS IN YOUR COUNTRY. \n",
      "\n",
      "    YOU WERE INTRODUCED TO ME BY A RELIABLE FRIEND OF MINE WHO IS A TRAVELLER,AND ALSO A MEMBER OF CHAMBER OF COMMERCE AS A RELIABLE AND TRUSTWORTHY PERSON WHOM I CAN RELY ON AS FOREIGN PARTNER, EVEN THOUGH THE NATURE OF THE TRANSACTION WAS NOT REVEALED TO HIM FOR SECURITY REASONS.\n",
      "\n",
      "\n",
      "    THE (USD$25M) WAS PART OF A PROCEEDS FROM DIAMOND TRADE MEANT FOR THE LATE PRESIDENT LAURENT KABILA WHICH WAS DELIVERED THROUGH ZIMBABWE IN DIPLOMATIC BOXES. THE BOXES WERE KEPT UNDER MY CUSTODY BEFORE THE SAD EVENT THAT TOOK THE LIFE OF (MR. PRESIDENT).THE CONFUSION THAT ENSUED AFTER THE ASSASSINATION AND THE SPORADIC SHOOTING AMONG THE FACTIONS, I HAVE TO RUN AWAY FROM THE COUNTRY FOR MY DEAR LIFE AS I AM NOT A SOLDIER BUT A CIVIL SERVANT I CROSSED RIVER CONGO TO OTHER SIDE OF CONGO LIBREVILLE FROM THERE I MOVED TO THE THIRD COUNTRY GHANA WHERE I AM PRESENTLY TAKING REFUGE. \n",
      "\n",
      "    AS A MATTER OF FACT, WHAT I URGENTLY NEEDED FROM YOU IS YOUR ASSISTANCE IN MOVING THIS MONEY INTO YOUR ACCOUNT IN YOUR COUNTRY FOR INVESTMENT WITHOUT RAISING EYEBROW. FOR YOUR ASSISTANCE I WILL GIVE YOU 20% OF THE TOTAL SUM AS YOUR OWN SHARE WHEN THE MONEY GETS TO YOUR ACCOUNT, WHILE 75% WILL BE FOR ME, OF WHICH WITH YOUR KIND ADVICE I HOPE TO INVEST IN PROFITABLE VENTURE IN YOUR COUNTRY IN OTHER TO SETTLE DOWN FOR MEANINGFUL LIFE, AS I AM TIRED OF LIVING IN A WAR ENVIRONMENT. \n",
      "\n",
      "    THE REMAINING 5% WILL BE USED TO OFFSET ANY COST INCURRED IN THE CAUSE OF MOVING THE MONEY TO YOUR ACCOUNT. IF THE PROPOSAL IS ACCEPTABLE TO YOU PLEASE CONTACT ME IMMEDIATELY THROUGH THE ABOVE TELEPHONE AND E-MAIL, TO ENABLE ME ARRANGE FACE TO FACE MEETING WITH YOU IN GHANA FOR THE CLEARANCE OF THE FUNDS BEFORE TRANSFRING IT TO YOUR BANK ACCOUNT AS SEEING IS BELIEVING. \n",
      "\n",
      "    FINALLY, IT IS IMPORTANT ALSO THAT I LET YOU UNDERSTAND THAT THERE IS NO RISK INVOLVED WHATSOEVER AS THE MONEY HAD NO RECORD IN KINSHASA FOR IT WAS MEANT FOR THE PERSONAL USE OF (MR. PRESIDEND ) BEFORE THE NEFARIOUS INCIDENT OCCURRED, AND ALSO I HAVE ALL THE NECESSARY DOCUMENTS AS REGARDS TO THE FUNDS INCLUDING THE (CERTIFICATE OF DEPOSIT), AS I AM THE DEPOSITOR OF THE CONSIGNMENT.\n",
      "\n",
      "\n",
      "    LOOKING FORWARD TO YOUR URGENT RESPONSE.\n",
      "\n",
      "    YOUR SINCERELY,\n",
      "\n",
      "    MR. JAMES NGOLA. \n",
      "\n",
      "\n"
     ]
    }
   ],
   "source": [
    "print(email)"
   ]
  },
  {
   "cell_type": "markdown",
   "metadata": {},
   "source": [
    "---"
   ]
  },
  {
   "cell_type": "markdown",
   "metadata": {},
   "source": [
    "EJERCICIO 1\n",
    "\n",
    "Extraer el email de la persona que envió el email (os deberían salir 2). Pista: Tendremos que hacer dos busquedas:\n",
    "\n",
    "- Una para extraer toda la información del remitente. El remitente siempre empieza por From:\n",
    "\n",
    "    info_remitente = re.findall('From:.*',email)\n",
    "\n",
    "- Otra para extraer el email únicamente."
   ]
  },
  {
   "cell_type": "code",
   "execution_count": 8,
   "metadata": {},
   "outputs": [],
   "source": [
    "# Importamos la libreria de regex\n",
    "\n",
    "import re"
   ]
  },
  {
   "cell_type": "code",
   "execution_count": 9,
   "metadata": {},
   "outputs": [
    {
     "data": {
      "text/plain": [
       "['From: \"Mr. Ben Suleman\" <bensul2004nng@spinfinder.com>',\n",
       " 'From: \"MR. JAMES NGOLA.\" <james_ngola2002@maktoob.com>']"
      ]
     },
     "execution_count": 9,
     "metadata": {},
     "output_type": "execute_result"
    }
   ],
   "source": [
    "# Extraemos la información del remitente\n",
    "\n",
    "info_remitente = re.findall('From:.*', email)\n",
    "info_remitente"
   ]
  },
  {
   "cell_type": "code",
   "execution_count": 6,
   "metadata": {},
   "outputs": [],
   "source": [
    "# Buscamos donde coincida con From:, seguido de varios caracteres de cualquier tipo y especificamos entre paréntesis el patrón del email \n",
    "# que queremos que nos devuelva, comenzando con <, caracteres varios, @, caracteres varios, . , y más caracteres varios. \n",
    "\n",
    "patron_email = 'From:.+<(.+@\\w+\\.\\w+)'\n"
   ]
  },
  {
   "cell_type": "code",
   "execution_count": 9,
   "metadata": {},
   "outputs": [
    {
     "data": {
      "text/plain": [
       "['bensul2004nng@spinfinder.com', 'james_ngola2002@maktoob.com']"
      ]
     },
     "execution_count": 9,
     "metadata": {},
     "output_type": "execute_result"
    }
   ],
   "source": [
    "# Extraemos unicamente los emails\n",
    "\n",
    "info_email = re.findall(patron_email, email)\n",
    "info_email"
   ]
  },
  {
   "cell_type": "markdown",
   "metadata": {},
   "source": [
    "---"
   ]
  },
  {
   "cell_type": "markdown",
   "metadata": {},
   "source": [
    "EJERCICIO 2\n",
    "\n",
    "Extraer el nombre de la persona que envió el email (os deberían salir 2). Pista: Tendremos que hacer dos busquedas:\n",
    "\n",
    "- Podemos usar el resultado de la primera búsqueda del ejercicio anterior para sacar el nombre.\n",
    "\n",
    "- Otra para extraer el nombre únicamente."
   ]
  },
  {
   "cell_type": "code",
   "execution_count": 15,
   "metadata": {},
   "outputs": [],
   "source": [
    "# Buscamos donde coincida con From:, cualquier caracter que aparezca entre comillas y lo seleccionamos entre paréntesis.\n",
    "\n",
    "patron_remitente = 'From:.\"(.+)\"'"
   ]
  },
  {
   "cell_type": "code",
   "execution_count": 16,
   "metadata": {},
   "outputs": [
    {
     "data": {
      "text/plain": [
       "['Mr. Ben Suleman', 'MR. JAMES NGOLA.']"
      ]
     },
     "execution_count": 16,
     "metadata": {},
     "output_type": "execute_result"
    }
   ],
   "source": [
    "# Extraemos el nombre de la persona que envió el email\n",
    "\n",
    "info_remitente2 = re.findall(patron_remitente, email)\n",
    "info_remitente2"
   ]
  },
  {
   "cell_type": "code",
   "execution_count": 18,
   "metadata": {},
   "outputs": [],
   "source": [
    "# Buscamos donde coincide con From:, seguido de cualquier caracter, seguido de un punto, de un espacio, y entre \n",
    "# paréntesis cualquier caracter para que nos devuelva el nombre; fuera del paréntesis un espacio para que solo \n",
    "# nos de lo que hay entre espacios.\n",
    "\n",
    "patron_nombre = 'From:.+\\.\\s(\\w+)\\s'"
   ]
  },
  {
   "cell_type": "code",
   "execution_count": 19,
   "metadata": {},
   "outputs": [
    {
     "data": {
      "text/plain": [
       "['Ben', 'JAMES']"
      ]
     },
     "execution_count": 19,
     "metadata": {},
     "output_type": "execute_result"
    }
   ],
   "source": [
    "# Extraemos unicamente el nombre\n",
    "\n",
    "info_nombre = re.findall(patron_nombre, email)\n",
    "info_nombre"
   ]
  },
  {
   "cell_type": "markdown",
   "metadata": {},
   "source": [
    "---"
   ]
  },
  {
   "cell_type": "markdown",
   "metadata": {},
   "source": [
    "EJERCICIO 3\n",
    "\n",
    "El día en el que se mandó el email (os deberían salir 2). Pista: De la misma forma que antes buscamos por From: primero, ahora lo tendremos que hacer con Date: .*"
   ]
  },
  {
   "cell_type": "code",
   "execution_count": 20,
   "metadata": {},
   "outputs": [
    {
     "data": {
      "text/plain": [
       "['Date: Thu, 31 Oct 2002 05:10:00', 'Date: Thu, 31 Oct 2002 02:38:20 +0000']"
      ]
     },
     "execution_count": 20,
     "metadata": {},
     "output_type": "execute_result"
    }
   ],
   "source": [
    "# Extraemos la fecha en la que se mandó el email\n",
    "\n",
    "info_fecha1 = re.findall('Date:.*', email)\n",
    "info_fecha1"
   ]
  },
  {
   "cell_type": "code",
   "execution_count": 21,
   "metadata": {},
   "outputs": [],
   "source": [
    "# Buscamos donde coincida con Date:, seguido de espacio, y entre paréntesis varios caracteres,',', espacio, \n",
    "# varios números, espacio, varios caracteres, espacio, 4 números.\n",
    "\n",
    "patron_fecha = 'Date:\\s(\\w+,\\s\\d+\\s\\w+\\s\\d{4})'"
   ]
  },
  {
   "cell_type": "code",
   "execution_count": 22,
   "metadata": {},
   "outputs": [
    {
     "data": {
      "text/plain": [
       "['Thu, 31 Oct 2002', 'Thu, 31 Oct 2002']"
      ]
     },
     "execution_count": 22,
     "metadata": {},
     "output_type": "execute_result"
    }
   ],
   "source": [
    "# Extraemos unicamente la fecha\n",
    "\n",
    "info_fecha = re.findall(patron_fecha, email)\n",
    "info_fecha"
   ]
  },
  {
   "cell_type": "markdown",
   "metadata": {},
   "source": [
    "---"
   ]
  },
  {
   "cell_type": "markdown",
   "metadata": {},
   "source": [
    "EJERCICIO 4\n",
    "\n",
    " El asunto del email (os deberían salir 2). Pista: Busca primero \"Subject:.* y después busca el patrón para extraer el asunto."
   ]
  },
  {
   "cell_type": "code",
   "execution_count": 23,
   "metadata": {},
   "outputs": [
    {
     "data": {
      "text/plain": [
       "['Subject: URGENT ASSISTANCE /RELATIONSHIP (P)',\n",
       " 'Subject: URGENT BUSINESS ASSISTANCE AND PARTNERSHIP']"
      ]
     },
     "execution_count": 23,
     "metadata": {},
     "output_type": "execute_result"
    }
   ],
   "source": [
    "# Extraemos el asunto del email\n",
    "\n",
    "info_asunto1 = re.findall('Subject:.*', email)\n",
    "info_asunto1"
   ]
  },
  {
   "cell_type": "code",
   "execution_count": 24,
   "metadata": {},
   "outputs": [],
   "source": [
    "# Buscamos donde coincida con Subject:, seguido de un espacio, y entre paréntesis que nos devuelva todos los caracteres\n",
    "\n",
    "patron_asunto = 'Subject:\\s(.+)'"
   ]
  },
  {
   "cell_type": "code",
   "execution_count": 25,
   "metadata": {},
   "outputs": [
    {
     "data": {
      "text/plain": [
       "['URGENT ASSISTANCE /RELATIONSHIP (P)',\n",
       " 'URGENT BUSINESS ASSISTANCE AND PARTNERSHIP']"
      ]
     },
     "execution_count": 25,
     "metadata": {},
     "output_type": "execute_result"
    }
   ],
   "source": [
    "# Extraemos la información del asunto \n",
    "\n",
    "info_asunto = re.findall(patron_asunto, email)\n",
    "info_asunto"
   ]
  },
  {
   "cell_type": "markdown",
   "metadata": {},
   "source": [
    "---"
   ]
  },
  {
   "cell_type": "markdown",
   "metadata": {},
   "source": [
    "EJERCICIO 5\n",
    "\n",
    "Guarda todos los resultados en un diccionario."
   ]
  },
  {
   "cell_type": "code",
   "execution_count": 26,
   "metadata": {},
   "outputs": [],
   "source": [
    "# Definimos el diccionario guardando las variables que hemos ido creando con el contenido del email como keys y como values\n",
    "\n",
    "dict_email = {'info_remitente': info_remitente, 'info_email': info_email, 'info_remitente2': info_remitente2, 'info_nombre': info_nombre, 'info_fecha': info_fecha, 'info_asunto': info_asunto}"
   ]
  },
  {
   "cell_type": "code",
   "execution_count": 27,
   "metadata": {},
   "outputs": [
    {
     "data": {
      "text/plain": [
       "{'info_remitente': ['From: \"Mr. Ben Suleman\" <bensul2004nng@spinfinder.com>',\n",
       "  'From: \"MR. JAMES NGOLA.\" <james_ngola2002@maktoob.com>'],\n",
       " 'info_email': ['<bensul2004nng@spinfinder.com',\n",
       "  '<james_ngola2002@maktoob.com'],\n",
       " 'info_remitente2': ['Mr. Ben Suleman', 'MR. JAMES NGOLA.'],\n",
       " 'info_nombre': ['Ben', 'JAMES'],\n",
       " 'info_fecha': ['Thu, 31 Oct 2002', 'Thu, 31 Oct 2002'],\n",
       " 'info_asunto': ['URGENT ASSISTANCE /RELATIONSHIP (P)',\n",
       "  'URGENT BUSINESS ASSISTANCE AND PARTNERSHIP']}"
      ]
     },
     "execution_count": 27,
     "metadata": {},
     "output_type": "execute_result"
    }
   ],
   "source": [
    "dict_email"
   ]
  },
  {
   "cell_type": "markdown",
   "metadata": {},
   "source": [
    "---"
   ]
  },
  {
   "cell_type": "markdown",
   "metadata": {},
   "source": [
    "**BONUS** \n",
    "\n",
    "Utiliza funciones para cada uno de los objetivos planteados."
   ]
  },
  {
   "cell_type": "code",
   "execution_count": 28,
   "metadata": {},
   "outputs": [],
   "source": [
    "# Definimos la función cuyos parámetros son el patrón de búsqueda y el string en el que buscar ese patrón. Devuelve el patrón localizado.\n",
    "\n",
    "def buscar_patron(patron, string):\n",
    "    return re.findall(patron, string)\n",
    "    "
   ]
  },
  {
   "cell_type": "code",
   "execution_count": 29,
   "metadata": {},
   "outputs": [
    {
     "name": "stdout",
     "output_type": "stream",
     "text": [
      "['Mr. Ben Suleman', 'MR. JAMES NGOLA.']\n"
     ]
    }
   ],
   "source": [
    "remitente = buscar_patron(patron_remitente, email)\n",
    "print(remitente)\n"
   ]
  },
  {
   "cell_type": "code",
   "execution_count": 52,
   "metadata": {},
   "outputs": [],
   "source": [
    "# Intentamos definir un función para crear un diccionario que almacene la información\n",
    "\n",
    "def crear_dict(k,v, nombre_dict = 'dict_regex'):\n",
    "    if len(nombre_dict) == 0:\n",
    "        nombre_dict= {}\n",
    "        nombre_dict[k]=v\n",
    "    else:\n",
    "        nombre_dict[k]=v\n",
    "\n",
    "    return nombre_dict"
   ]
  }
 ],
 "metadata": {
  "kernelspec": {
   "display_name": "Python 3.8.10 64-bit (microsoft store)",
   "language": "python",
   "name": "python3"
  },
  "language_info": {
   "codemirror_mode": {
    "name": "ipython",
    "version": 3
   },
   "file_extension": ".py",
   "mimetype": "text/x-python",
   "name": "python",
   "nbconvert_exporter": "python",
   "pygments_lexer": "ipython3",
   "version": "3.8.10"
  },
  "orig_nbformat": 4,
  "vscode": {
   "interpreter": {
    "hash": "79dd3c927003417683b619f87ecd0018a9d7de8be3a2646bb47397e38116df1b"
   }
  }
 },
 "nbformat": 4,
 "nbformat_minor": 2
}
