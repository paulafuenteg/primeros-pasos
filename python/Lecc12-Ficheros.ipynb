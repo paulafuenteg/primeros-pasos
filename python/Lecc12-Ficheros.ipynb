{
 "cells": [
  {
   "cell_type": "markdown",
   "metadata": {},
   "source": [
    "### PAIR PROGRAMMING - FICHEROS \n",
    "---"
   ]
  },
  {
   "cell_type": "markdown",
   "metadata": {},
   "source": [
    "**PRIMERA FUNCIÓN**\n",
    "\n",
    "- Esta función debe incluir el código que:\n",
    "\n",
    "  - Nos muestre en que carpeta estamos trabajando.\n",
    "\n",
    "  - Cree una carpeta que se llame \"aprendiendo-ficheros\".\n",
    "    Incluye en la función un programa que evite que nos de un error si la carpeta ya existe.\n",
    "\n",
    "  - Cree otra carpeta que se llame \"datos\" dentro de la carpeta \"aprendiendo-ficheros\". En esta carpeta \"datos\" guardaremos el fichero \"saludo.txt\" que os habéis descargado.\n",
    "\n",
    "  - Cambiad el directorio de trabajo a la carpeta \"datos\". Antes de seguir chequead que estáis trabajando en la carpeta \"datos\".\n",
    "\n",
    "  - Cambiad el nombre de la carpeta creada en el punto 2 a \"primera-toma-contacto\"\n",
    "\n",
    "\n",
    "- La función tendrá que recibir 3 parámetros:\n",
    "\n",
    "  - El nombre del nombre de la primera carpeta\n",
    "\n",
    "  - El nombre de la carpeta segunda carpeta\n",
    "\n",
    "  - El nombre con el que queramos cambiar el nombre de la primera carpeta creada\n",
    "\n",
    "Para saber si las carpetas ya existen tendréis que usar lstdir(recordad que nos devuelve una lista de ficheros y carpetas).\n",
    "\n",
    "Para poder controlar los errores tendremos que usar un if loop, que si el fichero existe, nos devuelva un mensaje de que el fichero ya existe. En caso de que no exista, los deberéis crear y que la función nos muestre un mensaje de que se ha creado.\n",
    "Tendréis que ir cambiando de directorio para poder crear las carpetas y cambiar sus nombres.\n",
    "\n"
   ]
  },
  {
   "cell_type": "code",
   "execution_count": 1,
   "metadata": {},
   "outputs": [],
   "source": [
    "# Importamos la librería os\n",
    "\n",
    "import os"
   ]
  },
  {
   "cell_type": "code",
   "execution_count": 2,
   "metadata": {},
   "outputs": [],
   "source": [
    "# Cargamos la función que nos interesa/getcwd de la librería os\n",
    "\n",
    "from os import getcwd"
   ]
  },
  {
   "cell_type": "code",
   "execution_count": 3,
   "metadata": {},
   "outputs": [
    {
     "data": {
      "text/plain": [
       "'c:\\\\Users\\\\Paula\\\\Documents\\\\Adalab\\\\ejercicios-de-adalab\\\\DA_promoc_modulo1_sprint2_MaiyPaula\\\\Python'"
      ]
     },
     "execution_count": 3,
     "metadata": {},
     "output_type": "execute_result"
    }
   ],
   "source": [
    "# Definimos en la variable mi_ruta la información de la ruta sobre donde estamos trabajando\n",
    "\n",
    "mi_ruta = os.getcwd()\n",
    "mi_ruta"
   ]
  },
  {
   "cell_type": "code",
   "execution_count": 4,
   "metadata": {},
   "outputs": [],
   "source": [
    "# Creamos la carpeta aprendiendo-ficheros y con try-except nos aseguramos de que no de error si ya existe esa carpeta.\n",
    "\n",
    "try:\n",
    "    os.mkdir('aprendiendo-ficheros')\n",
    "\n",
    "except :\n",
    "    pass"
   ]
  },
  {
   "cell_type": "code",
   "execution_count": 5,
   "metadata": {},
   "outputs": [],
   "source": [
    "# Nos movemos a la carpeta aprendiendo-fichero\n",
    "\n",
    "os.chdir('aprendiendo-ficheros')"
   ]
  },
  {
   "cell_type": "code",
   "execution_count": 6,
   "metadata": {},
   "outputs": [],
   "source": [
    "# Creamos una nueva carpeta dentro de la anterior\n",
    "\n",
    "try:\n",
    "    os.mkdir('datos')\n",
    "\n",
    "except :\n",
    "    pass"
   ]
  },
  {
   "cell_type": "code",
   "execution_count": 7,
   "metadata": {},
   "outputs": [],
   "source": [
    "os.chdir('datos')"
   ]
  },
  {
   "cell_type": "code",
   "execution_count": 8,
   "metadata": {},
   "outputs": [
    {
     "data": {
      "text/plain": [
       "'/home/marinatreze/REPOSITORIOS/DA_promoc_modulo1_sprint2_MaiyPaula/Python/aprendiendo-ficheros/datos'"
      ]
     },
     "execution_count": 8,
     "metadata": {},
     "output_type": "execute_result"
    }
   ],
   "source": [
    "os.getcwd()"
   ]
  },
  {
   "cell_type": "code",
   "execution_count": 9,
   "metadata": {},
   "outputs": [],
   "source": [
    "# Cambiamos el nombre a una de las carpetas que hemos creado antes\n",
    "\n",
    "os.rename('../../aprendiendo-ficheros', '../../primera-toma-contacto')\n"
   ]
  },
  {
   "cell_type": "code",
   "execution_count": 10,
   "metadata": {},
   "outputs": [
    {
     "data": {
      "text/plain": [
       "'/home/marinatreze/REPOSITORIOS/DA_promoc_modulo1_sprint2_MaiyPaula/Python/primera-toma-contacto/datos'"
      ]
     },
     "execution_count": 10,
     "metadata": {},
     "output_type": "execute_result"
    }
   ],
   "source": [
    "os.getcwd()"
   ]
  },
  {
   "cell_type": "code",
   "execution_count": 34,
   "metadata": {},
   "outputs": [],
   "source": [
    "import os\n",
    "from os import getcwd\n",
    "\n",
    "# Definimos la función con tres parámetros\n",
    "def crear_carpetas(carpeta1, carpeta2, cambiocarpeta1):\n",
    "    # Creamos una carpeta nueva si no existe con los avisos de si se ha creado o de si ya existe.\n",
    "    if carpeta1 not in os.listdir():\n",
    "        os.mkdir(carpeta1)\n",
    "        print('La carpeta se ha creado')\n",
    "    else:\n",
    "        print('El fichero ya existe')\n",
    "        pass\n",
    "\n",
    "    # Nos movemos a la carpeta creada\n",
    "    os.chdir(carpeta1)\n",
    "\n",
    "    # Creamos una subcarpeta\n",
    "    if carpeta2 not in os.listdir():\n",
    "        os.mkdir(carpeta2)\n",
    "        print('La carpeta se ha creado')\n",
    "    else:\n",
    "        print('El fichero ya existe')\n",
    "        pass\n",
    "\n",
    "    # Cambiamos el nombre a la primera carpeta creada\n",
    "    os.rename(f'../{carpeta1}', f'../{cambiocarpeta1} ')\n",
    "\n",
    "    # Nos devuelve la información de la ruta del directorio de trabajo en el que estamos.\n",
    "    return os.getcwd()\n",
    "\n"
   ]
  },
  {
   "cell_type": "code",
   "execution_count": null,
   "metadata": {},
   "outputs": [],
   "source": [
    "# Comprobamos la función anterior poniendo entre paréntesis los parámetros/nombres de carpetas.\n",
    "\n",
    "crear_carpetas('aprendiendo-ficheros', 'datos', 'primera-toma-contacto')"
   ]
  },
  {
   "cell_type": "markdown",
   "metadata": {},
   "source": [
    "---"
   ]
  },
  {
   "cell_type": "markdown",
   "metadata": {},
   "source": [
    "**SEGUNDA FUNCIÓN**\n",
    "\n",
    "📌 Antes de empezar, recordad descargaros el fichero saludo.txt y guardarlo en el repo en el que estáis trabajando, dentro de una carpeta que se llame \"datos\".\n",
    "\n",
    "- Lea el fichero que se llame \"saludo.txt y muestre su contenido completo.\n",
    "\n",
    "- Muestra la línea 4 del fichero\n",
    "\n",
    "💡 *Tips*\n",
    "\n",
    "- Antes de empezar, tendréis que saber cuál es vuestro directorio de trabajo.\n",
    "\n",
    "- Tened en cuenta en que carpeta estáis. Si vuestro directorio de trabajo no es \"datos\" tendréis que cambiarlo o poner la ruta relativa a la carpeta \"datos\".\n",
    "\n",
    "- Usar if... else para evitar que se nos pare el código.\n",
    "\n",
    "- Para cambiar el fichero podréis usar el comando input para preguntar el usuario donde está el fichero y que se pueda usar la ruta relativa o absoluta."
   ]
  },
  {
   "cell_type": "code",
   "execution_count": 1,
   "metadata": {},
   "outputs": [
    {
     "data": {
      "text/plain": [
       "'/home/marinatreze/REPOSITORIOS/DA_promoc_modulo1_sprint2_MaiyPaula/Python'"
      ]
     },
     "execution_count": 1,
     "metadata": {},
     "output_type": "execute_result"
    }
   ],
   "source": [
    "# Comprobamos la ruta del directorio de trabajo\n",
    "\n",
    "os.getcwd()"
   ]
  },
  {
   "cell_type": "code",
   "execution_count": null,
   "metadata": {},
   "outputs": [],
   "source": [
    "# Nos ubicamos en la carpeta donde se encuentra el archivo\n",
    "\n",
    "os.chdir('datos')"
   ]
  },
  {
   "cell_type": "code",
   "execution_count": 15,
   "metadata": {},
   "outputs": [
    {
     "data": {
      "text/plain": [
       "[]"
      ]
     },
     "execution_count": 15,
     "metadata": {},
     "output_type": "execute_result"
    }
   ],
   "source": [
    "# Comprobamos los archivos que hay dentro de la carpeta\n",
    "\n",
    "os.listdir()"
   ]
  },
  {
   "cell_type": "code",
   "execution_count": null,
   "metadata": {},
   "outputs": [],
   "source": [
    "# Con with open abrimos el archivo saludo en formato de lectura 'r'\n",
    "\n",
    "with open('saludo.txt', 'r') as f:\n",
    "    saludo = f.read()\n",
    "    print(saludo)"
   ]
  },
  {
   "cell_type": "code",
   "execution_count": null,
   "metadata": {},
   "outputs": [
    {
     "name": "stdout",
     "output_type": "stream",
     "text": [
      "\n",
      "\n"
     ]
    }
   ],
   "source": [
    "# Con with open abrimos el archivo saludo en formato lectura, aplicandole el método readlines para leer \n",
    "# todo el arvhivo, especificando en el print solo la lectura de las 3 primeras líneas\n",
    "\n",
    "with open('saludo.txt', 'r') as f:\n",
    "    saludo_lista = f.readlines() \n",
    "    print(saludo_lista[3])"
   ]
  },
  {
   "cell_type": "code",
   "execution_count": 17,
   "metadata": {},
   "outputs": [],
   "source": [
    "# Definimos la función de lectura\n",
    "def lectura_archivo():\n",
    "\n",
    "    # Si el archivo está en la carpeta lo abrimos para su lectura completa\n",
    "    if 'saludo.txt' in os.listdir():\n",
    "        with open('saludo.txt', 'r') as f:\n",
    "            saludo = f.read()\n",
    "            print(saludo)\n",
    "        # Usamos el método readline para seleccionar en función de las líneas  que queremos leer del fichero\n",
    "        with open('saludo.txt', 'r') as f:\n",
    "            saludo_lista = f.readlines() \n",
    "            print(saludo_lista[3])\n",
    "\n",
    "    # Si el archivo no está en la carpeta pedimos en el input la ruta relativa para poder acceder a su lectura\n",
    "    else:\n",
    "        ruta_archivo= input('¿Cuál es la ruta del fichero?')\n",
    "        with open(f'{ruta_archivo}/saludo.txt', 'r') as f:\n",
    "            saludo = f.read()\n",
    "            print(saludo)\n",
    "\n",
    "        with open(f'{ruta_archivo}/saludo.txt', 'r') as f:\n",
    "            saludo_lista = f.readlines() \n",
    "            print(saludo_lista[3])\n",
    "    \n",
    "    f.close()\n",
    "    "
   ]
  },
  {
   "cell_type": "code",
   "execution_count": null,
   "metadata": {},
   "outputs": [],
   "source": [
    "# LLamamos a la función\n",
    "\n",
    "lectura_archivo()"
   ]
  },
  {
   "cell_type": "markdown",
   "metadata": {},
   "source": [
    "---"
   ]
  },
  {
   "cell_type": "markdown",
   "metadata": {},
   "source": [
    "**LECTURA Y ESCRITURA DE FICHEROS**"
   ]
  },
  {
   "cell_type": "markdown",
   "metadata": {},
   "source": [
    "1. La función debe recibir 4 parámetros:\n",
    "\n",
    "    - Nombre del fichero, incluyendo la extensión.\n",
    "\n",
    "    - Como queremos leer el fichero.\n",
    "\n",
    "    - El encoding del fichero.\n",
    "\n",
    "    - El contenido que queremos escribir en el fichero.\n",
    "\n",
    "2. Condiciones de la función:\n",
    "\n",
    "    - Si el fichero no existe, debe crearlo, insertar contenido y mostrar su contenido.\n",
    "        \n",
    "    - Si el fichero existe pregunta al usuario si quiere sobreescribirlo. En caso de Si, sobreescribe el fichero, insertad contenido y leedlo. En caso de No, no hace nada.\n",
    "\n",
    "💡 *Tips*\n",
    "\n",
    "- Para chequear si un fichero existe, podemos usar la función os.listdir() que devuelve una lista con los nombres de los ficheros que hay en un directorio.\n",
    "\n",
    "- Para crear un fichero, podemos usar la función open() que recibe como parámetros el nombre del fichero, el modo de apertura y el encoding.\n",
    "\n",
    "- Para chequear si el fichero existe debéis usar los for loops y el método in para comprobar si el nombre del fichero está en la lista de ficheros.\n",
    "\n",
    "- Usar un input para preguntar al usuario si quiere  el fichero.\n",
    "\n",
    "- Para sobreescribir el fichero, podemos usar la función open() que recibe como parámetros el nombre del fichero, el modo de apertura y el encoding.\n",
    "\n",
    "- Strings que cubren más que una línea tienen que ser iniciados y cerrados con tres comillas \"\"\".\n"
   ]
  },
  {
   "cell_type": "code",
   "execution_count": null,
   "metadata": {},
   "outputs": [],
   "source": [
    "# Definimos una función para leer y escribir sobre el fichero con cuatro parámetros.\n",
    "\n",
    "def lectura_escritura_fichero(fichero_extension, mode, encod, nuevo_contenido):\n",
    "\n",
    "    # La función comprueba si el nombre del fichero existe en la ruta en la que nos encontramos, si no existe, \n",
    "    # lo abre, lo crea, escribe dentro el contenido que se indica y printea el archivo. \n",
    "    if fichero_extension not in os.listdir():\n",
    "        with open(fichero_extension, 'w') as f:\n",
    "            f.write(nuevo_contenido)\n",
    "            f.close()\n",
    "        with open(fichero_extension, mode, encoding=encod) as f:\n",
    "            texto= f.read()\n",
    "            print(texto)\n",
    "            \n",
    "    # Si el archivo existe, pregunta al usuario a través de un input si quiere sobreescribir nuevo contenido, \n",
    "    # si es que si, lo abre y lo escribe, y si es que no, pasa.\n",
    "    else:\n",
    "        if input('¿Quieres sobreescribirlo?').capitalize() == 'Si':\n",
    "            with open(fichero_extension, 'w') as f:\n",
    "                f.write(nuevo_contenido)\n",
    "                f.close()\n",
    "            with open(fichero_extension, mode, encoding=encod) as f:\n",
    "                texto= f.read()\n",
    "                print(texto)\n",
    "        else:\n",
    "            pass"
   ]
  },
  {
   "cell_type": "code",
   "execution_count": null,
   "metadata": {},
   "outputs": [
    {
     "name": "stdout",
     "output_type": "stream",
     "text": [
      "Thu Oct 31 08:11:39 2002\n",
      "        Return-Path: <bensul2004nng@spinfinder.com>\n",
      "        X-Sieve: cmu-sieve 2.0\n",
      "        Return-Path: <bensul2004nng@spinfinder.com>\n",
      "        Message-Id: <200210311310.g9VDANt24674@bloodwork.mr.itd.UM>\n",
      "        From: \"Mr. Ben Suleman\" <bensul2004nng@spinfinder.com>\n",
      "        Date: Thu, 31 Oct 2002 05:10:00\n",
      "        To: R@M\n",
      "        Subject: URGENT ASSISTANCE /RELATIONSHIP (P)\n",
      "        MIME-Version: 1.0\n",
      "        Content-Type: text/plain;charset=\"iso-8859-1\"\n",
      "        Content-Transfer-Encoding: 7bit\n",
      "        Status: O\n",
      "\n",
      "        Dear Friend,\n",
      "\n",
      "        I am Mr. Ben Suleman a custom officer and work as Assistant controller of the Customs and Excise department Of the Federal Ministry of Internal Affairs stationed at the Murtala Mohammed International Airport, Ikeja, Lagos-Nigeria.\n",
      "\n",
      "        After the sudden death of the former Head of state of Nigeria General Sanni Abacha on June 8th 1998 his aides and immediate members of his family were arrested while trying to escape from Nigeria in a Chartered jet to Saudi Arabia with 6 trunk boxes Marked \"Diplomatic Baggage\". Acting on a tip-off as they attempted to board the Air Craft,my officials carried out a thorough search on the air craft and discovered that the 6 trunk boxes contained foreign currencies amounting to US$197,570,000.00(One Hundred and  Ninety-Seven Million Five Hundred Seventy Thousand United States Dollars).\n",
      "\n",
      "        I declared only (5) five boxes to the government and withheld one (1) in my custody containing the sum of (US$30,000,000.00) Thirty Million United States Dollars Only, which has been disguised to prevent their being discovered during transportation process.Due to several media reports on the late head of state about all the money him and his co-government officials stole from our government treasury amounting\n",
      "        to US$55 Billion Dollars (ref:ngrguardiannews.com) of July 2nd 1999. Even the London times of July 1998 reported that General Abacha has over US$3.Billion dollars in one account overseas. We decided to conceal this one (1)box till the situation is calm and quite on the issue. The box was thus deposited with a security company here in Nigeria and tagged as \"Precious Stones and Jewellry\" in other that its\n",
      "        content will not be discovered. Now that all is calm, we (myself and two of my colleagues in the operations team) are now ready to move this box out of the country through a diplomatic arrangement which is the safest means. \n",
      "\n",
      "        However as government officials the Civil Service Code of Conduct does not allow us by law to operate any foreign account or own foreign investment and the amount of money that can be found in our account\n",
      "        cannot be more than our salary on the average, thus our handicapp and our need for your assistance to help collect and keep safely in your account this money.\n",
      "\n",
      "        Therefore we want you to assist us in moving this money out of Nigeria. We shall definitely compensate you handsomely for the assistance. We can do this by instructing the Security Company here in Nigeria to\n",
      "        move the consignment to their affiliate branch office outside Nigeria through diplomatic means and the consignment will be termed as Precious Stones and Jewelleries\" which you bought during your visit to Nigeria and is being transfered to your country from here for safe keeping. Then we can arrange to meet at the destination country to take the delivery of the consignment. You will thereafter open an account there and lodge the Money there and gradually instruct remittance to your Country. \n",
      "\n",
      "        This business is 100% risk free for you so please treat this matter with utmost confidentiality .If you indicate your interest to assist us please just e-mail me for more Explanation on how we plan to execute the transaction.\n",
      "\n",
      "        Expecting your response urgently.\n",
      "\n",
      "        Best regards,\n",
      "\n",
      "        Mr. Ben Suleman\n",
      "\n",
      "        Wed Oct 30 21:41:56 2002\n",
      "        Return-Path: <james_ngola2002@maktoob.com>\n",
      "        X-Sieve: cmu-sieve 2.0\n",
      "        Return-Path: <james_ngola2002@maktoob.com>\n",
      "        Message-Id: <200210310241.g9V2fNm6028281@cs.CU>\n",
      "        From: \"MR. JAMES NGOLA.\" <james_ngola2002@maktoob.com>\n",
      "        Reply-To: james_ngola2002@maktoob.com\n",
      "        To: webmaster@aclweb.org\n",
      "        Date: Thu, 31 Oct 2002 02:38:20 +0000\n",
      "        Subject: URGENT BUSINESS ASSISTANCE AND PARTNERSHIP\n",
      "        X-Mailer: Microsoft Outlook Express 5.00.2919.6900 DM\n",
      "        MIME-Version: 1.0\n",
      "        Content-Type: text/plain; charset=\"us-ascii\"\n",
      "        Content-Transfer-Encoding: 8bit\n",
      "        X-MIME-Autoconverted: from quoted-printable to 8bit by sideshowmel.si.UM id g9V2foW24311\n",
      "        Status: O\n",
      "\n",
      "        FROM:MR. JAMES NGOLA.\n",
      "        CONFIDENTIAL TEL: 233-27-587908.\n",
      "        E-MAIL: (james_ngola2002@maktoob.com).\n",
      "\n",
      "        URGENT BUSINESS ASSISTANCE AND PARTNERSHIP.\n",
      "\n",
      "\n",
      "        DEAR FRIEND,\n",
      "\n",
      "        I AM ( DR.) JAMES NGOLA, THE PERSONAL ASSISTANCE TO THE LATE CONGOLESE (PRESIDENT LAURENT KABILA) WHO WAS ASSASSINATED BY HIS BODY GUARD ON 16TH JAN. 2001.\n",
      "\n",
      "\n",
      "        THE INCIDENT OCCURRED IN OUR PRESENCE WHILE WE WERE HOLDING MEETING WITH HIS EXCELLENCY OVER THE FINANCIAL RETURNS FROM THE DIAMOND SALES IN THE AREAS CONTROLLED BY (D.R.C.) DEMOCRATIC REPUBLIC OF CONGO FORCES AND THEIR FOREIGN ALLIES ANGOLA AND ZIMBABWE, HAVING RECEIVED THE PREVIOUS DAY (USD$100M) ONE HUNDRED MILLION UNITED STATES DOLLARS, CASH IN THREE DIPLOMATIC BOXES ROUTED THROUGH ZIMBABWE.\n",
      "\n",
      "        MY PURPOSE OF WRITING YOU THIS LETTER IS TO SOLICIT FOR YOUR ASSISTANCE AS TO BE A COVER TO THE FUND AND ALSO COLLABORATION IN MOVING THE SAID FUND INTO YOUR BANK ACCOUNT THE SUM OF (USD$25M) TWENTY FIVE MILLION UNITED STATES DOLLARS ONLY, WHICH I DEPOSITED WITH A SECURITY COMPANY IN GHANA, IN A DIPLOMATIC BOX AS GOLDS WORTH (USD$25M) TWENTY FIVE MILLION UNITED STATES DOLLARS ONLY FOR SAFE KEEPING IN A SECURITY VAULT FOR ANY FURTHER INVESTMENT PERHAPS IN YOUR COUNTRY. \n",
      "\n",
      "        YOU WERE INTRODUCED TO ME BY A RELIABLE FRIEND OF MINE WHO IS A TRAVELLER,AND ALSO A MEMBER OF CHAMBER OF COMMERCE AS A RELIABLE AND TRUSTWORTHY PERSON WHOM I CAN RELY ON AS FOREIGN PARTNER, EVEN THOUGH THE NATURE OF THE TRANSACTION WAS NOT REVEALED TO HIM FOR SECURITY REASONS.\n",
      "\n",
      "\n",
      "        THE (USD$25M) WAS PART OF A PROCEEDS FROM DIAMOND TRADE MEANT FOR THE LATE PRESIDENT LAURENT KABILA WHICH WAS DELIVERED THROUGH ZIMBABWE IN DIPLOMATIC BOXES. THE BOXES WERE KEPT UNDER MY CUSTODY BEFORE THE SAD EVENT THAT TOOK THE LIFE OF (MR. PRESIDENT).THE CONFUSION THAT ENSUED AFTER THE ASSASSINATION AND THE SPORADIC SHOOTING AMONG THE FACTIONS, I HAVE TO RUN AWAY FROM THE COUNTRY FOR MY DEAR LIFE AS I AM NOT A SOLDIER BUT A CIVIL SERVANT I CROSSED RIVER CONGO TO OTHER SIDE OF CONGO LIBREVILLE FROM THERE I MOVED TO THE THIRD COUNTRY GHANA WHERE I AM PRESENTLY TAKING REFUGE. \n",
      "\n",
      "        AS A MATTER OF FACT, WHAT I URGENTLY NEEDED FROM YOU IS YOUR ASSISTANCE IN MOVING THIS MONEY INTO YOUR ACCOUNT IN YOUR COUNTRY FOR INVESTMENT WITHOUT RAISING EYEBROW. FOR YOUR ASSISTANCE I WILL GIVE YOU 20% OF THE TOTAL SUM AS YOUR OWN SHARE WHEN THE MONEY GETS TO YOUR ACCOUNT, WHILE 75% WILL BE FOR ME, OF WHICH WITH YOUR KIND ADVICE I HOPE TO INVEST IN PROFITABLE VENTURE IN YOUR COUNTRY IN OTHER TO SETTLE DOWN FOR MEANINGFUL LIFE, AS I AM TIRED OF LIVING IN A WAR ENVIRONMENT. \n",
      "\n",
      "        THE REMAINING 5% WILL BE USED TO OFFSET ANY COST INCURRED IN THE CAUSE OF MOVING THE MONEY TO YOUR ACCOUNT. IF THE PROPOSAL IS ACCEPTABLE TO YOU PLEASE CONTACT ME IMMEDIATELY THROUGH THE ABOVE TELEPHONE AND E-MAIL, TO ENABLE ME ARRANGE FACE TO FACE MEETING WITH YOU IN GHANA FOR THE CLEARANCE OF THE FUNDS BEFORE TRANSFRING IT TO YOUR BANK ACCOUNT AS SEEING IS BELIEVING. \n",
      "\n",
      "        FINALLY, IT IS IMPORTANT ALSO THAT I LET YOU UNDERSTAND THAT THERE IS NO RISK INVOLVED WHATSOEVER AS THE MONEY HAD NO RECORD IN KINSHASA FOR IT WAS MEANT FOR THE PERSONAL USE OF (MR. PRESIDEND ) BEFORE THE NEFARIOUS INCIDENT OCCURRED, AND ALSO I HAVE ALL THE NECESSARY DOCUMENTS AS REGARDS TO THE FUNDS INCLUDING THE (CERTIFICATE OF DEPOSIT), AS I AM THE DEPOSITOR OF THE CONSIGNMENT.\n",
      "\n",
      "\n",
      "        LOOKING FORWARD TO YOUR URGENT RESPONSE.\n",
      "\n",
      "        YOUR SINCERELY,\n",
      "\n",
      "        MR. JAMES NGOLA.\n"
     ]
    }
   ],
   "source": [
    "# Llamamos a la función con los parámetros entre paréntesis de la extensión del fichero, el modo lectura, \n",
    "# el encoding y la variable con el contenido a insertar que está definido en una celda más abajo. \n",
    "\n",
    "lectura_escritura_fichero('fichero.txt', 'rt', 'utf-8', contenido_insertar)"
   ]
  },
  {
   "cell_type": "code",
   "execution_count": null,
   "metadata": {},
   "outputs": [],
   "source": [
    "# Asignamos una variable al contenido que insertaremos en la función\n",
    "\n",
    "contenido_insertar = '''Thu Oct 31 08:11:39 2002\n",
    "        Return-Path: <bensul2004nng@spinfinder.com>\n",
    "        X-Sieve: cmu-sieve 2.0\n",
    "        Return-Path: <bensul2004nng@spinfinder.com>\n",
    "        Message-Id: <200210311310.g9VDANt24674@bloodwork.mr.itd.UM>\n",
    "        From: \"Mr. Ben Suleman\" <bensul2004nng@spinfinder.com>\n",
    "        Date: Thu, 31 Oct 2002 05:10:00\n",
    "        To: R@M\n",
    "        Subject: URGENT ASSISTANCE /RELATIONSHIP (P)\n",
    "        MIME-Version: 1.0\n",
    "        Content-Type: text/plain;charset=\"iso-8859-1\"\n",
    "        Content-Transfer-Encoding: 7bit\n",
    "        Status: O\n",
    "\n",
    "        Dear Friend,\n",
    "\n",
    "        I am Mr. Ben Suleman a custom officer and work as Assistant controller of the Customs and Excise department Of the Federal Ministry of Internal Affairs stationed at the Murtala Mohammed International Airport, Ikeja, Lagos-Nigeria.\n",
    "\n",
    "        After the sudden death of the former Head of state of Nigeria General Sanni Abacha on June 8th 1998 his aides and immediate members of his family were arrested while trying to escape from Nigeria in a Chartered jet to Saudi Arabia with 6 trunk boxes Marked \"Diplomatic Baggage\". Acting on a tip-off as they attempted to board the Air Craft,my officials carried out a thorough search on the air craft and discovered that the 6 trunk boxes contained foreign currencies amounting to US$197,570,000.00(One Hundred and  Ninety-Seven Million Five Hundred Seventy Thousand United States Dollars).\n",
    "\n",
    "        I declared only (5) five boxes to the government and withheld one (1) in my custody containing the sum of (US$30,000,000.00) Thirty Million United States Dollars Only, which has been disguised to prevent their being discovered during transportation process.Due to several media reports on the late head of state about all the money him and his co-government officials stole from our government treasury amounting\n",
    "        to US$55 Billion Dollars (ref:ngrguardiannews.com) of July 2nd 1999. Even the London times of July 1998 reported that General Abacha has over US$3.Billion dollars in one account overseas. We decided to conceal this one (1)box till the situation is calm and quite on the issue. The box was thus deposited with a security company here in Nigeria and tagged as \"Precious Stones and Jewellry\" in other that its\n",
    "        content will not be discovered. Now that all is calm, we (myself and two of my colleagues in the operations team) are now ready to move this box out of the country through a diplomatic arrangement which is the safest means. \n",
    "\n",
    "        However as government officials the Civil Service Code of Conduct does not allow us by law to operate any foreign account or own foreign investment and the amount of money that can be found in our account\n",
    "        cannot be more than our salary on the average, thus our handicapp and our need for your assistance to help collect and keep safely in your account this money.\n",
    "\n",
    "        Therefore we want you to assist us in moving this money out of Nigeria. We shall definitely compensate you handsomely for the assistance. We can do this by instructing the Security Company here in Nigeria to\n",
    "        move the consignment to their affiliate branch office outside Nigeria through diplomatic means and the consignment will be termed as Precious Stones and Jewelleries\" which you bought during your visit to Nigeria and is being transfered to your country from here for safe keeping. Then we can arrange to meet at the destination country to take the delivery of the consignment. You will thereafter open an account there and lodge the Money there and gradually instruct remittance to your Country. \n",
    "\n",
    "        This business is 100% risk free for you so please treat this matter with utmost confidentiality .If you indicate your interest to assist us please just e-mail me for more Explanation on how we plan to execute the transaction.\n",
    "\n",
    "        Expecting your response urgently.\n",
    "\n",
    "        Best regards,\n",
    "\n",
    "        Mr. Ben Suleman\n",
    "\n",
    "        Wed Oct 30 21:41:56 2002\n",
    "        Return-Path: <james_ngola2002@maktoob.com>\n",
    "        X-Sieve: cmu-sieve 2.0\n",
    "        Return-Path: <james_ngola2002@maktoob.com>\n",
    "        Message-Id: <200210310241.g9V2fNm6028281@cs.CU>\n",
    "        From: \"MR. JAMES NGOLA.\" <james_ngola2002@maktoob.com>\n",
    "        Reply-To: james_ngola2002@maktoob.com\n",
    "        To: webmaster@aclweb.org\n",
    "        Date: Thu, 31 Oct 2002 02:38:20 +0000\n",
    "        Subject: URGENT BUSINESS ASSISTANCE AND PARTNERSHIP\n",
    "        X-Mailer: Microsoft Outlook Express 5.00.2919.6900 DM\n",
    "        MIME-Version: 1.0\n",
    "        Content-Type: text/plain; charset=\"us-ascii\"\n",
    "        Content-Transfer-Encoding: 8bit\n",
    "        X-MIME-Autoconverted: from quoted-printable to 8bit by sideshowmel.si.UM id g9V2foW24311\n",
    "        Status: O\n",
    "\n",
    "        FROM:MR. JAMES NGOLA.\n",
    "        CONFIDENTIAL TEL: 233-27-587908.\n",
    "        E-MAIL: (james_ngola2002@maktoob.com).\n",
    "\n",
    "        URGENT BUSINESS ASSISTANCE AND PARTNERSHIP.\n",
    "\n",
    "\n",
    "        DEAR FRIEND,\n",
    "\n",
    "        I AM ( DR.) JAMES NGOLA, THE PERSONAL ASSISTANCE TO THE LATE CONGOLESE (PRESIDENT LAURENT KABILA) WHO WAS ASSASSINATED BY HIS BODY GUARD ON 16TH JAN. 2001.\n",
    "\n",
    "\n",
    "        THE INCIDENT OCCURRED IN OUR PRESENCE WHILE WE WERE HOLDING MEETING WITH HIS EXCELLENCY OVER THE FINANCIAL RETURNS FROM THE DIAMOND SALES IN THE AREAS CONTROLLED BY (D.R.C.) DEMOCRATIC REPUBLIC OF CONGO FORCES AND THEIR FOREIGN ALLIES ANGOLA AND ZIMBABWE, HAVING RECEIVED THE PREVIOUS DAY (USD$100M) ONE HUNDRED MILLION UNITED STATES DOLLARS, CASH IN THREE DIPLOMATIC BOXES ROUTED THROUGH ZIMBABWE.\n",
    "\n",
    "        MY PURPOSE OF WRITING YOU THIS LETTER IS TO SOLICIT FOR YOUR ASSISTANCE AS TO BE A COVER TO THE FUND AND ALSO COLLABORATION IN MOVING THE SAID FUND INTO YOUR BANK ACCOUNT THE SUM OF (USD$25M) TWENTY FIVE MILLION UNITED STATES DOLLARS ONLY, WHICH I DEPOSITED WITH A SECURITY COMPANY IN GHANA, IN A DIPLOMATIC BOX AS GOLDS WORTH (USD$25M) TWENTY FIVE MILLION UNITED STATES DOLLARS ONLY FOR SAFE KEEPING IN A SECURITY VAULT FOR ANY FURTHER INVESTMENT PERHAPS IN YOUR COUNTRY. \n",
    "\n",
    "        YOU WERE INTRODUCED TO ME BY A RELIABLE FRIEND OF MINE WHO IS A TRAVELLER,AND ALSO A MEMBER OF CHAMBER OF COMMERCE AS A RELIABLE AND TRUSTWORTHY PERSON WHOM I CAN RELY ON AS FOREIGN PARTNER, EVEN THOUGH THE NATURE OF THE TRANSACTION WAS NOT REVEALED TO HIM FOR SECURITY REASONS.\n",
    "\n",
    "\n",
    "        THE (USD$25M) WAS PART OF A PROCEEDS FROM DIAMOND TRADE MEANT FOR THE LATE PRESIDENT LAURENT KABILA WHICH WAS DELIVERED THROUGH ZIMBABWE IN DIPLOMATIC BOXES. THE BOXES WERE KEPT UNDER MY CUSTODY BEFORE THE SAD EVENT THAT TOOK THE LIFE OF (MR. PRESIDENT).THE CONFUSION THAT ENSUED AFTER THE ASSASSINATION AND THE SPORADIC SHOOTING AMONG THE FACTIONS, I HAVE TO RUN AWAY FROM THE COUNTRY FOR MY DEAR LIFE AS I AM NOT A SOLDIER BUT A CIVIL SERVANT I CROSSED RIVER CONGO TO OTHER SIDE OF CONGO LIBREVILLE FROM THERE I MOVED TO THE THIRD COUNTRY GHANA WHERE I AM PRESENTLY TAKING REFUGE. \n",
    "\n",
    "        AS A MATTER OF FACT, WHAT I URGENTLY NEEDED FROM YOU IS YOUR ASSISTANCE IN MOVING THIS MONEY INTO YOUR ACCOUNT IN YOUR COUNTRY FOR INVESTMENT WITHOUT RAISING EYEBROW. FOR YOUR ASSISTANCE I WILL GIVE YOU 20% OF THE TOTAL SUM AS YOUR OWN SHARE WHEN THE MONEY GETS TO YOUR ACCOUNT, WHILE 75% WILL BE FOR ME, OF WHICH WITH YOUR KIND ADVICE I HOPE TO INVEST IN PROFITABLE VENTURE IN YOUR COUNTRY IN OTHER TO SETTLE DOWN FOR MEANINGFUL LIFE, AS I AM TIRED OF LIVING IN A WAR ENVIRONMENT. \n",
    "\n",
    "        THE REMAINING 5% WILL BE USED TO OFFSET ANY COST INCURRED IN THE CAUSE OF MOVING THE MONEY TO YOUR ACCOUNT. IF THE PROPOSAL IS ACCEPTABLE TO YOU PLEASE CONTACT ME IMMEDIATELY THROUGH THE ABOVE TELEPHONE AND E-MAIL, TO ENABLE ME ARRANGE FACE TO FACE MEETING WITH YOU IN GHANA FOR THE CLEARANCE OF THE FUNDS BEFORE TRANSFRING IT TO YOUR BANK ACCOUNT AS SEEING IS BELIEVING. \n",
    "\n",
    "        FINALLY, IT IS IMPORTANT ALSO THAT I LET YOU UNDERSTAND THAT THERE IS NO RISK INVOLVED WHATSOEVER AS THE MONEY HAD NO RECORD IN KINSHASA FOR IT WAS MEANT FOR THE PERSONAL USE OF (MR. PRESIDEND ) BEFORE THE NEFARIOUS INCIDENT OCCURRED, AND ALSO I HAVE ALL THE NECESSARY DOCUMENTS AS REGARDS TO THE FUNDS INCLUDING THE (CERTIFICATE OF DEPOSIT), AS I AM THE DEPOSITOR OF THE CONSIGNMENT.\n",
    "\n",
    "\n",
    "        LOOKING FORWARD TO YOUR URGENT RESPONSE.\n",
    "\n",
    "        YOUR SINCERELY,\n",
    "\n",
    "        MR. JAMES NGOLA.'''"
   ]
  },
  {
   "cell_type": "markdown",
   "metadata": {},
   "source": [
    "---"
   ]
  },
  {
   "cell_type": "markdown",
   "metadata": {},
   "source": [
    "**ARCHIVOS xml**\n",
    "\n",
    "1. Descargar el archivo llamado peliculas.xml que contiene una lista de películas.\n",
    "\n",
    "2. En este ejercicio tendréis que crear una función que reciba el nombre del archivo xml y que devuelva lo siguiente:\n",
    "\n",
    "    - Qué tag y atributos tiene el archivo xml.\n",
    "\n",
    "    - La descripción de cada una de las películas que tenemos en ese archivo.\n",
    "\n",
    "    - Los años en que fueron estrenadas las películas.\n",
    "\n",
    "💡 *Tips*\n",
    "\n",
    "- La función debe recibir un parámetro, el nombre del archivo xml.\n",
    "\n",
    "- Tendréis que utlizar un bucle for para recorrer todo el archivo xml y extraer la información que os pedimos.\n",
    "\n",
    "- Recordad el método .text para extraer el texto de un elemento."
   ]
  },
  {
   "cell_type": "code",
   "execution_count": null,
   "metadata": {},
   "outputs": [
    {
     "data": {
      "text/plain": [
       "'/mnt/c/Users/Paula/Documents/Adalab/ejercicios-de-adalab/DA_promoc_modulo1_sprint2_MaiyPaula/Python'"
      ]
     },
     "execution_count": 1,
     "metadata": {},
     "output_type": "execute_result"
    }
   ],
   "source": [
    "# Comprobamos la ruta del directorio de trabajo\n",
    "\n",
    "os.getcwd()"
   ]
  },
  {
   "cell_type": "code",
   "execution_count": null,
   "metadata": {},
   "outputs": [],
   "source": [
    "# Nos ubicamos en la carpeta donde se encuentra el archivo\n",
    "\n",
    "os.chdir('archivo_ficheros')"
   ]
  },
  {
   "cell_type": "code",
   "execution_count": null,
   "metadata": {},
   "outputs": [],
   "source": [
    "# Importamos la librería que necesitamos para trabajar con archivos xml\n",
    "import xml.etree.ElementTree as ET\n",
    "\n",
    "def lectura_xml(nombre_archivo):\n",
    "    ''' Creamos esta función para la lectura y extración de información de un archivo xml.\n",
    "        Devuelve el root tag y los atributos del root por una parte, el texto contenido en el tag description de todas las peliculas \n",
    "        y por último los años de estreno de todas las películas.'''\n",
    "\n",
    "    # Abrimos el fichero\n",
    "    tree= ET.parse(nombre_archivo)\n",
    "    root= tree.getroot()\n",
    "    \n",
    "    # Printeamos cuál es la raiz, el padre del archivo xml y los atributos\n",
    "    print(f' Los tags de este xml son: {root.tag}')\n",
    "    print(f' Los atributos de este xml son: {root.attrib}')\n",
    "    print ('----------------------------------------------------------------')\n",
    "\n",
    "    # Iteramos por todas las 'ramas' del xml mediante for loops anidados hasta el tag movie donde encontramos la description y la printeamos.\n",
    "    # Usamos findall para que itere por todas las ramas\n",
    "    num = 1\n",
    "    for generos in root.findall('genre'):\n",
    "        for decadas in generos.findall('decade'):\n",
    "            for movies in decadas.findall('movie'):\n",
    "                print(f'La descripción de la pelicula',num, 'es:',movies.find('description').text)\n",
    "                num += 1\n",
    "    print ('----------------------------------------------------------------')\n",
    "    # Iteramos por todas las 'ramas' del xml hasta el tag movie donde encontramos el año y lo printeamos como en el anterior.\n",
    "    num = 1 \n",
    "    for generos in root.findall('genre'):\n",
    "            for decadas in generos.findall('decade'):\n",
    "                for movies in decadas.findall('movie'):\n",
    "                    print(f'La pelicula',num, 'se estreno el año:',movies.find('year').text)\n",
    "                    num += 1\n"
   ]
  },
  {
   "cell_type": "code",
   "execution_count": null,
   "metadata": {},
   "outputs": [
    {
     "name": "stdout",
     "output_type": "stream",
     "text": [
      " Los tags de este xml son: collection\n",
      " Los atributos de este xml son: {}\n",
      "----------------------------------------------------------------\n",
      "La descripción de la pelicula 1 es: \n",
      "                'Archaeologist and adventurer Indiana Jones \n",
      "                is hired by the U.S. government to find the Ark of  the Covenant before the Nazis.'\n",
      "                \n",
      "La descripción de la pelicula 2 es: None provided.\n",
      "La descripción de la pelicula 3 es: Marty McFly\n",
      "La descripción de la pelicula 4 es: Two mutants come to a private academy for their kind whose resident superhero team must oppose a terrorist organization with similar powers.\n",
      "La descripción de la pelicula 5 es: NA.\n",
      "La descripción de la pelicula 6 es: WhAtEvER I Want!!!?!\n",
      "La descripción de la pelicula 7 es: \"\"\"\"\"\"\"\"\"\n",
      "La descripción de la pelicula 8 es: Funny movie on funny guy \n",
      "La descripción de la pelicula 9 es: psychopathic Bateman\n",
      "----------------------------------------------------------------\n",
      "La pelicula 1 se estreno el año: 1981\n",
      "La pelicula 2 se estreno el año: 1984\n",
      "La pelicula 3 se estreno el año: 1985\n",
      "La pelicula 4 se estreno el año: 2000\n",
      "La pelicula 5 se estreno el año: 1992\n",
      "La pelicula 6 se estreno el año: 1992\n",
      "La pelicula 7 se estreno el año: 1979\n",
      "La pelicula 8 se estreno el año: 1986\n",
      "La pelicula 9 se estreno el año: 2000\n"
     ]
    }
   ],
   "source": [
    "# LLamamos a la función poniéndo entre paréntesis el nombre del archivo del que queremos extraer información \n",
    "\n",
    "lectura_xml('peliculas.xml')\n"
   ]
  }
 ],
 "metadata": {
  "kernelspec": {
   "display_name": "Python 3.8.10 64-bit (microsoft store)",
   "language": "python",
   "name": "python3"
  },
  "language_info": {
   "codemirror_mode": {
    "name": "ipython",
    "version": 3
   },
   "file_extension": ".py",
   "mimetype": "text/x-python",
   "name": "python",
   "nbconvert_exporter": "python",
   "pygments_lexer": "ipython3",
   "version": "3.8.10"
  },
  "orig_nbformat": 4,
  "vscode": {
   "interpreter": {
    "hash": "79dd3c927003417683b619f87ecd0018a9d7de8be3a2646bb47397e38116df1b"
   }
  }
 },
 "nbformat": 4,
 "nbformat_minor": 2
}
