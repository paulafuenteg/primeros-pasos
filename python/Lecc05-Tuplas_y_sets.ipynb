{
 "cells": [
  {
   "cell_type": "code",
   "execution_count": 13,
   "metadata": {},
   "outputs": [
    {
     "name": "stdout",
     "output_type": "stream",
     "text": [
      "<class 'tuple'>\n",
      "True\n",
      "<class 'list'>\n",
      "True\n"
     ]
    }
   ],
   "source": [
    "# Cread una tupla que contenga la letra A.\n",
    "\n",
    "tupla = ('A',)\n",
    "print(type(tupla))\n",
    "print(isinstance(tupla, tuple))\n",
    "\n",
    "# Añadir los siguientes elementos d, a, l, a, b.\n",
    "    # No se pueden añadir elementos nuevos a una tupla, por ello primero necesitamos convertirla a una lista:\n",
    "\n",
    "tupla = list(tupla)\n",
    "print(type(tupla))\n",
    "print(isinstance(tupla, list))"
   ]
  },
  {
   "cell_type": "code",
   "execution_count": 11,
   "metadata": {},
   "outputs": [
    {
     "name": "stdout",
     "output_type": "stream",
     "text": [
      "['A', 'd', 'a', 'l', 'a', 'b']\n",
      "El índice de la letra l es 3\n",
      "La letra a aparece 2 veces\n",
      "{8, 6}\n",
      "{18, 10}\n",
      "{1, 2, 3, 9}\n"
     ]
    }
   ],
   "source": [
    "    # Creamos otra lista para añadirla a la lista tupla con el método .extend() y convertirla de nuevo en tupla con tuple().\n",
    "\n",
    "extension = ['d', 'a', 'l', 'a', 'b']\n",
    "tupla.extend(extension)\n",
    "print(tupla)\n",
    "\n",
    "tupla = tuple(tupla)\n",
    "\n",
    "# ¿Cuál es el índice de la letra l?\n",
    "\n",
    "print('El índice de la letra l es', tupla.index('l'))\n",
    "\n",
    "# ¿Cuántas veces aparece la letra a en nuetra tupla?\n",
    "\n",
    "print('La letra a aparece', tupla.count('a'), 'veces')\n",
    "\n",
    "# Dados los siguientes sets:\n",
    "\n",
    "set1 = {1,3,6,2,8,9}\n",
    "set2 = {2,1,9,3,10,18}\n",
    "\n",
    "# Identifca los elementos que están en set1 pero no están en set2 y almacena los resutados en una variable que se llame set3.\n",
    "\n",
    "set3 = set1.difference(set2)\n",
    "print(set3)\n",
    "\n",
    "# Identifica los elementos que están en set2 pero no en set1 y almacénalo en set4.\n",
    "\n",
    "set4 = set2.difference(set1)\n",
    "print(set4)\n",
    "\n",
    "# Identifica los elementos comunes entre el set1 y el set2 y almacenad los resutados en una variable que se llame set5.\n",
    "\n",
    "set5 = set1.intersection(set2)\n",
    "print(set5)"
   ]
  },
  {
   "cell_type": "code",
   "execution_count": 12,
   "metadata": {},
   "outputs": [
    {
     "name": "stdout",
     "output_type": "stream",
     "text": [
      "set()\n",
      "<class 'set'>\n",
      "{8, 18, 10, 6}\n",
      "Que el set1 sea igual al set6 es False\n",
      "Que el set1 contenga al set2 es False\n",
      "<class 'tuple'>\n",
      "True\n"
     ]
    }
   ],
   "source": [
    "# Cread un set vacíos, set6, y añadid el set3 y el set4.add\n",
    "\n",
    "set6 = set()\n",
    "print(set6)\n",
    "print(type(set6))\n",
    "set6 = set6.union(set3, set4)\n",
    "print(set6)\n",
    "\n",
    "# ¿Es el set1 igual al set6?\n",
    "\n",
    "print('Que el set1 sea igual al set6 es', set1 == set6)\n",
    "\n",
    "# Chequead si el set1 contiene al set2 usando el método .issubset()\n",
    "\n",
    "print('Que el set1 contenga al set2 es', set2.issubset(set1))\n",
    "\n",
    "# Eliminad el primer elemento del set6\n",
    "    # Se puede eliminar un elemento aleatorio del set, pero no uno elegido, porque los sets no están indexados. Para borrar el\n",
    "    # primer elemento lo convertiremos en lista, de forma que podamos identificar su índice 0 y eliminarlo.\n",
    "\n",
    "set6 = list(set6)\n",
    "set6[0]\n",
    "set6.pop(0)\n",
    "\n",
    "set6 = tuple(set6)\n",
    "print(type(set6))\n",
    "print(isinstance(set6, tuple))"
   ]
  }
 ],
 "metadata": {
  "kernelspec": {
   "display_name": "Python 3.9.7 ('base')",
   "language": "python",
   "name": "python3"
  },
  "language_info": {
   "codemirror_mode": {
    "name": "ipython",
    "version": 3
   },
   "file_extension": ".py",
   "mimetype": "text/x-python",
   "name": "python",
   "nbconvert_exporter": "python",
   "pygments_lexer": "ipython3",
   "version": "3.9.7"
  },
  "orig_nbformat": 4,
  "vscode": {
   "interpreter": {
    "hash": "0620710c65b0f5ccc651a2aa8870ae0eb4c70492424a8d7866846658189426a3"
   }
  }
 },
 "nbformat": 4,
 "nbformat_minor": 2
}
