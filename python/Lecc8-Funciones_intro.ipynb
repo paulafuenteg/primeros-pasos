{
 "cells": [
  {
   "cell_type": "markdown",
   "metadata": {},
   "source": [
    "### PAIR PROGRAMMING - FUNCIONES INTRO\n",
    "---"
   ]
  },
  {
   "cell_type": "markdown",
   "metadata": {},
   "source": [
    "1. Crear una función que reciba dos numeros enteros (str) y como resultado de la suma (str) \n",
    "Condiciones: \n",
    "\n",
    "    1. Si los dos parametros son vacios: 0      \n",
    "    2. Si el primer parametro es un str vacio la funación nos devuelve el segundo parametro y viceversa\n",
    "\n",
    "    Probad la función para las siguientes combinaciones de \"números\"\n",
    "\n",
    "        \"4\",  \"5\" --> \"9\"\n",
    "        \"34\", \"5\" --> \"39\"\n",
    "        \"\", \"\" --> \"0\"\n",
    "        \"2\", \"\" --> \"2\"\n",
    "        \"-5\", \"3\" --> \"-2\""
   ]
  },
  {
   "cell_type": "code",
   "execution_count": 1,
   "metadata": {},
   "outputs": [],
   "source": [
    "#Definimos la función suma que recibe dos parametros a y b: numeros enteros en string y devuelve la suma de ambos números en string\n",
    "def suma(a,b):\n",
    "    '''Definimos la función y los dos parámetros a y b. y creamos las condiciones, si ambos parametros están vacios devuelve 0, si \n",
    "    alguno de los dos está vacío devuelve el otro y si ambos contienen un string, convierte el string en int, hace la sua y como return devuelve\n",
    "    el string de la suma'''\n",
    "    if a == \"\" and b == \"\":\n",
    "        return \"0\"\n",
    "    elif a == \"\":\n",
    "        return b\n",
    "    elif b == \"\":\n",
    "        return a\n",
    "    else:\n",
    "        suma = int(a) + int(b)\n",
    "        return str(suma)"
   ]
  },
  {
   "cell_type": "code",
   "execution_count": 2,
   "metadata": {},
   "outputs": [
    {
     "name": "stdout",
     "output_type": "stream",
     "text": [
      "9\n",
      "39\n",
      "0\n",
      "2\n",
      "-2\n"
     ]
    }
   ],
   "source": [
    "print(suma(\"4\",\"5\"))\n",
    "print(suma(\"34\",\"5\"))\n",
    "print(suma(\"\",\"\"))\n",
    "print(suma(\"2\",\"\"))\n",
    "print(suma(\"-5\",\"3\"))"
   ]
  },
  {
   "cell_type": "code",
   "execution_count": 11,
   "metadata": {},
   "outputs": [],
   "source": [
    "# Si quisieramos el return en forma de frase: \n",
    "def suma_frase(a,b):\n",
    "    if a == \"\" and b == \"\":\n",
    "        return (f'La suma de {a} más {b} es {str(0)}')\n",
    "    if a == \"\":\n",
    "        return (f'La suma de {a} más {b} es {b}')\n",
    "    if b == \"\":\n",
    "        return (f'La suma de {a} más {b} es {a}')\n",
    "    else:\n",
    "        suma = int(a) + int(b)\n",
    "        return (f'La suma de {a} más {b} es {str(suma)}')"
   ]
  },
  {
   "cell_type": "code",
   "execution_count": 12,
   "metadata": {},
   "outputs": [
    {
     "name": "stdout",
     "output_type": "stream",
     "text": [
      "La suma de 4 más 5 es 9\n",
      "La suma de 34 más 5 es 39\n",
      "La suma de  más  es 0\n",
      "La suma de 2 más  es 2\n",
      "La suma de -5 más 3 es -2\n"
     ]
    }
   ],
   "source": [
    "print(suma_frase(\"4\",\"5\"))\n",
    "print(suma_frase(\"34\",\"5\"))\n",
    "print(suma_frase(\"\",\"\"))\n",
    "print(suma_frase(\"2\",\"\"))\n",
    "print(suma_frase(\"-5\",\"3\"))\n"
   ]
  },
  {
   "cell_type": "markdown",
   "metadata": {},
   "source": [
    "---"
   ]
  },
  {
   "cell_type": "markdown",
   "metadata": {},
   "source": [
    "2. Comparar cada par de enteros de dos listas y devolver una nueva lista con el mayor de la comparacion. PISTA: metodo zip() probad para las siguentes listas:"
   ]
  },
  {
   "cell_type": "code",
   "execution_count": 16,
   "metadata": {},
   "outputs": [],
   "source": [
    "arr1 = [13, 64, 15, 17, 88]\n",
    "arr2 = [23, 14, 53, 17, 80]\n",
    "# resultado = [23, 64, 53, 17, 88]"
   ]
  },
  {
   "cell_type": "code",
   "execution_count": 14,
   "metadata": {},
   "outputs": [],
   "source": [
    "def comparar_listas (lista1,lista2):\n",
    "    ''' Definimos la función comparar_listas que recibe como parametros dos listas que compara los números de cada lista uno a uno y \n",
    "    devuelve una lista con los mayores.'''\n",
    "    # Creamos de forma local una lista: union,que une las dos listas mediante el metodo zip que crea una lista de tuplas y\n",
    "    # una lista vacia: resultado, donde apendearemos el resultado de la comparación\n",
    "    union = list(zip(lista1,lista2))\n",
    "    resultado = []\n",
    "\n",
    "    # Iteramos por las tuplas de la lista union y si el indice 0 es mayor que el 1 apendeamos el indice 0 a la lista resultado y si no el indice 1.\n",
    "    for i in union:\n",
    "        if i[0] > i[1]:\n",
    "            resultado.append(i[0])\n",
    "        else:\n",
    "            resultado.append(i[1])\n",
    "        i =+ 1\n",
    "    return resultado\n"
   ]
  },
  {
   "cell_type": "code",
   "execution_count": 17,
   "metadata": {},
   "outputs": [
    {
     "data": {
      "text/plain": [
       "[23, 64, 53, 17, 88]"
      ]
     },
     "execution_count": 17,
     "metadata": {},
     "output_type": "execute_result"
    }
   ],
   "source": [
    "comparar_listas(arr1,arr2)"
   ]
  },
  {
   "cell_type": "markdown",
   "metadata": {},
   "source": [
    "---"
   ]
  },
  {
   "cell_type": "markdown",
   "metadata": {},
   "source": [
    "3. Convertir un str en un nuevo str en el que cada caracter del nuevo es es \"(\" si ese carácter aparece sólo una vez en el string original, o \")\" si ese carácter aparece más de una vez en el string. \n",
    "Nuestro código no tiene que ser case sensitive, es decir, si hay una letra en mayúscula y en minúscula cuenta como dos apariciones."
   ]
  },
  {
   "cell_type": "markdown",
   "metadata": {},
   "source": [
    "Probad la función para los siguientes strings \n",
    "\n",
    "\"din\"      =>  \"(((\"\n",
    "\"recede\"   =>  \"()()()\"\n",
    "\"Success\"  =>  \")())())\"\n",
    "\"(( @\"     =>  \"))((\" \n",
    "\"Ocvl@GamFLAFkixkS\" => \"((()(()()))))(()(\""
   ]
  },
  {
   "cell_type": "code",
   "execution_count": 18,
   "metadata": {},
   "outputs": [],
   "source": [
    "def parentesis(palabra):\n",
    "    '''Definimos la función paréntesis con el parametro palabra que comprobará si existe cada letra de palabra en otro punto de la misma palabra y \n",
    "    devolvera un string de paréntesis'''\n",
    "    palabra = palabra.lower()\n",
    "    #Convertimos el parametro palabra en minúsculas para evitar que la función sea keysensitive'''\n",
    "    # Iteramos por cada letra en palabra contamos el número de veces que aparece en la palabra, si aparece una vez cambiamos la letra por con replace \n",
    "    # por \"(\" y sobreescribimos la variable palabra y si aparece más de una vez hacemos lo mismo con \")\". \n",
    "    for letra in palabra:\n",
    "        if palabra.count(letra) == 1:\n",
    "            palabra = palabra.replace(letra, \"(\" )\n",
    "        if palabra.count(letra) > 1:\n",
    "            palabra = palabra.replace(letra, \")\" )\n",
    "    return palabra"
   ]
  },
  {
   "cell_type": "code",
   "execution_count": 19,
   "metadata": {},
   "outputs": [
    {
     "name": "stdout",
     "output_type": "stream",
     "text": [
      "(((\n",
      "()()()\n",
      ")())())\n",
      "))((\n",
      "((()(()()))))(()(\n"
     ]
    }
   ],
   "source": [
    "print (parentesis('din'))\n",
    "print (parentesis('recede'))\n",
    "print (parentesis('Success'))\n",
    "print (parentesis('(( @'))\n",
    "print (parentesis('Ocvl@GamFLAFkixkS'))\n"
   ]
  },
  {
   "cell_type": "markdown",
   "metadata": {},
   "source": [
    "---"
   ]
  },
  {
   "cell_type": "markdown",
   "metadata": {},
   "source": [
    "**BONUS 4**\n",
    "\n",
    "Escribid una función,  que tome la receta (diccionario) y los ingredientes disponibles (también un diccionario) y devuelva el número máximo de pasteles que Pete puede hornear (entero). Para simplificar, no hay unidades para las cantidades (por ejemplo, 1 libra de harina o 200 g de azúcar son simplemente 1 o 200). Los ingredientes que no están presentes en los diccionarios, pueden ser considerados como 0.\n",
    "\n",
    "Probad con los siguientes diccionarios:\n",
    "\n",
    "- Diccionario 1\n",
    "    - RECETA {'flour': 500, 'sugar': 200, 'eggs': 1}, \n",
    "    - INGREDIENTES {'flour': 1200, 'sugar': 1200, 'eggs': 5, 'milk': 200}\n",
    "    \n",
    "- Diccionario 2\n",
    "    - RECETA {'apples': 3, 'flour': 300, 'sugar': 150, 'milk': 100, 'oil': 100}\n",
    "    - INGREDIENTES {'sugar': 500, 'flour': 2000, 'milk': 2000}\n",
    "\n",
    "\n",
    "*Pista* Nuestra función recibirá dos parámetros. "
   ]
  },
  {
   "cell_type": "code",
   "execution_count": 20,
   "metadata": {},
   "outputs": [],
   "source": [
    "RECETA = {'flour': 500, 'sugar': 200, 'eggs': 1}\n",
    "INGREDIENTES = {'flour': 1200, 'sugar': 1200, 'eggs': 5, 'milk': 200}"
   ]
  },
  {
   "cell_type": "code",
   "execution_count": 21,
   "metadata": {},
   "outputs": [],
   "source": [
    "#Definimos pasteles como una función a la que se le darán dos diccionarios como parametros\n",
    "def pasteles (dic_receta, dic_ingredientes):\n",
    "    #Creamos una lsita vacía donde vamos a almacenar la cantidad de pasteles que podremos hacer según los ingredientes que tenemos.\n",
    "    numero_pasteles =[]\n",
    "    # Iteramos por las key del diccionario de receta, si alguna no aparece en el diccionarinario de ingredientes no podremos hacer el pastel por lo que el return es 0\n",
    "    for key in dic_receta:\n",
    "        if key not in dic_ingredientes:\n",
    "            return 0\n",
    "        #Si en el diccionario ingredientes están todas kas key del de receta dividimos la cantidad (el value) de ingredientes que tenemos para la receta y el resultado de la división entera\n",
    "        # lo almacenamos en la lista numero de pasteles\n",
    "        else: \n",
    "            numero_pasteles.append (dic_ingredientes[key] // dic_receta[key])\n",
    "        # La función debe devolver el minimo de la lista numero_pasteles que será el minimo ingrediente que tendremos para hacer el pastel.\n",
    "        return min (numero_pasteles)\n"
   ]
  },
  {
   "cell_type": "code",
   "execution_count": 22,
   "metadata": {},
   "outputs": [],
   "source": [
    "RECETA = {'flour': 500, 'sugar': 200, 'eggs': 1}\n",
    "INGREDIENTES = {'flour': 1200, 'sugar': 1200, 'eggs': 5, 'milk': 200}"
   ]
  },
  {
   "cell_type": "code",
   "execution_count": 23,
   "metadata": {},
   "outputs": [
    {
     "data": {
      "text/plain": [
       "2"
      ]
     },
     "execution_count": 23,
     "metadata": {},
     "output_type": "execute_result"
    }
   ],
   "source": [
    "pasteles (RECETA, INGREDIENTES)"
   ]
  },
  {
   "cell_type": "code",
   "execution_count": 24,
   "metadata": {},
   "outputs": [],
   "source": [
    "RECETA2 = {'apples': 3, 'flour': 300, 'sugar': 150, 'milk': 100, 'oil': 100}\n",
    "INGREDIENTES2 = {'sugar': 500, 'flour': 2000, 'milk': 2000}"
   ]
  },
  {
   "cell_type": "code",
   "execution_count": 25,
   "metadata": {},
   "outputs": [
    {
     "data": {
      "text/plain": [
       "0"
      ]
     },
     "execution_count": 25,
     "metadata": {},
     "output_type": "execute_result"
    }
   ],
   "source": [
    "pasteles (RECETA2, INGREDIENTES2)"
   ]
  },
  {
   "cell_type": "markdown",
   "metadata": {},
   "source": [
    "---"
   ]
  },
  {
   "cell_type": "markdown",
   "metadata": {},
   "source": [
    "**BONUS 5**\n",
    "\n",
    "Escribid una función que va a ser una calculadora. La lista recibirá dos parámetros, una lista de números y un string con la operación que queremos hacer (puede ser \"*\", \"+\")\n",
    "\n",
    "Probad con los siguientes inputs\n",
    "\n",
    "- lista1 = [11, 6, 98, 1, 2] , \"*\"\n",
    "  RESULTADO 12936\n",
    "\n",
    "- lista2 = [23,34, 56, 11, 90] , \"+\"\n",
    "  RESULTADO 214\n",
    "\n",
    "- lista3 = [23, 4,109 , 94, 77] , \"-\"\n",
    "  RESULTADO 'Lo siento, necesito que me pases una operación valida.'"
   ]
  },
  {
   "cell_type": "code",
   "execution_count": 26,
   "metadata": {},
   "outputs": [],
   "source": [
    "# Definimos una calculadora para hacer el calculo con una lista de números y un operador específico, pasando con un forloop por cada número de la lista y operar según el \n",
    "# operador marcado en los if. Nos funciona pero si utilizamos return se para en la primera multiplicación del primer número de la lista, si utilizamos print, nos da el \n",
    "# resultado final y nos imprime también todos los resultados hasta llegar al resultado final.\n",
    "\n",
    "def calculadora(lista, operador):\n",
    "    resultado_multiplicacion = 1\n",
    "    resultado_suma = 0\n",
    "    \n",
    "    for num in lista:\n",
    "        if operador == '*':\n",
    "            resultado_multiplicacion = resultado_multiplicacion * num\n",
    "        if operador == '+':\n",
    "            resultado_suma = resultado_suma + num\n",
    "       \n",
    "\n",
    "    if operador == '*':        \n",
    "        return(resultado_multiplicacion)\n",
    "    if operador == '+':\n",
    "        return(resultado_suma)\n",
    "    else:\n",
    "        return'Lo siento, necesito que me pases una operación valida'"
   ]
  },
  {
   "cell_type": "code",
   "execution_count": 27,
   "metadata": {},
   "outputs": [
    {
     "name": "stdout",
     "output_type": "stream",
     "text": [
      "12936\n",
      "214\n",
      "Lo siento, necesito que me pases una operación valida\n"
     ]
    }
   ],
   "source": [
    "print(calculadora([11, 6, 98, 1, 2], \"*\"))\n",
    "print(calculadora([23,34, 56, 11, 90] , \"+\"))\n",
    "print(calculadora([23, 4,109 , 94, 77] , \"-\"))"
   ]
  }
 ],
 "metadata": {
  "kernelspec": {
   "display_name": "Python 3.8.10 64-bit (microsoft store)",
   "language": "python",
   "name": "python3"
  },
  "language_info": {
   "codemirror_mode": {
    "name": "ipython",
    "version": 3
   },
   "file_extension": ".py",
   "mimetype": "text/x-python",
   "name": "python",
   "nbconvert_exporter": "python",
   "pygments_lexer": "ipython3",
   "version": "3.8.10"
  },
  "orig_nbformat": 4,
  "vscode": {
   "interpreter": {
    "hash": "79dd3c927003417683b619f87ecd0018a9d7de8be3a2646bb47397e38116df1b"
   }
  }
 },
 "nbformat": 4,
 "nbformat_minor": 2
}
