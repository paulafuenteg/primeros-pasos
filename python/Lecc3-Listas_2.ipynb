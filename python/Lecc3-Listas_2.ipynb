{
 "cells": [
  {
   "cell_type": "code",
   "execution_count": 1,
   "metadata": {},
   "outputs": [
    {
     "name": "stdout",
     "output_type": "stream",
     "text": [
      "[90, 29, 94, 33, 79, 76, 40, 66, 45, 98]\n"
     ]
    }
   ],
   "source": [
    "# Crea una lisa random de 10 elementos\n",
    "\n",
    "import random\n",
    "lista = random.sample(range(1, 100),10)\n",
    "print(lista)"
   ]
  },
  {
   "cell_type": "code",
   "execution_count": 2,
   "metadata": {},
   "outputs": [
    {
     "name": "stdout",
     "output_type": "stream",
     "text": [
      "La longitud de la lista es 10\n"
     ]
    }
   ],
   "source": [
    "# ¿Cuál es la longitud de la lista?\n",
    "\n",
    "print('La longitud de la lista es', len(lista))"
   ]
  },
  {
   "cell_type": "code",
   "execution_count": 3,
   "metadata": {},
   "outputs": [
    {
     "name": "stdout",
     "output_type": "stream",
     "text": [
      "El número que está en la tercera posición es 94\n"
     ]
    }
   ],
   "source": [
    "# Extrae el número que está en la tercera posición\n",
    "    # Para ello debemos acudir al índice 2 de la lista:\n",
    "\n",
    "print('El número que está en la tercera posición es', lista[2])"
   ]
  },
  {
   "cell_type": "code",
   "execution_count": 4,
   "metadata": {},
   "outputs": [
    {
     "name": "stdout",
     "output_type": "stream",
     "text": [
      "El número que está en la tercera posición es 94\n"
     ]
    }
   ],
   "source": [
    "# Haz lo mismo usando índices negativos tilizando índices negativos\n",
    "    # Como necesitamos la tercera posición, y el último elemento tiene como índice -1, si contamos hacia\n",
    "    # atrás la tercera posición sería -8_\n",
    "\n",
    "print('El número que está en la tercera posición es', lista[-8])"
   ]
  },
  {
   "cell_type": "code",
   "execution_count": 9,
   "metadata": {},
   "outputs": [],
   "source": [
    "# Pregunta al usuario por un número de la lista\n",
    "\n",
    "numero_escogido = int(input('Escoge un número entre los de la lista'))"
   ]
  },
  {
   "cell_type": "code",
   "execution_count": 11,
   "metadata": {},
   "outputs": [
    {
     "name": "stdout",
     "output_type": "stream",
     "text": [
      "El número escogido es 40\n"
     ]
    }
   ],
   "source": [
    "print('El número escogido es', numero_escogido)"
   ]
  },
  {
   "cell_type": "code",
   "execution_count": 12,
   "metadata": {},
   "outputs": [
    {
     "name": "stdout",
     "output_type": "stream",
     "text": [
      "El número escogido está en la posición 6\n"
     ]
    }
   ],
   "source": [
    "# ¿En qué posición está el número escogido?\n",
    "\n",
    "print('El número escogido está en la posición', lista.index(numero_escogido))"
   ]
  },
  {
   "cell_type": "code",
   "execution_count": 13,
   "metadata": {},
   "outputs": [
    {
     "name": "stdout",
     "output_type": "stream",
     "text": [
      "Los valores entre la tercera posición y la quinta son [94, 33, 79]\n"
     ]
    }
   ],
   "source": [
    "# Extrae los valores entre la tercera posición y la quinta (inclusive)\n",
    "\n",
    "print('Los valores entre la tercera posición y la quinta son', lista[2:5])"
   ]
  },
  {
   "cell_type": "code",
   "execution_count": 15,
   "metadata": {},
   "outputs": [
    {
     "name": "stdout",
     "output_type": "stream",
     "text": [
      "Los valores entre las posiciones seis y nueve son [76, 40, 66, 45]\n"
     ]
    }
   ],
   "source": [
    "# Extrae los valores entre las posicones seis y nueve utilizando índices negativos\n",
    "\n",
    "print('Los valores entre las posiciones seis y nueve son', lista[-5:-1])"
   ]
  },
  {
   "cell_type": "code",
   "execution_count": 16,
   "metadata": {},
   "outputs": [
    {
     "name": "stdout",
     "output_type": "stream",
     "text": [
      "Los números en las posiciones pares son [29, 33, 76, 66, 98]\n"
     ]
    }
   ],
   "source": [
    "# ¿Cuáles son los números que están en las posiciones pares de nuestra lista?\n",
    "\n",
    "print('Los números en las posiciones pares son', lista[1::2])"
   ]
  },
  {
   "cell_type": "code",
   "execution_count": 17,
   "metadata": {},
   "outputs": [
    {
     "name": "stdout",
     "output_type": "stream",
     "text": [
      "Los números en las posiciones impares son [90, 94, 79, 40, 45]\n"
     ]
    }
   ],
   "source": [
    "# Los números en las posiciones impares\n",
    "\n",
    "print('Los números en las posiciones impares son', lista[::2])"
   ]
  },
  {
   "cell_type": "code",
   "execution_count": 25,
   "metadata": {},
   "outputs": [
    {
     "name": "stdout",
     "output_type": "stream",
     "text": [
      "Lupe ha sacado 9.8\n",
      "La nota máxima la ha sacado Lupe\n",
      "La nota más baja la ha sacado Lorena\n",
      "Que la nota de Lorena sea mayor que 5 es True\n"
     ]
    }
   ],
   "source": [
    "# Dadas las siguientes listas...\n",
    "\n",
    "nombres = [\"Laura\", \"Lorena\", \"Lupe\", \"Loreto\", \"Lucía\"]\n",
    "\n",
    "notas = [9, 8.5, 9.8, 8.9, 9.2]\n",
    "\n",
    "# ¿Qué nota ha sacado lupe?\n",
    "\n",
    "lupe = nombres.index('Lupe')\n",
    "print('Lupe ha sacado', notas[lupe])\n",
    "\n",
    "# ¿Qué alumna ha sacado la nota más alta?\n",
    "\n",
    "nota_maxima = max(notas)\n",
    "notas.index(nota_maxima)\n",
    "print('La nota máxima la ha sacado', nombres[notas.index(nota_maxima)])\n",
    "\n",
    "# ¿Qué alumna ha sacado la nota más baja?\n",
    "\n",
    "nota_baja = min(notas)\n",
    "posicion_nota_baja = notas.index(nota_baja)\n",
    "print('La nota más baja la ha sacado', nombres[posicion_nota_baja])\n",
    "\n",
    "# ¿Es esa nota mayor que 5?\n",
    "\n",
    "print('Que la nota de Lorena sea mayor que 5 es', nota_baja > 5)"
   ]
  },
  {
   "cell_type": "code",
   "execution_count": 29,
   "metadata": {},
   "outputs": [
    {
     "name": "stdout",
     "output_type": "stream",
     "text": [
      "[9.8, 9.2, 9, 8.9, 8.5]\n",
      "[9.8, 9.2, 9, 8.9, 8.5]\n",
      "['Lupe', 'Lucía', 'Loreto', 'Lorena', 'Laura']\n"
     ]
    }
   ],
   "source": [
    "# Ordena la lista de mayor a menor en una lista nueva llamada notas_nuevo_orden\n",
    "\n",
    "notas_nuevo_orden = sorted(notas, reverse=True)\n",
    "print(notas_nuevo_orden)\n",
    "\n",
    "# Ahora, de forma que sobreescriba la variable notas\n",
    "\n",
    "notas.sort(reverse=True)\n",
    "print(notas)\n",
    "\n",
    "# Ordena la lista de nombres de mayor a menor\n",
    "\n",
    "nombres.sort(reverse=True)\n",
    "print(nombres)\n",
    "\n",
    "# Borra la lista de notas\n",
    "\n",
    "del(notas)"
   ]
  },
  {
   "cell_type": "code",
   "execution_count": 30,
   "metadata": {},
   "outputs": [
    {
     "ename": "NameError",
     "evalue": "name 'notas' is not defined",
     "output_type": "error",
     "traceback": [
      "\u001b[0;31m---------------------------------------------------------------------------\u001b[0m",
      "\u001b[0;31mNameError\u001b[0m                                 Traceback (most recent call last)",
      "\u001b[0;32m/tmp/ipykernel_6264/1203400421.py\u001b[0m in \u001b[0;36m<module>\u001b[0;34m\u001b[0m\n\u001b[0;32m----> 1\u001b[0;31m \u001b[0mprint\u001b[0m\u001b[0;34m(\u001b[0m\u001b[0mnotas\u001b[0m\u001b[0;34m)\u001b[0m\u001b[0;34m\u001b[0m\u001b[0;34m\u001b[0m\u001b[0m\n\u001b[0m",
      "\u001b[0;31mNameError\u001b[0m: name 'notas' is not defined"
     ]
    }
   ],
   "source": [
    "print(notas)"
   ]
  },
  {
   "cell_type": "code",
   "execution_count": 50,
   "metadata": {},
   "outputs": [
    {
     "name": "stdout",
     "output_type": "stream",
     "text": [
      "[34, 56, 82, [99, 64, 24], [12, 59, 71]]\n",
      "[34, 56, 82, [99, 64, 24], [12, 59, 71], 99, 64, 24, 12, 59, 71]\n"
     ]
    }
   ],
   "source": [
    "# Dadas las siguientes listas:\n",
    "\n",
    "lunes = [34,56,82]\n",
    "martes = [99, 64, 24]\n",
    "miercoles = [12, 59, 71]\n",
    "\n",
    "# Une las tres listas de forma que lunes esté dentro de martes y martes dentro de miércoles\n",
    "\n",
    "lunes.append(martes)\n",
    "lunes.append(miercoles)\n",
    "print(lunes)\n",
    "\n",
    "# Une las listas\n",
    "\n",
    "lunes.extend(martes)\n",
    "lunes.extend(miercoles)\n",
    "print(lunes)"
   ]
  },
  {
   "cell_type": "code",
   "execution_count": 55,
   "metadata": {},
   "outputs": [
    {
     "name": "stdout",
     "output_type": "stream",
     "text": [
      "[34, 56, 82, [99, 64, 24], [12, 59, 71]]\n",
      "[100, 34, 56, 82]\n",
      "[99, 64, 100, 24]\n",
      "[12, 59, 71, 100]\n"
     ]
    }
   ],
   "source": [
    "# Une las listas de forma que tengamos el siguiente output:\n",
    "\n",
    "# [34, 56, 82, [99, 64, 24], [12, 59, 71]]\n",
    "\n",
    "lunes = [34,56,82]\n",
    "martes = [99, 64, 24]\n",
    "miercoles = [12, 59, 71]\n",
    "\n",
    "juntas = lunes\n",
    "juntas.append(martes)\n",
    "juntas.append(miercoles)\n",
    "print(juntas)\n",
    "\n",
    "# # Introduce un 100 en la primera posición de lunes, la tercera de martes y la última de miércoles\n",
    "\n",
    "lunes = [34,56,82]\n",
    "martes = [99, 64, 24]\n",
    "miercoles = [12, 59, 71]\n",
    "\n",
    "lunes.insert(0, 100)\n",
    "print(lunes)\n",
    "\n",
    "martes.insert(2, 100)\n",
    "print(martes)\n",
    "\n",
    "miercoles.insert(len(miercoles), 100)\n",
    "print(miercoles)"
   ]
  }
 ],
 "metadata": {
  "kernelspec": {
   "display_name": "Python 3.10.6 ('adalabenv')",
   "language": "python",
   "name": "python3"
  },
  "language_info": {
   "codemirror_mode": {
    "name": "ipython",
    "version": 3
   },
   "file_extension": ".py",
   "mimetype": "text/x-python",
   "name": "python",
   "nbconvert_exporter": "python",
   "pygments_lexer": "ipython3",
   "version": "3.10.6"
  },
  "orig_nbformat": 4,
  "vscode": {
   "interpreter": {
    "hash": "d055aa09d3921340beac831acf989e15e939d47d71ac1f5055759ef84a458908"
   }
  }
 },
 "nbformat": 4,
 "nbformat_minor": 2
}
