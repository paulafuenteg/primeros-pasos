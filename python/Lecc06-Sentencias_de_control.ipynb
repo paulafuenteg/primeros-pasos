{
 "cells": [
  {
   "cell_type": "markdown",
   "metadata": {},
   "source": [
    "En la escuela en la que trabajamos tienen el siguiente esquema de notas:\n",
    "- Below 25 - F\n",
    "- 25 to 45 - E\n",
    "- 45 to 50 - D\n",
    "- 50 to 60 - C\n",
    "- 60 to 80 - B\n",
    "- Above 80 - A\n",
    "Preguntar nota numerica y responder con la letra correspondiente"
   ]
  },
  {
   "cell_type": "code",
   "execution_count": 2,
   "metadata": {},
   "outputs": [
    {
     "name": "stdout",
     "output_type": "stream",
     "text": [
      "Tu nota es F\n"
     ]
    }
   ],
   "source": [
    "#Creamos una variable input nota y la conertimos en int\n",
    "nota = int (input ('Dime tu nota'))\n",
    "#Creamos el condicionante según los rangos indicados para las notas dadas.\n",
    "if nota < 25:\n",
    "    print ('Tu nota es F')\n",
    "elif nota >= 25 and nota < 45:\n",
    "    print ('Tu nota es E')\n",
    "elif nota >=45 and nota < 50:\n",
    "    print ('Tu nota es D')\n",
    "elif nota >= 50 and nota < 60:\n",
    "    print ('Tu nota es C')\n",
    "elif nota >= 60 and nota < 80:\n",
    "    print ('Tu nota es B')\n",
    "elif nota >= 80:\n",
    "    print ('Tu nota es A')"
   ]
  },
  {
   "cell_type": "code",
   "execution_count": 3,
   "metadata": {},
   "outputs": [
    {
     "name": "stdout",
     "output_type": "stream",
     "text": [
      "El mayor es el que tiene: 50 años\n",
      "El menor es el que tiene: 45 años\n"
     ]
    }
   ],
   "source": [
    "#Creamos 3 inputs de edad y los convertimos en int para determinar quién es mas viejo y más joven\n",
    "edad1 = int (input ('Dime tu edad'))\n",
    "edad2 = int (input ('Dime tu edad'))\n",
    "edad3 = int (input ('Dime tu edad'))\n",
    "#Creamos una lista con las tres edades y printeamos las frases con el maximo y el minimo de la lista\n",
    "lista_edad = [edad1, edad2, edad3]\n",
    "print ('El mayor es el que tiene:', max(lista_edad), 'años')\n",
    "print ('El menor es el que tiene:', min(lista_edad), 'años')"
   ]
  },
  {
   "cell_type": "code",
   "execution_count": 4,
   "metadata": {},
   "outputs": [
    {
     "name": "stdout",
     "output_type": "stream",
     "text": [
      "Buenos días mari\n"
     ]
    }
   ],
   "source": [
    "#Preguntar nombre de usuario con input. Si el usuario es Bond responder 'Bienbenido a bordo 007', si es otro nombre de usuario, responder 'Buenos días nombre'.\n",
    "nombre = input ('Nombre de usuario:')\n",
    "    #Creamos el condicionante, si el nombre del input es 'Bond' u otro\n",
    "if nombre == 'Bond':\n",
    "    print ('Bienvenido a bordo 007')\n",
    "else:\n",
    "    print ('Buenos días', nombre)"
   ]
  },
  {
   "cell_type": "code",
   "execution_count": 6,
   "metadata": {},
   "outputs": [
    {
     "name": "stdout",
     "output_type": "stream",
     "text": [
      "['Taiwan', 'Japan', 'Russia']\n"
     ]
    }
   ],
   "source": [
    "# Dado el dicccionario tree Crea una lista llamada \"masarboles\" que contenga el nombre de los países con más de 40.000 árboles por kilómetro cuadrado.\n",
    "tree = {\"Taiwan\": 69593,\n",
    "        \"Japan\": 49894, \n",
    "        \"Russia\": 41396, \n",
    "        \"Canada\": 36388, \n",
    "        \"Bulgaria\": 24987}\n",
    "moretrees = []\n",
    "#Hacemos un listado de if con las condiciones para incluir cada país con más de 40.000 arboles en la lista moretrees según \n",
    "# el value relativo a la key de cada país y si es mayor a 40.000 establecemos que se incluya en la lista\n",
    "if tree['Taiwan'] > 40000:\n",
    "    moretrees.append('Taiwan')\n",
    "if tree['Japan'] > 40000:\n",
    "    moretrees.append('Japan')\n",
    "if tree['Russia'] > 40000:\n",
    "    moretrees.append('Russia')\n",
    "if tree['Canada'] > 40000:\n",
    "    moretrees.append('Canada')\n",
    "if tree['Bulgaria'] > 40000:\n",
    "    moretrees.append('Bulgaria')\n",
    "\n",
    "print (moretrees)"
   ]
  },
  {
   "cell_type": "code",
   "execution_count": 9,
   "metadata": {},
   "outputs": [],
   "source": [
    "moretrees.clear()"
   ]
  },
  {
   "cell_type": "code",
   "execution_count": 10,
   "metadata": {},
   "outputs": [
    {
     "name": "stdout",
     "output_type": "stream",
     "text": [
      "['Taiwan', 'Japan', 'Russia']\n"
     ]
    }
   ],
   "source": [
    "#También puede hacerse con un for loop\n",
    "for key,value in tree.items():\n",
    "    if value > 40000:\n",
    "        moretrees.append(key)\n",
    "\n",
    "print(moretrees)"
   ]
  },
  {
   "cell_type": "code",
   "execution_count": null,
   "metadata": {},
   "outputs": [],
   "source": [
    "#Los alumnos de un curso se han dividido en dos grupos A y B de acuerdo al sexo y el nombre. \n",
    "# El grupo A esta formado por las mujeres con un nombre anterior a la M y los hombres con un nombre posterior a la N y el grupo B por el resto. \n",
    "# Escribid un programa que pregunte al usuario su nombre y sexo, y muestre por pantalla el grupo que le corresponde.\n",
    "    # Hacer input con nombre y sexo\n",
    "nombre = input ('¿Cómo te llamas?')\n",
    "sexo = input ('¿Cual es tu sexo?')\n",
    "\n",
    "#Creamos los condicionantes anidados:\n",
    "if sexo == 'Femenino':\n",
    "    if nombre < 'M':\n",
    "        print ('Grupo A')\n",
    "    else:\n",
    "        print ('Grupo B')\n",
    "elif sexo == 'Masculino':\n",
    "    if nombre > 'N':\n",
    "        print ('Grupo A') \n",
    "    else:\n",
    "        print ('Grupo B')\n"
   ]
  },
  {
   "cell_type": "code",
   "execution_count": null,
   "metadata": {},
   "outputs": [
    {
     "name": "stdout",
     "output_type": "stream",
     "text": [
      "0\n",
      "1\n",
      "2\n"
     ]
    }
   ],
   "source": [
    "#Dada la variable z = 0\n",
    "z = 0\n",
    "#Escribir un programa que mientras que el valor de z sea menor a tres vaya printeando z y sumando uno en cada bucle de while\n",
    "while z < 3:\n",
    "    if z == 0:\n",
    "        print (z)\n",
    "        lista_auxiliar = [z]\n",
    "        z += 1\n",
    "    if z == 1:\n",
    "        print (z)\n",
    "        lista_axuliar2 = [z]\n",
    "        z += 1\n",
    "    else:\n",
    "        print (z)\n",
    "        z += 1\n"
   ]
  },
  {
   "cell_type": "code",
   "execution_count": null,
   "metadata": {},
   "outputs": [
    {
     "name": "stdout",
     "output_type": "stream",
     "text": [
      "[0, 1, 2, 3]\n"
     ]
    }
   ],
   "source": [
    "# Dada una lista vacia y una variable 0\n",
    "lista = []\n",
    "variable = 0\n",
    "#Mientras que la variable sea menor a 4, el valor de la variable va añadiendose a la lista.\n",
    "while variable < 4:\n",
    "    lista.append(variable)\n",
    "    variable += 1\n",
    "\n",
    "print (lista)\n"
   ]
  },
  {
   "cell_type": "code",
   "execution_count": 3,
   "metadata": {},
   "outputs": [
    {
     "name": "stdout",
     "output_type": "stream",
     "text": [
      "115\n"
     ]
    }
   ],
   "source": [
    "# Dada la variable i = 0 y la lista:\n",
    "i = 0\n",
    "lista = [23, 45, 12, 10, 25]\n",
    "suma = 0 \n",
    "#Mientras el valor de i sea menor que la longitud de la lista sumar elemento a elemento los valores de la lista\n",
    "    # Necesitamos un contador que nos permita acceder a los distintos índices, while indice < lenlista, a suma le sumamos el indice 0 y luego le sumamos 1 para que vaya iterando por todos los indices\n",
    "    # suma += l[l], i += 1\n",
    "while i < len(lista):\n",
    "    suma += lista[i]\n",
    "    i += 1\n",
    "\n",
    "print (suma)\n"
   ]
  },
  {
   "cell_type": "code",
   "execution_count": null,
   "metadata": {},
   "outputs": [
    {
     "name": "stdout",
     "output_type": "stream",
     "text": [
      "5 euros\n"
     ]
    }
   ],
   "source": [
    "#Escribimos un input que pregunte la edad, lo guardamos en la variable edad como int\n",
    "edad = int (input ('¿Cuantos años tienes?'))\n",
    "#Dependiendo de la edad introducida por el usuario se devuelve el precio de la entrada según los rangos establecidos\n",
    "if edad <= 4:\n",
    "    print ('Gratis')\n",
    "elif edad > 4 and edad < 18:\n",
    "    print ('5 euros')\n",
    "else:\n",
    "    print ('10 euros')\n"
   ]
  },
  {
   "cell_type": "code",
   "execution_count": null,
   "metadata": {},
   "outputs": [
    {
     "name": "stdout",
     "output_type": "stream",
     "text": [
      "Pizza no vegetariana: Tomate, mozzarella, jamon\n"
     ]
    }
   ],
   "source": [
    "# Según la pizza elegida vegetariana o no vegetariana, preguntar por el ingrediente extra y printear el tipo de pizza y sus ingredientes\n",
    "pizza = input ('¿vegetariana o no vegetariana?')\n",
    "vegetariana = ['Pimiento', 'Tofu']\n",
    "no_vegetariana = ['Pepperoni', 'Jamon', 'Salmon']\n",
    "\n",
    "# Según el tipo de pizza creamos un nuevo input dentro del if para preguntar por el ingrediente extra y luego printea el tipo de pizza con Tomate, Mozzarella y el ingrediente elegido\n",
    "if pizza == 'vegetariana':\n",
    "    ingrediente_veg = input ('¿pimiento o tofu?')\n",
    "    print ('Pizza vegetariana: Tomate, mozzarella,', ingrediente_veg)\n",
    "else:\n",
    "    ingrediente_noveg = input ('¿Pepperoni, jamón, o salmón?')\n",
    "    print ('Pizza no vegetariana: Tomate, mozzarella,', ingrediente_noveg)\n"
   ]
  }
 ],
 "metadata": {
  "kernelspec": {
   "display_name": "Python 3.9.13 ('base')",
   "language": "python",
   "name": "python3"
  },
  "language_info": {
   "codemirror_mode": {
    "name": "ipython",
    "version": 3
   },
   "file_extension": ".py",
   "mimetype": "text/x-python",
   "name": "python",
   "nbconvert_exporter": "python",
   "pygments_lexer": "ipython3",
   "version": "3.9.13"
  },
  "orig_nbformat": 4,
  "vscode": {
   "interpreter": {
    "hash": "85c042135e83639dad74b6ec6c9d943b5dc47ca281624d931a3e14168052f53c"
   }
  }
 },
 "nbformat": 4,
 "nbformat_minor": 2
}
