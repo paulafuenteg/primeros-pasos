{
 "cells": [
  {
   "cell_type": "markdown",
   "metadata": {},
   "source": [
    "### PAIR PROGRAMMING - FUNCIONES 2 ARGUMENTOS\n",
    "---"
   ]
  },
  {
   "cell_type": "markdown",
   "metadata": {},
   "source": [
    "1) Vamos a crear una \"Calculadora de puntos\". Tenéis que escribir una calculadora que reciba cadenas de caracteres como entrada. Los puntos representarán el número de la ecuación. Habrá puntos en un lado, un operador, y puntos de nuevo después del oparador. Los puntos y el operador estarán separados por un espacio.\n",
    "Aquí os dejamos los operadores válidos:\n",
    "- Suma\n",
    "- Resta\n",
    "- Multiplicación\n",
    "- División entera\n",
    "\n",
    "Vuestro trabajo:\n",
    "Tendréis que devolver un string que contenga puntos, tantos como devuelva la ecuación. Si el resultado es 0, devuelve la cadena vacía. Cuando se trata de una resta, el primer número siempre será mayor o igual que el segundo.\n",
    "\n",
    "Probad la función con los siguientes casos: \n",
    "\n",
    "\"..... + ...............\" => \"....................\" \n",
    "\n",
    "\"..... - ...\" => \"..\" \n",
    "\n",
    "\"..... * ...\" => \"...............\"\n",
    "\n",
    "\"..... // ..\" => \"..\"\n",
    "\n",
    "\". // ..\" => \"\"\n",
    "\n",
    "\".. - ..\" => \"\"\n"
   ]
  },
  {
   "cell_type": "code",
   "execution_count": 1,
   "metadata": {},
   "outputs": [],
   "source": [
    "\n",
    "def calculadora(string1):\n",
    "    '''Definimos la función calculadora que recibirá de parametro un string, contará los puntos en ese string y \n",
    "    devolvera el resultado de la operación realizada con los puntos en forma de string de puntos.'''\n",
    "    \n",
    "    # Separamos el string con split por los espacios obteniendo una lista con tres índices, para el 0 y el 2 contamoslos puntos\n",
    "    # guardandolos en la variable parte1 y parte2 y el índice 1 lo guardamos como operador. \n",
    "    lista_separado = string1.split()\n",
    "    parte1 = lista_separado[0].count('.')\n",
    "    operador = lista_separado[1]\n",
    "    parte2 = lista_separado[2].count('.')\n",
    "\n",
    "    #Una vez tenemos las tres partes diferenciadas, creamos las condiciones para las operacioes según el operador y \n",
    "    #  guardamos el resultado la operación en la variable resultado. \n",
    "    if operador == '+':\n",
    "        resultado= parte1 + parte2\n",
    "    elif operador == '-':\n",
    "        resultado= parte1 - parte2\n",
    "    elif operador == '*':\n",
    "        resultado= parte1 * parte2\n",
    "    elif operador == '//':\n",
    "        resultado= parte1 // parte2\n",
    "    \n",
    "    # Printeamos el resultado por '.'  para que nos devuelva un string de puntos.\n",
    "    return resultado*'.'  \n"
   ]
  },
  {
   "cell_type": "code",
   "execution_count": 2,
   "metadata": {},
   "outputs": [
    {
     "name": "stdout",
     "output_type": "stream",
     "text": [
      "....................\n",
      "..\n",
      "...............\n",
      "..\n",
      "\n",
      "\n"
     ]
    }
   ],
   "source": [
    "calculadora(\"..... + ...............\")\n",
    "calculadora(\"..... - ...\")\n",
    "calculadora(\"..... * ...\")\n",
    "calculadora(\"..... // ..\")\n",
    "calculadora(\". // ..\")\n",
    "calculadora(\".. - ..\")"
   ]
  },
  {
   "cell_type": "markdown",
   "metadata": {},
   "source": [
    "---"
   ]
  },
  {
   "cell_type": "markdown",
   "metadata": {},
   "source": [
    "2) Te despides de tu mejor amigo, \"Nos vemos el próximo año\".\n",
    "Vuestro trabajo: Dado un año, encuentra el próximo cumpleaños o el año \n",
    "más cercano en el que verás a tu mejor amigo.\n",
    "Condiciones\n",
    "Año siempre positivo.\n",
    "El siguiente año que le felicites a tu mejor amigo no puede tener ningún \n",
    "dígito repetido.\n",
    "\n",
    "Probad la función con los siguientes casos:\n",
    "\n",
    "7712 ==> El siguiente año que felicitarás a tu amigo será el 7801. \n",
    "Por que es el siguiente año en el que no hay ninguún dígito repetido. \n",
    "\n",
    "\n",
    "1001 => 1023 \n",
    "\n",
    "1123 => 1203\n",
    "\n",
    "2001 => 2013"
   ]
  },
  {
   "cell_type": "code",
   "execution_count": 3,
   "metadata": {},
   "outputs": [],
   "source": [
    "def cumpleaños(año_inicio):\n",
    "    ''' Definimos la función cumpleaños que recibirá como parámetro el de año inicio y devolverá el año siguiente más próximo\n",
    "    en el que no se repita ningún número dentro de ese año '''\n",
    "    \n",
    "    # Para empezar a iterar por los años en los que felicitaremos creamos la variable año final para sumarle un año\n",
    "    año_final = año_inicio + 1\n",
    "    \n",
    "    # Mientras que la longitud del set de año_final (al que tenemos que convertir en str para sacar el set de cada numero) \n",
    "    # sea diferente a 4 significará que los numeros se repiten dentro del año con lo cual iremos sumando un año a año_final hasta \n",
    "    # que sea de longitud 4 y por tanto no se repita ningún número.\n",
    "    while len(set(str(año_final))) != 4:\n",
    "        año_final += 1\n",
    "    \n",
    "    return año_final\n"
   ]
  },
  {
   "cell_type": "code",
   "execution_count": 4,
   "metadata": {},
   "outputs": [
    {
     "name": "stdout",
     "output_type": "stream",
     "text": [
      "7801\n",
      "1023\n",
      "1203\n",
      "2013\n"
     ]
    }
   ],
   "source": [
    "print (cumpleaños(7712))\n",
    "print (cumpleaños(1001))\n",
    "print (cumpleaños(1123))\n",
    "print (cumpleaños(2001))"
   ]
  },
  {
   "cell_type": "markdown",
   "metadata": {},
   "source": [
    "---"
   ]
  },
  {
   "cell_type": "markdown",
   "metadata": {},
   "source": [
    "3) Tenéis que crear un función que chequee la vida de un evaporador que contiene un gas.\n",
    "Conocemos el contenido del evaporador (contenido en ml), el porcentaje de gas que se pierde cada día y el umbral en porcentaje a partir del cual el evaporador deja de ser útil. Todos los números serán estrictamente positivos.\n",
    "Nota: el contenido no es, de hecho, necesario en el cuerpo de la función, podéis utilizarlo o no.\n",
    "\n",
    "Probad con los siguientes casos: \n",
    "\n",
    "10, 10, 5 => 29\n",
    "\n",
    "10, 10, 10 = > 22"
   ]
  },
  {
   "cell_type": "code",
   "execution_count": 21,
   "metadata": {},
   "outputs": [],
   "source": [
    "capacidad = 10 #ml\n",
    "perdida = 10 #% ---- > ml\n",
    "umbral = 5 #% -----> ml\n",
    "dias = 0"
   ]
  },
  {
   "cell_type": "code",
   "execution_count": 5,
   "metadata": {},
   "outputs": [],
   "source": [
    "def evaporador (capacidad, perdida, umbral):\n",
    "    ''' Definimos la función evaporador cuyos parametros son capacidad en ml, perdida y umbral en porcentaje, \n",
    "    calculará los días habiles que quedan hasta llegar al umbral y \n",
    "    devolverá los días de vida útil que le quedan según los parametros dados'''\n",
    "    \n",
    "    # Cambiamos el umbral a ml para poder trabajar todo con ml y definimos el contador de dias a 0\n",
    "    umbral = capacidad * umbral / 100\n",
    "    dias = 0\n",
    "    # Mientras que la capacidad sea mayor al umbral, a la capacidad le restaremos la perdida (en ml) y sumaremos un día al contador.\n",
    "    while capacidad >= umbral:\n",
    "        capacidad -= capacidad * perdida / 100\n",
    "        dias += 1\n",
    "    return dias"
   ]
  },
  {
   "cell_type": "code",
   "execution_count": 6,
   "metadata": {},
   "outputs": [
    {
     "name": "stdout",
     "output_type": "stream",
     "text": [
      "22\n",
      "29\n"
     ]
    }
   ],
   "source": [
    "print(evaporador(10, 10, 10))\n",
    "print(evaporador(10, 10, 5))"
   ]
  },
  {
   "cell_type": "markdown",
   "metadata": {},
   "source": [
    "---"
   ]
  },
  {
   "cell_type": "markdown",
   "metadata": {},
   "source": [
    "4. Definid una función que tome como argumento un entero y devuelva True o False dependiendo de si el número es primo o no.\n",
    "Según la Wikipedia, un número primo es un número natural mayor que 1 que no tiene divisores positivos más que 1 y él mismo.\n",
    "Probad la función con los siguientes números: \n"
   ]
  },
  {
   "cell_type": "code",
   "execution_count": null,
   "metadata": {},
   "outputs": [],
   "source": [
    "'''\n",
    "0 => False\n",
    "2 => True\n",
    "73 => True\n",
    "-1 => False\n",
    "5099 => True'''"
   ]
  },
  {
   "cell_type": "code",
   "execution_count": 7,
   "metadata": {},
   "outputs": [],
   "source": [
    "def calculo_primos(numero):\n",
    "    ''' Definimos una función para calcular los números primos, en la que primero comprobamos que el número es mayor que 1 y si esto se cumple \n",
    "    comprobamos que el resto de la división del número entre cualquier otro número de un rango entre 2 hasta el propio número, no sea 0 y\n",
    "    por tanto sea primo.  '''\n",
    "    if numero < 1:\n",
    "        return False\n",
    "    elif numero == 1:\n",
    "        return True\n",
    "    else:\n",
    "        for num in range(2,numero):\n",
    "            if numero % num == 0:\n",
    "                return False\n",
    "    return True\n"
   ]
  },
  {
   "cell_type": "code",
   "execution_count": 8,
   "metadata": {},
   "outputs": [
    {
     "name": "stdout",
     "output_type": "stream",
     "text": [
      "False\n",
      "True\n",
      "True\n",
      "False\n",
      "True\n"
     ]
    }
   ],
   "source": [
    "print(calculo_primos(0))\n",
    "print(calculo_primos(2))\n",
    "print(calculo_primos(73))\n",
    "print(calculo_primos(-1))\n",
    "print(calculo_primos(5099))"
   ]
  },
  {
   "cell_type": "markdown",
   "metadata": {},
   "source": [
    "---"
   ]
  },
  {
   "cell_type": "markdown",
   "metadata": {},
   "source": [
    "5. Probablemente conozcais el sistema de \"me gusta\" de Facebook y otras páginas. La gente puede dar \"me gusta\" a las publicaciones del blog, a las imágenes o a otros elementos. Queremos crear el texto que debe mostrarse junto a dicho elemento.\n",
    "Cread una función que toma una lista que contiene los nombres de las personas a las que les gusta un artículo. Debe devolver el texto que se muestra en los ejemplos:\n"
   ]
  },
  {
   "cell_type": "code",
   "execution_count": null,
   "metadata": {},
   "outputs": [],
   "source": [
    "'''Probad los siguientes ejemplos: \n",
    "\n",
    "[]                              -->  \"A nadie le gusta esto\"\n",
    "[\"Paola\"]                       -->  \"A Paola le gusta esto\"\n",
    "[\"Jacoba\", \"Alex\"]               -->  \"A Jacoba y Alex les gusta esto\"\n",
    "[\"Maria\", \"Juana\", \"Lola\"]         -->  \"A Maria, Juana y Lola les gusta esto\"\n",
    "[\"Alex\", \"Jacoba\", \"Lola\", \"Carmen\"]-->  \"A Alex, Jacoba y 2 más les gusta esto\"\n",
    "[\"Alex\", \"Jacoba\", \"Lola\", \"Carmen\", \"Mariana\"]-->  \"A Alex, Jacoba y 3 más les gusta esto\" '''"
   ]
  },
  {
   "cell_type": "code",
   "execution_count": 33,
   "metadata": {},
   "outputs": [],
   "source": [
    "def me_gusta (lista_nombres):\n",
    "    '''Definimos la función de me_gusta donde dependiendo de la longitud de la lista devolverá un mensaje diferente'''\n",
    "    # Cuando la lista tiene una longitud mayor de 3 devuelve los dos primeros nombres y luego el número \"extra\" de me gustas que tiene, \n",
    "    # con lo cual calculamos cual sería este número extra mediante el resto que será la longitud total de la lista - 2. \n",
    "    resto = len(lista_nombres) - 2\n",
    "    \n",
    "    # Después definimos todos los ifs dependiendo de la longitud de la lista y el mensaje de return que devuelve cada caso.\n",
    "    if len(lista_nombres) == 0:\n",
    "        return 'A nadie le gusta esto'\n",
    "    elif len(lista_nombres) == 1:\n",
    "        return f'A {lista_nombres[0]} le gusta esto'\n",
    "    elif len(lista_nombres) == 2:\n",
    "        return f'A {lista_nombres[0]} y {lista_nombres[1]} les gusta esto'\n",
    "    elif len(lista_nombres) == 3:\n",
    "        return f'A {lista_nombres[0]}, {lista_nombres[1]} y {lista_nombres[2]} les gusta esto'\n",
    "    elif len(lista_nombres) > 3:\n",
    "        return f'A {lista_nombres[0]}, {lista_nombres[1]} y a {resto} más les gusta esto'\n"
   ]
  },
  {
   "cell_type": "code",
   "execution_count": 37,
   "metadata": {},
   "outputs": [
    {
     "name": "stdout",
     "output_type": "stream",
     "text": [
      "A Paola le gusta esto\n",
      "A Jacoba y Alex les gusta esto\n",
      "A Maria, Juana y Lola les gusta esto\n",
      "A Alex, Jacoba y a 2 más les gusta esto\n",
      "A Alex, Jacoba y a 3 más les gusta esto\n"
     ]
    }
   ],
   "source": [
    "print (me_gusta([\"Paola\"]))\n",
    "print (me_gusta([\"Jacoba\", \"Alex\"]))\n",
    "print (me_gusta([\"Maria\", \"Juana\", \"Lola\"]))\n",
    "print (me_gusta([\"Alex\", \"Jacoba\", \"Lola\", \"Carmen\"]))\n",
    "print (me_gusta([\"Alex\", \"Jacoba\", \"Lola\", \"Carmen\", \"Mariana\"]))\n"
   ]
  }
 ],
 "metadata": {
  "kernelspec": {
   "display_name": "Python 3.8.10 64-bit (microsoft store)",
   "language": "python",
   "name": "python3"
  },
  "language_info": {
   "codemirror_mode": {
    "name": "ipython",
    "version": 3
   },
   "file_extension": ".py",
   "mimetype": "text/x-python",
   "name": "python",
   "nbconvert_exporter": "python",
   "pygments_lexer": "ipython3",
   "version": "3.8.10"
  },
  "orig_nbformat": 4,
  "vscode": {
   "interpreter": {
    "hash": "79dd3c927003417683b619f87ecd0018a9d7de8be3a2646bb47397e38116df1b"
   }
  }
 },
 "nbformat": 4,
 "nbformat_minor": 2
}
