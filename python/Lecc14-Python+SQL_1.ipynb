{
 "cells": [
  {
   "cell_type": "markdown",
   "metadata": {},
   "source": [
    "### PAIR PROGRAMMING- PYTHON + SQL 1\n",
    "---"
   ]
  },
  {
   "cell_type": "markdown",
   "metadata": {},
   "source": [
    "1. Antes de empezar a trabajar con la BBDD de Northwind, conozcamos un poco las BBDD que tenemos en nuestro servidor. ¿Qué BBDD tenemos en nuestro servidor?"
   ]
  },
  {
   "cell_type": "code",
   "execution_count": 3,
   "metadata": {},
   "outputs": [],
   "source": [
    "# Importamos mysql.conector para poder hacer la conexión con mysql server\n",
    "import mysql.connector"
   ]
  },
  {
   "cell_type": "code",
   "execution_count": 4,
   "metadata": {},
   "outputs": [
    {
     "name": "stdout",
     "output_type": "stream",
     "text": [
      "('bd_alumna',)\n",
      "('bd_pruebas',)\n",
      "('creacion_tienda',)\n",
      "('information_schema',)\n",
      "('leccion-1-sql',)\n",
      "('leccion-2-sql',)\n",
      "('leccion_10_sql',)\n",
      "('leccion_11_sql',)\n",
      "('leccion_12_sql',)\n",
      "('leccion_13_sql',)\n",
      "('leccion_14_sql',)\n",
      "('leccion_3_sql',)\n",
      "('leccion_4_sql',)\n",
      "('leccion_5_sql',)\n",
      "('leccion_6_sql',)\n",
      "('leccion_7_sql',)\n",
      "('leccion_8_sql',)\n",
      "('leccion_9_sql',)\n",
      "('mi_primerita_bbdd_python',)\n",
      "('mysql',)\n",
      "('northwind',)\n",
      "('performance_schema',)\n",
      "('sakila',)\n",
      "('spotify',)\n",
      "('tienda',)\n",
      "('tienda_zapatillas',)\n",
      "('world',)\n"
     ]
    }
   ],
   "source": [
    "# Nos conectamos a la base de datos northwind\n",
    "mydb = mysql.connector.connect(\n",
    "                  user='root', password='AlumnaAdalab',\n",
    "                  host='127.0.0.1',\n",
    "                  database='northwind')\n",
    "# iniciamos el cursor\n",
    "mycursor = mydb.cursor()\n",
    "\n",
    "# ejecutamos la query 'SHOW DATABASES' para que nos muestre todas las BBDD que tenemos en nuestro servidor y printeamos a través de un for loop.\n",
    "mycursor.execute(\"SHOW DATABASES\")\n",
    "for x in mycursor:\n",
    "  print(x)"
   ]
  },
  {
   "cell_type": "markdown",
   "metadata": {},
   "source": [
    "---"
   ]
  },
  {
   "cell_type": "markdown",
   "metadata": {},
   "source": [
    "2. Empezemos a explorar la BBDD de Northwind. ¿Qué tablas componen la BBDD? Recuerda que primero nos tendremos que conectar con la BBDD sobre la que queremos trabajar. Guarda el resultado de los nombres de la tablas en una lista."
   ]
  },
  {
   "cell_type": "code",
   "execution_count": 5,
   "metadata": {},
   "outputs": [
    {
     "name": "stdout",
     "output_type": "stream",
     "text": [
      "('categories',)\n",
      "('customer_customer_demo',)\n",
      "('customer_demographics',)\n",
      "('customers',)\n",
      "('employee_territories',)\n",
      "('employees',)\n",
      "('order_details',)\n",
      "('orders',)\n",
      "('products',)\n",
      "('region',)\n",
      "('shippers',)\n",
      "('suppliers',)\n",
      "('territories',)\n"
     ]
    }
   ],
   "source": [
    "# Ejecutamos la query \"SHOW TABLES\" para ver las tablas de la BBDD northwind y las printeamos a través de un for loop.\n",
    "mycursor.execute(\"SHOW TABLES\")\n",
    "tupla_tablas = []\n",
    "lista_tablas = []\n",
    "for x in mycursor:\n",
    "  tupla_tablas.append(x) #apendamos los resultados a una tabla vacía llamada tupla tablas para usarla en el ejercicio siguiente.\n",
    "  lista_tablas.extend(x) #añadimos los resultados a una tabla vacía llamada lista tablas para usarla en el ejercicio siguiente.\n",
    "  print(x)"
   ]
  },
  {
   "cell_type": "markdown",
   "metadata": {},
   "source": [
    "---"
   ]
  },
  {
   "cell_type": "markdown",
   "metadata": {},
   "source": [
    "3. ¿Qué columnas tiene cada una de las tablas? Para esto tendréis que hacer un for loop para que nos saque el resultado de todas las columnas."
   ]
  },
  {
   "cell_type": "code",
   "execution_count": 6,
   "metadata": {},
   "outputs": [
    {
     "ename": "InterfaceError",
     "evalue": "2003: Can't connect to MySQL server on 'localhost:3306' (111 Connection refused)",
     "output_type": "error",
     "traceback": [
      "\u001b[0;31m---------------------------------------------------------------------------\u001b[0m",
      "\u001b[0;31mConnectionRefusedError\u001b[0m                    Traceback (most recent call last)",
      "\u001b[0;32m~/anaconda3/lib/python3.9/site-packages/mysql/connector/network.py\u001b[0m in \u001b[0;36mopen_connection\u001b[0;34m(self)\u001b[0m\n\u001b[1;32m    508\u001b[0m             \u001b[0mself\u001b[0m\u001b[0;34m.\u001b[0m\u001b[0msock\u001b[0m\u001b[0;34m.\u001b[0m\u001b[0msettimeout\u001b[0m\u001b[0;34m(\u001b[0m\u001b[0mself\u001b[0m\u001b[0;34m.\u001b[0m\u001b[0m_connection_timeout\u001b[0m\u001b[0;34m)\u001b[0m\u001b[0;34m\u001b[0m\u001b[0;34m\u001b[0m\u001b[0m\n\u001b[0;32m--> 509\u001b[0;31m             \u001b[0mself\u001b[0m\u001b[0;34m.\u001b[0m\u001b[0msock\u001b[0m\u001b[0;34m.\u001b[0m\u001b[0mconnect\u001b[0m\u001b[0;34m(\u001b[0m\u001b[0msockaddr\u001b[0m\u001b[0;34m)\u001b[0m\u001b[0;34m\u001b[0m\u001b[0;34m\u001b[0m\u001b[0m\n\u001b[0m\u001b[1;32m    510\u001b[0m         \u001b[0;32mexcept\u001b[0m \u001b[0mIOError\u001b[0m \u001b[0;32mas\u001b[0m \u001b[0merr\u001b[0m\u001b[0;34m:\u001b[0m\u001b[0;34m\u001b[0m\u001b[0;34m\u001b[0m\u001b[0m\n",
      "\u001b[0;31mConnectionRefusedError\u001b[0m: [Errno 111] Connection refused",
      "\nDuring handling of the above exception, another exception occurred:\n",
      "\u001b[0;31mInterfaceError\u001b[0m                            Traceback (most recent call last)",
      "\u001b[0;32m/tmp/ipykernel_1904/1462454216.py\u001b[0m in \u001b[0;36m<module>\u001b[0;34m\u001b[0m\n\u001b[1;32m      1\u001b[0m \u001b[0;31m# Para poder ver las columnas de una tabla tenemos que conectarnos al database \"INFORMATION_SCHEMA\"\u001b[0m\u001b[0;34m\u001b[0m\u001b[0;34m\u001b[0m\u001b[0m\n\u001b[0;32m----> 2\u001b[0;31m mydb = mysql.connector.connect(\n\u001b[0m\u001b[1;32m      3\u001b[0m   \u001b[0mhost\u001b[0m\u001b[0;34m=\u001b[0m\u001b[0;34m\"localhost\"\u001b[0m\u001b[0;34m,\u001b[0m\u001b[0;34m\u001b[0m\u001b[0;34m\u001b[0m\u001b[0m\n\u001b[1;32m      4\u001b[0m   \u001b[0muser\u001b[0m\u001b[0;34m=\u001b[0m\u001b[0;34m\"root\"\u001b[0m\u001b[0;34m,\u001b[0m\u001b[0;34m\u001b[0m\u001b[0;34m\u001b[0m\u001b[0m\n\u001b[1;32m      5\u001b[0m   \u001b[0mpassword\u001b[0m\u001b[0;34m=\u001b[0m\u001b[0;34m\"AlumnaAdalab\"\u001b[0m\u001b[0;34m,\u001b[0m\u001b[0;34m\u001b[0m\u001b[0;34m\u001b[0m\u001b[0m\n",
      "\u001b[0;32m~/anaconda3/lib/python3.9/site-packages/mysql/connector/__init__.py\u001b[0m in \u001b[0;36mconnect\u001b[0;34m(*args, **kwargs)\u001b[0m\n\u001b[1;32m    177\u001b[0m         \u001b[0;32mreturn\u001b[0m \u001b[0mCMySQLConnection\u001b[0m\u001b[0;34m(\u001b[0m\u001b[0;34m*\u001b[0m\u001b[0margs\u001b[0m\u001b[0;34m,\u001b[0m \u001b[0;34m**\u001b[0m\u001b[0mkwargs\u001b[0m\u001b[0;34m)\u001b[0m\u001b[0;34m\u001b[0m\u001b[0;34m\u001b[0m\u001b[0m\n\u001b[1;32m    178\u001b[0m     \u001b[0;32melse\u001b[0m\u001b[0;34m:\u001b[0m\u001b[0;34m\u001b[0m\u001b[0;34m\u001b[0m\u001b[0m\n\u001b[0;32m--> 179\u001b[0;31m         \u001b[0;32mreturn\u001b[0m \u001b[0mMySQLConnection\u001b[0m\u001b[0;34m(\u001b[0m\u001b[0;34m*\u001b[0m\u001b[0margs\u001b[0m\u001b[0;34m,\u001b[0m \u001b[0;34m**\u001b[0m\u001b[0mkwargs\u001b[0m\u001b[0;34m)\u001b[0m\u001b[0;34m\u001b[0m\u001b[0;34m\u001b[0m\u001b[0m\n\u001b[0m\u001b[1;32m    180\u001b[0m \u001b[0mConnect\u001b[0m \u001b[0;34m=\u001b[0m \u001b[0mconnect\u001b[0m  \u001b[0;31m# pylint: disable=C0103\u001b[0m\u001b[0;34m\u001b[0m\u001b[0;34m\u001b[0m\u001b[0m\n\u001b[1;32m    181\u001b[0m \u001b[0;34m\u001b[0m\u001b[0m\n",
      "\u001b[0;32m~/anaconda3/lib/python3.9/site-packages/mysql/connector/connection.py\u001b[0m in \u001b[0;36m__init__\u001b[0;34m(self, *args, **kwargs)\u001b[0m\n\u001b[1;32m     93\u001b[0m \u001b[0;34m\u001b[0m\u001b[0m\n\u001b[1;32m     94\u001b[0m         \u001b[0;32mif\u001b[0m \u001b[0mlen\u001b[0m\u001b[0;34m(\u001b[0m\u001b[0mkwargs\u001b[0m\u001b[0;34m)\u001b[0m \u001b[0;34m>\u001b[0m \u001b[0;36m0\u001b[0m\u001b[0;34m:\u001b[0m\u001b[0;34m\u001b[0m\u001b[0;34m\u001b[0m\u001b[0m\n\u001b[0;32m---> 95\u001b[0;31m             \u001b[0mself\u001b[0m\u001b[0;34m.\u001b[0m\u001b[0mconnect\u001b[0m\u001b[0;34m(\u001b[0m\u001b[0;34m**\u001b[0m\u001b[0mkwargs\u001b[0m\u001b[0;34m)\u001b[0m\u001b[0;34m\u001b[0m\u001b[0;34m\u001b[0m\u001b[0m\n\u001b[0m\u001b[1;32m     96\u001b[0m \u001b[0;34m\u001b[0m\u001b[0m\n\u001b[1;32m     97\u001b[0m     \u001b[0;32mdef\u001b[0m \u001b[0m_do_handshake\u001b[0m\u001b[0;34m(\u001b[0m\u001b[0mself\u001b[0m\u001b[0;34m)\u001b[0m\u001b[0;34m:\u001b[0m\u001b[0;34m\u001b[0m\u001b[0;34m\u001b[0m\u001b[0m\n",
      "\u001b[0;32m~/anaconda3/lib/python3.9/site-packages/mysql/connector/abstracts.py\u001b[0m in \u001b[0;36mconnect\u001b[0;34m(self, **kwargs)\u001b[0m\n\u001b[1;32m    714\u001b[0m \u001b[0;34m\u001b[0m\u001b[0m\n\u001b[1;32m    715\u001b[0m         \u001b[0mself\u001b[0m\u001b[0;34m.\u001b[0m\u001b[0mdisconnect\u001b[0m\u001b[0;34m(\u001b[0m\u001b[0;34m)\u001b[0m\u001b[0;34m\u001b[0m\u001b[0;34m\u001b[0m\u001b[0m\n\u001b[0;32m--> 716\u001b[0;31m         \u001b[0mself\u001b[0m\u001b[0;34m.\u001b[0m\u001b[0m_open_connection\u001b[0m\u001b[0;34m(\u001b[0m\u001b[0;34m)\u001b[0m\u001b[0;34m\u001b[0m\u001b[0;34m\u001b[0m\u001b[0m\n\u001b[0m\u001b[1;32m    717\u001b[0m         \u001b[0mself\u001b[0m\u001b[0;34m.\u001b[0m\u001b[0m_post_connection\u001b[0m\u001b[0;34m(\u001b[0m\u001b[0;34m)\u001b[0m\u001b[0;34m\u001b[0m\u001b[0;34m\u001b[0m\u001b[0m\n\u001b[1;32m    718\u001b[0m \u001b[0;34m\u001b[0m\u001b[0m\n",
      "\u001b[0;32m~/anaconda3/lib/python3.9/site-packages/mysql/connector/connection.py\u001b[0m in \u001b[0;36m_open_connection\u001b[0;34m(self)\u001b[0m\n\u001b[1;32m    204\u001b[0m         \u001b[0mself\u001b[0m\u001b[0;34m.\u001b[0m\u001b[0m_protocol\u001b[0m \u001b[0;34m=\u001b[0m \u001b[0mMySQLProtocol\u001b[0m\u001b[0;34m(\u001b[0m\u001b[0;34m)\u001b[0m\u001b[0;34m\u001b[0m\u001b[0;34m\u001b[0m\u001b[0m\n\u001b[1;32m    205\u001b[0m         \u001b[0mself\u001b[0m\u001b[0;34m.\u001b[0m\u001b[0m_socket\u001b[0m \u001b[0;34m=\u001b[0m \u001b[0mself\u001b[0m\u001b[0;34m.\u001b[0m\u001b[0m_get_connection\u001b[0m\u001b[0;34m(\u001b[0m\u001b[0;34m)\u001b[0m\u001b[0;34m\u001b[0m\u001b[0;34m\u001b[0m\u001b[0m\n\u001b[0;32m--> 206\u001b[0;31m         \u001b[0mself\u001b[0m\u001b[0;34m.\u001b[0m\u001b[0m_socket\u001b[0m\u001b[0;34m.\u001b[0m\u001b[0mopen_connection\u001b[0m\u001b[0;34m(\u001b[0m\u001b[0;34m)\u001b[0m\u001b[0;34m\u001b[0m\u001b[0;34m\u001b[0m\u001b[0m\n\u001b[0m\u001b[1;32m    207\u001b[0m         \u001b[0mself\u001b[0m\u001b[0;34m.\u001b[0m\u001b[0m_do_handshake\u001b[0m\u001b[0;34m(\u001b[0m\u001b[0;34m)\u001b[0m\u001b[0;34m\u001b[0m\u001b[0;34m\u001b[0m\u001b[0m\n\u001b[1;32m    208\u001b[0m         self._do_auth(self._user, self._password,\n",
      "\u001b[0;32m~/anaconda3/lib/python3.9/site-packages/mysql/connector/network.py\u001b[0m in \u001b[0;36mopen_connection\u001b[0;34m(self)\u001b[0m\n\u001b[1;32m    509\u001b[0m             \u001b[0mself\u001b[0m\u001b[0;34m.\u001b[0m\u001b[0msock\u001b[0m\u001b[0;34m.\u001b[0m\u001b[0mconnect\u001b[0m\u001b[0;34m(\u001b[0m\u001b[0msockaddr\u001b[0m\u001b[0;34m)\u001b[0m\u001b[0;34m\u001b[0m\u001b[0;34m\u001b[0m\u001b[0m\n\u001b[1;32m    510\u001b[0m         \u001b[0;32mexcept\u001b[0m \u001b[0mIOError\u001b[0m \u001b[0;32mas\u001b[0m \u001b[0merr\u001b[0m\u001b[0;34m:\u001b[0m\u001b[0;34m\u001b[0m\u001b[0;34m\u001b[0m\u001b[0m\n\u001b[0;32m--> 511\u001b[0;31m             raise errors.InterfaceError(\n\u001b[0m\u001b[1;32m    512\u001b[0m                 errno=2003, values=(self.get_address(), _strioerror(err)))\n\u001b[1;32m    513\u001b[0m         \u001b[0;32mexcept\u001b[0m \u001b[0mException\u001b[0m \u001b[0;32mas\u001b[0m \u001b[0merr\u001b[0m\u001b[0;34m:\u001b[0m\u001b[0;34m\u001b[0m\u001b[0;34m\u001b[0m\u001b[0m\n",
      "\u001b[0;31mInterfaceError\u001b[0m: 2003: Can't connect to MySQL server on 'localhost:3306' (111 Connection refused)"
     ]
    }
   ],
   "source": [
    "# Para poder ver las columnas de una tabla tenemos que conectarnos al database \"INFORMATION_SCHEMA\" \n",
    "mydb = mysql.connector.connect(\n",
    "  host=\"localhost\",\n",
    "  user=\"root\",\n",
    "  password=\"AlumnaAdalab\",\n",
    "  database=\"INFORMATION_SCHEMA\" \n",
    "  )\n",
    "\n",
    "mycursor = mydb.cursor()\n",
    "#Creamos la query de consulta para mostrar las columnas de cada tabla\n",
    "query = \"SELECT * FROM COLUMNS WHERE TABLE_NAME = %s\"\n",
    "#Iteramos por los elementos de la lista tuplas tablas que hemos creado en la consulta anterior para saber cuales son las tablas de nuestra base de datos\n",
    "# y para cada tabla iteramos por mycursor para printear las columnas\n",
    "for tabla in tupla_tablas:\n",
    "  mycursor.execute(query, tabla)\n",
    "  \n",
    "  for x in mycursor:\n",
    "    print(f'Las columnas de la tabla {tabla} son {x}')\n",
    "        \n",
    "        \n",
    "mycursor.close()\n",
    "mydb.close() "
   ]
  },
  {
   "cell_type": "code",
   "execution_count": null,
   "metadata": {},
   "outputs": [],
   "source": [
    "mydb = mysql.connector.connect(\n",
    "  host=\"localhost\",\n",
    "  user=\"root\",\n",
    "  password=\"AlumnaAdalab\",\n",
    "  database=\"INFORMATION_SCHEMA\" \n",
    "  )\n",
    "\n",
    "mycursor = mydb.cursor()\n",
    "\n",
    "#Iteramos por los elementos de la lista tablas que hemos creado en la consulta anterior para saber cuales son las tablas de nuestra base de datos\n",
    "# y para cada tabla iteramos por mycursor para printear las columnas\n",
    "\n",
    "for tabla in lista_tablas:\n",
    "  mycursor.execute(f\"SELECT * FROM columns WHERE table_name = '{tabla}'\")\n",
    "   \n",
    "  for x in mycursor:\n",
    "    print(tabla, \"tiene la siguiente informacion:\", x)\n",
    "  \n",
    "\n",
    "\n",
    "mycursor.close()\n",
    "mydb.close() "
   ]
  },
  {
   "cell_type": "markdown",
   "metadata": {},
   "source": [
    "---"
   ]
  },
  {
   "cell_type": "markdown",
   "metadata": {},
   "source": [
    "4. Hagamos unas queries facilitas:\n",
    "- Extraed el primer pedido donde se ha gastado más. Devolved el id del pedido y la cantidad gastada.\n",
    "- Devuelve la misma query que en el anterior ejercicio, pero en este caso devuelve todos los resultados.\n",
    "- Extraed el números de pedidos que se hayan hecho por dia. Devuelve los resultados en una dataframe.\n",
    "- Extraer los pedidos hechos por \"Nancy Daviolo\". Tendréis que hacer una subquery."
   ]
  },
  {
   "cell_type": "code",
   "execution_count": null,
   "metadata": {},
   "outputs": [
    {
     "name": "stdout",
     "output_type": "stream",
     "text": [
      "(10865, 15810.0)\n"
     ]
    }
   ],
   "source": [
    "# Como en la consulta anterior hemos cerrado el conector y la conexión a \"INFORMATION_SCHEMA\" , volvemos a conectarnos a la base de datos northwind y a inicar el conetor\n",
    "mydb = mysql.connector.connect(\n",
    "                  user='root', password='AlumnaAdalab',\n",
    "                  host='127.0.0.1',\n",
    "                  database='northwind')\n",
    "\n",
    "mycursor = mydb.cursor()\n",
    "# Creamos nuestra query para la consulta: Extraed el primer pedido donde se ha gastado más. Devolved el id del pedido y la cantidad gastada.\n",
    "query = \"\"\"SELECT order_id, (quantity * unit_price)\n",
    "            FROM order_details\n",
    "            ORDER BY (quantity * unit_price) DESC\"\"\"\n",
    "\n",
    "mycursor.execute(query)\n",
    "#Como solo queremos el dato donde más se ha gastado usamos fecthone para imprimir solo el primer resultado\n",
    "myresult = mycursor.fetchone()\n",
    "print(myresult)"
   ]
  },
  {
   "cell_type": "code",
   "execution_count": null,
   "metadata": {},
   "outputs": [
    {
     "name": "stdout",
     "output_type": "stream",
     "text": [
      "[(10865, 15810.0), (10981, 15810.0), (10353, 10540.0), (10417, 10540.0), (10889, 10540.0), (10424, 10329.2), (10897, 9903.2), (10372, 8432.0), (10540, 7905.0), (10816, 7905.0), (10817, 7905.0)]\n"
     ]
    }
   ],
   "source": [
    "mydb = mysql.connector.connect(\n",
    "                  user='root', password='AlumnaAdalab',\n",
    "                  host='127.0.0.1',\n",
    "                  database='northwind')\n",
    "\n",
    "mycursor = mydb.cursor()\n",
    "\n",
    "# Creamos nuestra query para la consulta: Devuelve la misma query que en el anterior ejercicio, pero en este caso devuelve todos los resultados.\n",
    "query1 = \"\"\"SELECT order_id, (quantity * unit_price)\n",
    "            FROM order_details\n",
    "            ORDER BY (quantity * unit_price) DESC\"\"\"\n",
    "\n",
    "mycursor.execute(query1)\n",
    "#Para imprimir todos los resultados usamos fetchall\n",
    "myresult1 = mycursor.fetchall()\n",
    "print(myresult1[0:11]) #Filtramos los 10 primeros para que no sea un print demasiado largo\n"
   ]
  },
  {
   "cell_type": "code",
   "execution_count": 7,
   "metadata": {},
   "outputs": [],
   "source": [
    "#importamos pandas para poder usar dataframe\n",
    "import pandas as pd"
   ]
  },
  {
   "cell_type": "code",
   "execution_count": 8,
   "metadata": {},
   "outputs": [
    {
     "data": {
      "text/html": [
       "<div>\n",
       "<style scoped>\n",
       "    .dataframe tbody tr th:only-of-type {\n",
       "        vertical-align: middle;\n",
       "    }\n",
       "\n",
       "    .dataframe tbody tr th {\n",
       "        vertical-align: top;\n",
       "    }\n",
       "\n",
       "    .dataframe thead th {\n",
       "        text-align: right;\n",
       "    }\n",
       "</style>\n",
       "<table border=\"1\" class=\"dataframe\">\n",
       "  <thead>\n",
       "    <tr style=\"text-align: right;\">\n",
       "      <th></th>\n",
       "      <th>Fecha</th>\n",
       "      <th>Numero de pedidos</th>\n",
       "    </tr>\n",
       "  </thead>\n",
       "  <tbody>\n",
       "    <tr>\n",
       "      <th>0</th>\n",
       "      <td>1996-07-04</td>\n",
       "      <td>1</td>\n",
       "    </tr>\n",
       "    <tr>\n",
       "      <th>1</th>\n",
       "      <td>1996-07-05</td>\n",
       "      <td>1</td>\n",
       "    </tr>\n",
       "    <tr>\n",
       "      <th>2</th>\n",
       "      <td>1996-07-08</td>\n",
       "      <td>2</td>\n",
       "    </tr>\n",
       "    <tr>\n",
       "      <th>3</th>\n",
       "      <td>1996-07-09</td>\n",
       "      <td>1</td>\n",
       "    </tr>\n",
       "    <tr>\n",
       "      <th>4</th>\n",
       "      <td>1996-07-10</td>\n",
       "      <td>1</td>\n",
       "    </tr>\n",
       "  </tbody>\n",
       "</table>\n",
       "</div>"
      ],
      "text/plain": [
       "       Fecha  Numero de pedidos\n",
       "0 1996-07-04                  1\n",
       "1 1996-07-05                  1\n",
       "2 1996-07-08                  2\n",
       "3 1996-07-09                  1\n",
       "4 1996-07-10                  1"
      ]
     },
     "execution_count": 8,
     "metadata": {},
     "output_type": "execute_result"
    }
   ],
   "source": [
    "cnx = mysql.connector.connect(user='root', password='AlumnaAdalab',\n",
    "                              host='127.0.0.1',\n",
    "                              database='northwind')\n",
    "\n",
    "mycursor = cnx.cursor()\n",
    "\n",
    "# Creamos nuestra query para la consulta: Extraed el números de pedidos que se hayan hecho por dia.\n",
    "        # Seleccionamos la fecha y el numero de pedidos agrupado por la fecha de pedido.\n",
    "query3 = \"\"\"SELECT order_date, count(distinct order_id)\n",
    "            FROM orders\n",
    "            GROUP BY order_date\"\"\"\n",
    "\n",
    "mycursor.execute(query3)\n",
    "myresult = mycursor.fetchall()\n",
    "\n",
    "# Usamos Dataframe de panda para ver el resultado en formato tabla\n",
    "df = pd.DataFrame(myresult, columns = ['Fecha', 'Numero de pedidos'])\n",
    "df.head()\n"
   ]
  },
  {
   "cell_type": "code",
   "execution_count": null,
   "metadata": {},
   "outputs": [
    {
     "name": "stdout",
     "output_type": "stream",
     "text": [
      "     Numero de pedido Numero de cliente\n",
      "0               10258             ERNSH\n",
      "1               10270             WARTH\n",
      "2               10275             MAGAA\n",
      "3               10285             QUICK\n",
      "4               10292             TRADH\n",
      "..                ...               ...\n",
      "118             11064             SAVEA\n",
      "119             11067             DRACD\n",
      "120             11069             TORTU\n",
      "121             11071             LILAS\n",
      "122             11077             RATTC\n",
      "\n",
      "[123 rows x 2 columns]\n"
     ]
    }
   ],
   "source": [
    "cnx = mysql.connector.connect(user='root', password='AlumnaAdalab',\n",
    "                              host='127.0.0.1',\n",
    "                              database='northwind')\n",
    "\n",
    "mycursor = cnx.cursor()\n",
    "\n",
    "# Creamos nuestra query para la consulta: Extraer los pedidos hechos por \"Nancy Daviolo\". \n",
    "        # Seleccionamos el numero depedido y de cliente filtrando en el where donde el id de empleado sea Nancy Daviolio\n",
    "query4 = \"\"\"SELECT order_id, customer_id\n",
    "            FROM orders\n",
    "            WHERE employee_id IN(\n",
    "\t\t                        SELECT first_name = 'Nancy' AND last_name = 'Davolio'\n",
    "                                FROM employees); \"\"\"\n",
    "\n",
    "mycursor.execute(query4)\n",
    "myresult = mycursor.fetchall()\n",
    "\n",
    "# Usamos Dataframe de panda para ver el resultado en formato tabla\n",
    "df1 = pd.DataFrame(myresult, columns = ['Numero de pedido', 'Numero de cliente'])\n",
    "df1.head()"
   ]
  },
  {
   "cell_type": "markdown",
   "metadata": {},
   "source": [
    "---"
   ]
  },
  {
   "cell_type": "markdown",
   "metadata": {},
   "source": [
    "\n",
    "5. Para finalizar el ejercicio, desconectad la conexión con el servidor."
   ]
  },
  {
   "cell_type": "code",
   "execution_count": null,
   "metadata": {},
   "outputs": [],
   "source": [
    "# Cerramos la conexión con el conector y con el servidor\n",
    "mycursor.close()\n",
    "mydb.close()  "
   ]
  }
 ],
 "metadata": {
  "kernelspec": {
   "display_name": "Python 3.8.10 64-bit (microsoft store)",
   "language": "python",
   "name": "python3"
  },
  "language_info": {
   "codemirror_mode": {
    "name": "ipython",
    "version": 3
   },
   "file_extension": ".py",
   "mimetype": "text/x-python",
   "name": "python",
   "nbconvert_exporter": "python",
   "pygments_lexer": "ipython3",
   "version": "3.8.10"
  },
  "orig_nbformat": 4,
  "vscode": {
   "interpreter": {
    "hash": "79dd3c927003417683b619f87ecd0018a9d7de8be3a2646bb47397e38116df1b"
   }
  }
 },
 "nbformat": 4,
 "nbformat_minor": 2
}
