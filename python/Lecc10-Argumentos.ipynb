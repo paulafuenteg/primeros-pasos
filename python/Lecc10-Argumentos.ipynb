{
 "cells": [
  {
   "cell_type": "markdown",
   "metadata": {},
   "source": [
    "### PAIR PROGRAMMING - CLASES\n",
    "---\n",
    "\n",
    "Imaginemos que nuestro jefe nos pide que creemos una clase para tener más ordenada la información sobre cada uno de los empleados de la empresa. Para ello:\n",
    "Definid una clase que se llame **Empleados**\n",
    "\n",
    "1. Definid los siguientes **atributos** que caracterizan a nuestros empleados:\n",
    "- nombre\n",
    "- apellido\n",
    "- edad\n",
    "- posición que ocupa en la empresa\n",
    "- año en que entró en la empresa\n",
    "- número de días de vacaciones que tiene\n",
    "- Las herramientas que usa cada uno de ellos, por ejemplo, Outlook, excel y word. Deberá ser una lista. Cread una instancia para la clase creada\n",
    "\n",
    "\n",
    "2. Definid los siguientes **métodos**:\n",
    "- descripción\n",
    "- calculo_vacaciones\n",
    "- cambiando_posicion\n",
    "\n",
    "\n",
    "\n",
    "    *Tips para definir los métodos:*\n",
    "\n",
    "    Método **descripcion**:\n",
    "\n",
    "    - El return deberá ser un string en el que aparezca el nombre, apellidos, los años que lleva en la empresa y los días de vacaciones que le quedan. \n",
    "    - Este método deberá devolver algo como esto: \"El/ella, es Lorena, Data Analyst, quien lleva con nostros en la empresa desde 2000. Además este año le quedan 15 dias de vacaciones\"\n",
    "\n",
    "    Método **calculo_vacaciones**:\n",
    "    - Deberá contener input que nos pregunte cuántos días te quieres ir de vacaciones.\n",
    "    - Luego deberemos restar el número de días que se fue de vacaciones a el número total de vacaciones que tiene ese empleado.\n",
    "    - Una condición que chequee si:\n",
    "        - Si el numero de vacaciones que tiene el empleado es igual a 0, devolved un mensaje que diga que se le acabaron las vacaciones\n",
    "        - Si el número de días que se quiere ir de vacaciones es mayor que el número de vacaciones que le quedan, devolved un mensaje que diga que no se puede ir tantos de vacaciones\n",
    "        - En caso de que no se cumplan ninguna de estas condiciones, que nos devuelva el número de vacaciones que le quedan al empleado.\n",
    "\n",
    "    Método **cambiando_posicion**:\n",
    "    - Iteraremos por la lista de herramientas que usa el empleado:\n",
    "        - Si el empleado usa \"Python\" devolveremos un mensaje de bien hecho!\n",
    "        - Si el empleado usa \"Excel\" le recomendaremos amigablemente que deje excel y empiece a usar Excel\n",
    "\n",
    "\n",
    "---"
   ]
  },
  {
   "cell_type": "code",
   "execution_count": 1,
   "metadata": {},
   "outputs": [],
   "source": [
    "class Empleados:\n",
    "    # Definimos las instancias/propiedades de la clase entre paréntesis y construimos el método constructor\n",
    "    def __init__(self, nombre, apellido, edad, puesto, año_inicio, vacaciones,list_herramientas):\n",
    "        self.nombre = nombre\n",
    "        self.apellido = apellido\n",
    "        self.edad = edad\n",
    "        self.puesto = puesto\n",
    "        self.año_inicio = año_inicio\n",
    "        self.vacaciones = vacaciones\n",
    "        self.list_herramientas = list_herramientas\n",
    "\n",
    "    \n",
    "    # Definimos los métodos con las funciones que definen al objeto/empleado:\n",
    "\n",
    "    ## El método descripción nos devuelve un string con el nombre, apellido, el puesto, los años que lleva en la empresa y los días de vacaciones que le quedan.\n",
    "\n",
    "    def descripcion(self):\n",
    "        return f'El/ella, es {self.nombre} {self.apellido}, {self.puesto}, quien lleva con nostros en la empresa desde {self.año_inicio}. Además este año le quedan {self.vacaciones} dias de vacaciones'\n",
    "\n",
    "\n",
    "    ## Método calculo_vacaciones:\n",
    "        # Creamos un input que pregunte cuántos días te quieres ir de vacaciones. Según los datos introducidos en el input:\n",
    "            # if: Si el número de vacaciones es 0, le devuelve un mensaje informándole de que no te quedan vacaciones.\n",
    "            # elif: Si quiere más vacaciones de las que le quedan, le devuelve un mensaje de no te quedan tantos días de vacaciones e informando de los que le quedan.\n",
    "            # else: Si no se cumplen las condiciones anteriores, le devuelve el número de vacaciones que le quedan.\n",
    "\n",
    "    def calculo_vacaciones (self):\n",
    "        solicud_vacaciones = int(input('¿Cuántos días te quieres coger de vacaciones?'))\n",
    "        if self.vacaciones == 0:\n",
    "            return f'No te quedan vacaciones'\n",
    "        elif solicud_vacaciones > self.vacaciones:\n",
    "            return f'No te quedan tantos días de vacaciones. Te quedan solo {self.vacaciones} días'\n",
    "        else:   \n",
    "            self.vacaciones -= solicud_vacaciones\n",
    "            return f'Perfecto, todavía te quedan {self.vacaciones} días para disfrutar'\n",
    "\n",
    "    ## Método cambiando_posicion:\n",
    "        # for: Iteramos por la lista de herramientas que usa el empleado\n",
    "        # if: Si el empleado usa Python devolveremos un mensaje de ¡bien hecho!, programación defensiva con .tittle para poder recibir el input en mayúscula o en minúscula.\n",
    "        # if: Si el empleado usa Excel le recomendaremos probar a usar Python\n",
    " \n",
    "    def cambiando_posicion (self):\n",
    "        for herramienta in self.list_herramientas:\n",
    "            if herramienta.title() == 'Python':\n",
    "                return f'¡Bien hecho!'\n",
    "            if herramienta.title() == 'Excel':\n",
    "                return f'¿Porque no pruebas a usar Python?'\n",
    "    "
   ]
  },
  {
   "cell_type": "code",
   "execution_count": 36,
   "metadata": {},
   "outputs": [],
   "source": [
    "# Llamamos a la clase poniendo entre paréntesis los parámetros/variables que pusimos en el constructor. \n",
    "# Instanciamos por empleado1\n",
    "\n",
    "empleado1 = Empleados('Lorena', 'Lopez', '35', 'Data Analyst', 2000, 15, ['excel', 'Word'])"
   ]
  },
  {
   "cell_type": "code",
   "execution_count": 30,
   "metadata": {},
   "outputs": [
    {
     "data": {
      "text/plain": [
       "'Lorena'"
      ]
     },
     "execution_count": 30,
     "metadata": {},
     "output_type": "execute_result"
    }
   ],
   "source": [
    "empleado1.nombre"
   ]
  },
  {
   "cell_type": "code",
   "execution_count": 31,
   "metadata": {},
   "outputs": [
    {
     "data": {
      "text/plain": [
       "'Lopez'"
      ]
     },
     "execution_count": 31,
     "metadata": {},
     "output_type": "execute_result"
    }
   ],
   "source": [
    "empleado1.apellido"
   ]
  },
  {
   "cell_type": "code",
   "execution_count": 37,
   "metadata": {},
   "outputs": [
    {
     "data": {
      "text/plain": [
       "'El/ella, es Lorena Lopez, Data Analyst, quien lleva con nostros en la empresa desde 2000. Además este año le quedan 15 dias de vacaciones'"
      ]
     },
     "execution_count": 37,
     "metadata": {},
     "output_type": "execute_result"
    }
   ],
   "source": [
    "# Probamos el método descripción\n",
    "\n",
    "empleado1.descripcion()"
   ]
  },
  {
   "cell_type": "code",
   "execution_count": 41,
   "metadata": {},
   "outputs": [
    {
     "data": {
      "text/plain": [
       "'No te quedan tantos días de vacaciones. Te quedan solo 3 días'"
      ]
     },
     "execution_count": 41,
     "metadata": {},
     "output_type": "execute_result"
    }
   ],
   "source": [
    "# Probamos el método calculo_vacaciones con las tres condiciones en las siguientes celdas\n",
    "\n",
    "empleado1.calculo_vacaciones()"
   ]
  },
  {
   "cell_type": "code",
   "execution_count": 42,
   "metadata": {},
   "outputs": [
    {
     "data": {
      "text/plain": [
       "'No te quedan tantos días de vacaciones. Te quedan solo 3 días'"
      ]
     },
     "execution_count": 42,
     "metadata": {},
     "output_type": "execute_result"
    }
   ],
   "source": [
    "empleado1.calculo_vacaciones()"
   ]
  },
  {
   "cell_type": "code",
   "execution_count": 43,
   "metadata": {},
   "outputs": [
    {
     "data": {
      "text/plain": [
       "'No te quedan tantos días de vacaciones. Te quedan solo 3 días'"
      ]
     },
     "execution_count": 43,
     "metadata": {},
     "output_type": "execute_result"
    }
   ],
   "source": [
    "empleado1.calculo_vacaciones()"
   ]
  },
  {
   "cell_type": "code",
   "execution_count": 44,
   "metadata": {},
   "outputs": [
    {
     "data": {
      "text/plain": [
       "'¿Porque no pruebas a usar Python?'"
      ]
     },
     "execution_count": 44,
     "metadata": {},
     "output_type": "execute_result"
    }
   ],
   "source": [
    "# Probamos el método cambiando_posicion\n",
    "\n",
    "empleado1.cambiando_posicion()"
   ]
  }
 ],
 "metadata": {
  "kernelspec": {
   "display_name": "Python 3.8.10 64-bit (microsoft store)",
   "language": "python",
   "name": "python3"
  },
  "language_info": {
   "codemirror_mode": {
    "name": "ipython",
    "version": 3
   },
   "file_extension": ".py",
   "mimetype": "text/x-python",
   "name": "python",
   "nbconvert_exporter": "python",
   "pygments_lexer": "ipython3",
   "version": "3.8.10"
  },
  "orig_nbformat": 4,
  "vscode": {
   "interpreter": {
    "hash": "79dd3c927003417683b619f87ecd0018a9d7de8be3a2646bb47397e38116df1b"
   }
  }
 },
 "nbformat": 4,
 "nbformat_minor": 2
}
