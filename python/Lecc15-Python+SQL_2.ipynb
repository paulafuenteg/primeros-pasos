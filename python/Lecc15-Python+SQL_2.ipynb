{
 "cells": [
  {
   "cell_type": "markdown",
   "metadata": {},
   "source": [
    "### PAIR PROGRAMMING PYTHON + SQL 2\n",
    "---"
   ]
  },
  {
   "cell_type": "markdown",
   "metadata": {},
   "source": [
    "**Objetivos**\n",
    "\n",
    "Durante la clase de pair programming de ayer nos creamos nuestra primerita BBDD desde cero en Workbench. En el ejercicio de hoy volveremos a crear esa misma BBDD, pero esta vez desde Python.\n",
    "\n",
    "-NOTA: Cambiad el nombre de la BBDD a mi_primerita_BBDD_Python\n",
    "\n",
    "-NOTA: Cuando creeis las distintas tablas de vuestra BBDD repetereis la mismas lineas de código una y otra vez. \n",
    "\n",
    "Para evitar esto, crearos una función que nos sirva para crear tablas independientemente del contenido de la tabla. La función recibirá como parámetros:\n",
    "\n",
    " - Contraseña de la conexión al servidor.\n",
    "\n",
    " - Query para crear la tabla."
   ]
  },
  {
   "cell_type": "code",
   "execution_count": 1,
   "metadata": {},
   "outputs": [
    {
     "name": "stdout",
     "output_type": "stream",
     "text": [
      "1007 (HY000): Can't create database 'mi_primerita_bbdd_python'; database exists\n",
      "Error Code: 1007\n",
      "SQLSTATE HY000\n",
      "Message Can't create database 'mi_primerita_bbdd_python'; database exists\n"
     ]
    }
   ],
   "source": [
    "# Estamos creando la BBDD mediante la query CREATE DATABASE tras habernos conectado al servidor y crear el cursor\n",
    "\n",
    "import mysql.connector\n",
    "\n",
    "cnx = mysql.connector.connect(user='root', password='AlumnaAdalab',\n",
    "                              host='127.0.0.1')\n",
    "\n",
    "\n",
    "mycursor = cnx.cursor()\n",
    "try:\n",
    "    mycursor.execute(\"CREATE DATABASE mi_primerita_BBDD_Python\")\n",
    "    print(mycursor)\n",
    "except mysql.connector.Error as err:\n",
    "    print(err)\n",
    "    print(\"Error Code:\", err.errno)\n",
    "    print(\"SQLSTATE\", err.sqlstate)\n",
    "    print(\"Message\", err.msg)"
   ]
  },
  {
   "cell_type": "code",
   "execution_count": 7,
   "metadata": {},
   "outputs": [],
   "source": [
    "# Definimos una función para crear las tablas de la base de datos que recibirá dos parámetros, \n",
    "# la constraseña del servidor y la query de la tabla que queremos crear.\n",
    "\n",
    "\n",
    "def crear_tabla_sql(contraseña, query): \n",
    "\n",
    "    cnx = mysql.connector.connect(user='root', password = contraseña ,\n",
    "                                host='127.0.0.1', database ='mi_primerita_BBDD_Python')\n",
    "\n",
    "\n",
    "    mycursor = cnx.cursor()\n",
    "\n",
    "    try:\n",
    "        mycursor.execute(query)\n",
    "        print(mycursor)\n",
    "    except mysql.connector.Error as err:\n",
    "        print(err)\n",
    "        print(\"Error Code:\", err.errno)\n",
    "        print(\"SQLSTATE\", err.sqlstate)\n",
    "        print(\"Message\", err.msg)\n",
    "\n",
    "    mycursor.close()\n",
    "    cnx.close()\n",
    "       "
   ]
  },
  {
   "cell_type": "code",
   "execution_count": 8,
   "metadata": {},
   "outputs": [
    {
     "name": "stdout",
     "output_type": "stream",
     "text": [
      "MySQLCursor: CREATE TABLE Tabla_Zapatillas \n",
      "         ..\n"
     ]
    }
   ],
   "source": [
    " # Definimos la query de creación de tabla con todas las columnas y requisitos de las mismas. \n",
    " # Llamamos a la función dándole los parámetros.\n",
    " # Esto lo haremos cuatro veces creando las cuatro tablas de la BBDD. \n",
    "\n",
    "query_tabla_zapatillas = (\"\"\"CREATE TABLE  IF NOT EXISTS Tabla_Zapatillas \n",
    "                            (id_zapatilla INT NOT NULL AUTO_INCREMENT PRIMARY KEY, \n",
    "                            modelo VARCHAR(45) NOT NULL,\n",
    "                            color VARCHAR(45) NOT NULL, \n",
    "                            talla INT NOT NULL)\"\"\")\n",
    "\n",
    "crear_tabla_sql('AlumnaAdalab', query_tabla_zapatillas)\n"
   ]
  },
  {
   "cell_type": "code",
   "execution_count": 9,
   "metadata": {},
   "outputs": [
    {
     "name": "stdout",
     "output_type": "stream",
     "text": [
      "MySQLCursor: CREATE TABLE tabla_clientes (\n",
      "          ..\n"
     ]
    }
   ],
   "source": [
    "query_tabla_clientes = (\"\"\"CREATE TABLE  IF NOT EXISTS tabla_clientes (\n",
    "                            id_cliente INT NOT NULL AUTO_INCREMENT PRIMARY KEY,\n",
    "                            nombre VARCHAR(45) NOT NULL ,\n",
    "                            numero_telefono INT(9) NOT NULL , \n",
    "                            email  VARCHAR(45) NOT NULL , \n",
    "                            direccion VARCHAR(45) NOT NULL , \n",
    "                            ciudad VARCHAR(45) DEFAULT NULL , \n",
    "                            provincia VARCHAR(45) NOT NULL , \n",
    "                            pais VARCHAR(45) NOT NULL , \n",
    "                            codigo_postal INT(45) NOT NULL)\"\"\")\n",
    "\n",
    "crear_tabla_sql('AlumnaAdalab', query_tabla_clientes)"
   ]
  },
  {
   "cell_type": "code",
   "execution_count": 10,
   "metadata": {},
   "outputs": [
    {
     "name": "stdout",
     "output_type": "stream",
     "text": [
      "MySQLCursor: CREATE TABLE tabla_empleados (\n",
      "         ..\n"
     ]
    }
   ],
   "source": [
    "query_tabla_empleados = (\"\"\"CREATE TABLE  IF NOT EXISTS tabla_empleados (\n",
    "                            id_empleado INT NOT NULL AUTO_INCREMENT PRIMARY KEY,\n",
    "                            nombre VARCHAR(45) NOT NULL , \n",
    "                            tienda VARCHAR(45) NOT NULL , \n",
    "                            salario INT DEFAULT NULL , \n",
    "                            fecha_incorporacion DATE NOT NULL\n",
    "                            )\"\"\")\n",
    "\n",
    "crear_tabla_sql('AlumnaAdalab', query_tabla_empleados)"
   ]
  },
  {
   "cell_type": "code",
   "execution_count": 11,
   "metadata": {},
   "outputs": [
    {
     "name": "stdout",
     "output_type": "stream",
     "text": [
      "MySQLCursor: CREATE TABLE IF NOT EXISTS `tabla_factur..\n"
     ]
    }
   ],
   "source": [
    "query_tabla_facturas = (\"\"\"CREATE TABLE IF NOT EXISTS `tabla_facturas` (\n",
    "                            id_factura INT NOT NULL AUTO_INCREMENT PRIMARY KEY,\n",
    "                            numero_factura INT(45) NOT NULL ,\n",
    "                            fecha DATE NOT NULL ,\n",
    "                            id_zapatilla INT NOT NULL ,\n",
    "                            id_empleado INT NOT NULL ,\n",
    "                            id_cliente INT NOT NULL , \n",
    "                            CONSTRAINT fk_tabla_facturas_tabla_zapatillas\n",
    "                            FOREIGN KEY (id_zapatilla)\n",
    "                            REFERENCES tabla_zapatillas (id_zapatilla),\n",
    "                            CONSTRAINT fk_tabla_facturas_tabla_empleado\n",
    "                            FOREIGN KEY (id_empleado)\n",
    "                            REFERENCES tabla_empleados (id_empleado),\n",
    "                            CONSTRAINT fk_tabla_facturas_tabla_cliente\n",
    "                            FOREIGN KEY (id_cliente)\n",
    "                            REFERENCES tabla_clientes (id_cliente)\n",
    "                            )\"\"\")\n",
    "\n",
    "crear_tabla_sql('AlumnaAdalab', query_tabla_facturas)"
   ]
  }
 ],
 "metadata": {
  "kernelspec": {
   "display_name": "Python 3.8.10 64-bit (microsoft store)",
   "language": "python",
   "name": "python3"
  },
  "language_info": {
   "codemirror_mode": {
    "name": "ipython",
    "version": 3
   },
   "file_extension": ".py",
   "mimetype": "text/x-python",
   "name": "python",
   "nbconvert_exporter": "python",
   "pygments_lexer": "ipython3",
   "version": "3.8.10"
  },
  "orig_nbformat": 4,
  "vscode": {
   "interpreter": {
    "hash": "79dd3c927003417683b619f87ecd0018a9d7de8be3a2646bb47397e38116df1b"
   }
  }
 },
 "nbformat": 4,
 "nbformat_minor": 2
}
